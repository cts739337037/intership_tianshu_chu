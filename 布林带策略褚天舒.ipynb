{
 "cells": [
  {
   "cell_type": "markdown",
   "metadata": {},
   "source": [
    "根据布林带制定均值回归策略。金融20170924褚天舒\n",
    "\n",
    "* （a）导出ptSl=[0，2]和t1的元标签，其中numDays=1。计算的每日标准偏差作为trgt。\n",
    "* （b）训练随机森林，以决定是否进行交易。可用作特征：波动性、相关性和交叉移动平均线。\n",
    "* （c）从原始模型预测的准确度是多少？（即，如果二级模型不过滤头寸）准确度、召回率和FI-scores是多少？\n",
    "* （d）原始模型的预测精度如何？准确度、召回率和FI-scores是多少？"
   ]
  },
  {
   "cell_type": "code",
   "execution_count": 83,
   "metadata": {},
   "outputs": [],
   "source": [
    "# Import the Hudson and Thames MlFinLab package\n",
    "import mlfinlab as ml #这个安装了很久，需要安装cvxpy和一堆其他的，换了台电脑不熟悉，一直报错"
   ]
  },
  {
   "cell_type": "code",
   "execution_count": 84,
   "metadata": {},
   "outputs": [],
   "source": [
    "import warnings\n",
    "warnings.filterwarnings(\"ignore\")"
   ]
  },
  {
   "cell_type": "code",
   "execution_count": 4,
   "metadata": {},
   "outputs": [],
   "source": [
    "import numpy as np\n",
    "import pandas as pd\n",
    "import pyfolio as pf\n",
    "import timeit\n",
    "\n",
    "from sklearn.utils import resample\n",
    "from sklearn.utils import shuffle\n",
    "from sklearn.ensemble import RandomForestClassifier\n",
    "from sklearn.model_selection import train_test_split\n",
    "\n",
    "from sklearn.metrics import roc_curve\n",
    "from sklearn.metrics import classification_report\n",
    "from sklearn.metrics import confusion_matrix\n",
    "from sklearn.metrics import accuracy_score\n",
    "\n",
    "from sklearn.model_selection import cross_val_score\n",
    "from sklearn.model_selection import GridSearchCV\n",
    "\n",
    "from sklearn.preprocessing import StandardScaler \n",
    "from sklearn.decomposition import PCA\n",
    "\n",
    "import matplotlib.pyplot as plt\n",
    "%matplotlib inline "
   ]
  },
  {
   "cell_type": "markdown",
   "metadata": {},
   "source": [
    "# 加载数据"
   ]
  },
  {
   "cell_type": "code",
   "execution_count": 5,
   "metadata": {},
   "outputs": [],
   "source": [
    "# Read in data\n",
    "data = pd.read_csv('sample_dollar_bars.csv')#等额抽样\n",
    "data.index = pd.to_datetime(data['date_time'])\n",
    "data = data.drop('date_time', axis=1)"
   ]
  },
  {
   "cell_type": "code",
   "execution_count": 6,
   "metadata": {},
   "outputs": [
    {
     "data": {
      "text/html": [
       "<div>\n",
       "<style scoped>\n",
       "    .dataframe tbody tr th:only-of-type {\n",
       "        vertical-align: middle;\n",
       "    }\n",
       "\n",
       "    .dataframe tbody tr th {\n",
       "        vertical-align: top;\n",
       "    }\n",
       "\n",
       "    .dataframe thead th {\n",
       "        text-align: right;\n",
       "    }\n",
       "</style>\n",
       "<table border=\"1\" class=\"dataframe\">\n",
       "  <thead>\n",
       "    <tr style=\"text-align: right;\">\n",
       "      <th></th>\n",
       "      <th>open</th>\n",
       "      <th>high</th>\n",
       "      <th>low</th>\n",
       "      <th>close</th>\n",
       "      <th>cum_vol</th>\n",
       "      <th>cum_dollar</th>\n",
       "      <th>cum_ticks</th>\n",
       "    </tr>\n",
       "    <tr>\n",
       "      <th>date_time</th>\n",
       "      <th></th>\n",
       "      <th></th>\n",
       "      <th></th>\n",
       "      <th></th>\n",
       "      <th></th>\n",
       "      <th></th>\n",
       "      <th></th>\n",
       "    </tr>\n",
       "  </thead>\n",
       "  <tbody>\n",
       "    <tr>\n",
       "      <th>2011-07-31 23:31:58.810</th>\n",
       "      <td>1306.00</td>\n",
       "      <td>1308.75</td>\n",
       "      <td>1301.75</td>\n",
       "      <td>1305.75</td>\n",
       "      <td>53658</td>\n",
       "      <td>70035704.75</td>\n",
       "      <td>14115</td>\n",
       "    </tr>\n",
       "    <tr>\n",
       "      <th>2011-08-01 02:55:17.443</th>\n",
       "      <td>1305.75</td>\n",
       "      <td>1309.50</td>\n",
       "      <td>1304.00</td>\n",
       "      <td>1306.50</td>\n",
       "      <td>53552</td>\n",
       "      <td>70006277.00</td>\n",
       "      <td>15422</td>\n",
       "    </tr>\n",
       "    <tr>\n",
       "      <th>2011-08-01 07:25:56.319</th>\n",
       "      <td>1306.75</td>\n",
       "      <td>1309.75</td>\n",
       "      <td>1304.75</td>\n",
       "      <td>1305.00</td>\n",
       "      <td>53543</td>\n",
       "      <td>70000901.00</td>\n",
       "      <td>14727</td>\n",
       "    </tr>\n",
       "    <tr>\n",
       "      <th>2011-08-01 08:33:10.903</th>\n",
       "      <td>1305.00</td>\n",
       "      <td>1305.00</td>\n",
       "      <td>1299.00</td>\n",
       "      <td>1300.00</td>\n",
       "      <td>53830</td>\n",
       "      <td>70094217.75</td>\n",
       "      <td>14987</td>\n",
       "    </tr>\n",
       "    <tr>\n",
       "      <th>2011-08-01 10:51:41.842</th>\n",
       "      <td>1300.00</td>\n",
       "      <td>1307.75</td>\n",
       "      <td>1299.00</td>\n",
       "      <td>1307.75</td>\n",
       "      <td>53734</td>\n",
       "      <td>70033006.25</td>\n",
       "      <td>14499</td>\n",
       "    </tr>\n",
       "    <tr>\n",
       "      <th>...</th>\n",
       "      <td>...</td>\n",
       "      <td>...</td>\n",
       "      <td>...</td>\n",
       "      <td>...</td>\n",
       "      <td>...</td>\n",
       "      <td>...</td>\n",
       "      <td>...</td>\n",
       "    </tr>\n",
       "    <tr>\n",
       "      <th>2012-07-30 12:30:28.642</th>\n",
       "      <td>1379.25</td>\n",
       "      <td>1380.00</td>\n",
       "      <td>1377.50</td>\n",
       "      <td>1377.75</td>\n",
       "      <td>50843</td>\n",
       "      <td>70116589.50</td>\n",
       "      <td>17923</td>\n",
       "    </tr>\n",
       "    <tr>\n",
       "      <th>2012-07-30 13:29:21.258</th>\n",
       "      <td>1377.75</td>\n",
       "      <td>1380.00</td>\n",
       "      <td>1377.00</td>\n",
       "      <td>1379.25</td>\n",
       "      <td>50782</td>\n",
       "      <td>70014483.25</td>\n",
       "      <td>14040</td>\n",
       "    </tr>\n",
       "    <tr>\n",
       "      <th>2012-07-30 13:35:05.407</th>\n",
       "      <td>1379.25</td>\n",
       "      <td>1383.25</td>\n",
       "      <td>1379.00</td>\n",
       "      <td>1382.50</td>\n",
       "      <td>50675</td>\n",
       "      <td>70001889.25</td>\n",
       "      <td>12017</td>\n",
       "    </tr>\n",
       "    <tr>\n",
       "      <th>2012-07-30 13:43:43.711</th>\n",
       "      <td>1382.50</td>\n",
       "      <td>1383.25</td>\n",
       "      <td>1380.00</td>\n",
       "      <td>1381.00</td>\n",
       "      <td>50667</td>\n",
       "      <td>70002243.75</td>\n",
       "      <td>13904</td>\n",
       "    </tr>\n",
       "    <tr>\n",
       "      <th>2012-07-30 13:54:26.158</th>\n",
       "      <td>1380.75</td>\n",
       "      <td>1381.75</td>\n",
       "      <td>1379.75</td>\n",
       "      <td>1380.75</td>\n",
       "      <td>50698</td>\n",
       "      <td>70007575.25</td>\n",
       "      <td>12706</td>\n",
       "    </tr>\n",
       "  </tbody>\n",
       "</table>\n",
       "<p>10000 rows × 7 columns</p>\n",
       "</div>"
      ],
      "text/plain": [
       "                            open     high      low    close  cum_vol  \\\n",
       "date_time                                                              \n",
       "2011-07-31 23:31:58.810  1306.00  1308.75  1301.75  1305.75    53658   \n",
       "2011-08-01 02:55:17.443  1305.75  1309.50  1304.00  1306.50    53552   \n",
       "2011-08-01 07:25:56.319  1306.75  1309.75  1304.75  1305.00    53543   \n",
       "2011-08-01 08:33:10.903  1305.00  1305.00  1299.00  1300.00    53830   \n",
       "2011-08-01 10:51:41.842  1300.00  1307.75  1299.00  1307.75    53734   \n",
       "...                          ...      ...      ...      ...      ...   \n",
       "2012-07-30 12:30:28.642  1379.25  1380.00  1377.50  1377.75    50843   \n",
       "2012-07-30 13:29:21.258  1377.75  1380.00  1377.00  1379.25    50782   \n",
       "2012-07-30 13:35:05.407  1379.25  1383.25  1379.00  1382.50    50675   \n",
       "2012-07-30 13:43:43.711  1382.50  1383.25  1380.00  1381.00    50667   \n",
       "2012-07-30 13:54:26.158  1380.75  1381.75  1379.75  1380.75    50698   \n",
       "\n",
       "                          cum_dollar  cum_ticks  \n",
       "date_time                                        \n",
       "2011-07-31 23:31:58.810  70035704.75      14115  \n",
       "2011-08-01 02:55:17.443  70006277.00      15422  \n",
       "2011-08-01 07:25:56.319  70000901.00      14727  \n",
       "2011-08-01 08:33:10.903  70094217.75      14987  \n",
       "2011-08-01 10:51:41.842  70033006.25      14499  \n",
       "...                              ...        ...  \n",
       "2012-07-30 12:30:28.642  70116589.50      17923  \n",
       "2012-07-30 13:29:21.258  70014483.25      14040  \n",
       "2012-07-30 13:35:05.407  70001889.25      12017  \n",
       "2012-07-30 13:43:43.711  70002243.75      13904  \n",
       "2012-07-30 13:54:26.158  70007575.25      12706  \n",
       "\n",
       "[10000 rows x 7 columns]"
      ]
     },
     "execution_count": 6,
     "metadata": {},
     "output_type": "execute_result"
    }
   ],
   "source": [
    "data"
   ]
  },
  {
   "cell_type": "markdown",
   "metadata": {},
   "source": [
    "#### RSI的原理简单来说是以数字计算的方法求出买卖双方的力量对比，譬如有100个人面对一件商品，如果50个人以上要买，竞相抬价，商品价格必涨。相反，如果50个人以上争着卖出，价格自然下跌。强弱指标理论认为，任何市价的大涨或大跌，均在0-100之间变动，根据常态分配，认为RSI值多在30-70之间变动，通常80甚至90时被认为市场已到达超买状态，至此市场价格自然会回落调整。当价格低跌至30以下即被认为是超卖状态，市价将出现反弹回升。"
   ]
  },
  {
   "cell_type": "code",
   "execution_count": 7,
   "metadata": {},
   "outputs": [],
   "source": [
    "def bbands(close_prices, window, no_of_stdev):#布林带\n",
    "    # rolling_mean = close_prices.rolling(window=window).mean()移动均值\n",
    "    # rolling_std = close_prices.rolling(window=window).std()\n",
    "    rolling_mean = close_prices.ewm(span=window).mean()#指数加权滑动\n",
    "    rolling_std = close_prices.ewm(span=window).std()\n",
    "\n",
    "    upper_band = rolling_mean + (rolling_std * no_of_stdev)\n",
    "    lower_band = rolling_mean - (rolling_std * no_of_stdev)\n",
    "\n",
    "    return rolling_mean, upper_band, lower_band"
   ]
  },
  {
   "cell_type": "markdown",
   "metadata": {},
   "source": [
    "## 拟合主要模型：基于均值回归的布林带策略。\n"
   ]
  },
  {
   "cell_type": "code",
   "execution_count": 8,
   "metadata": {},
   "outputs": [
    {
     "data": {
      "text/html": [
       "<div>\n",
       "<style scoped>\n",
       "    .dataframe tbody tr th:only-of-type {\n",
       "        vertical-align: middle;\n",
       "    }\n",
       "\n",
       "    .dataframe tbody tr th {\n",
       "        vertical-align: top;\n",
       "    }\n",
       "\n",
       "    .dataframe thead th {\n",
       "        text-align: right;\n",
       "    }\n",
       "</style>\n",
       "<table border=\"1\" class=\"dataframe\">\n",
       "  <thead>\n",
       "    <tr style=\"text-align: right;\">\n",
       "      <th></th>\n",
       "      <th>open</th>\n",
       "      <th>high</th>\n",
       "      <th>low</th>\n",
       "      <th>close</th>\n",
       "      <th>cum_vol</th>\n",
       "      <th>cum_dollar</th>\n",
       "      <th>cum_ticks</th>\n",
       "      <th>avg</th>\n",
       "      <th>upper</th>\n",
       "      <th>lower</th>\n",
       "    </tr>\n",
       "    <tr>\n",
       "      <th>date_time</th>\n",
       "      <th></th>\n",
       "      <th></th>\n",
       "      <th></th>\n",
       "      <th></th>\n",
       "      <th></th>\n",
       "      <th></th>\n",
       "      <th></th>\n",
       "      <th></th>\n",
       "      <th></th>\n",
       "      <th></th>\n",
       "    </tr>\n",
       "  </thead>\n",
       "  <tbody>\n",
       "    <tr>\n",
       "      <th>2012-05-11 10:24:29.981</th>\n",
       "      <td>1351.00</td>\n",
       "      <td>1353.75</td>\n",
       "      <td>1348.75</td>\n",
       "      <td>1350.75</td>\n",
       "      <td>51806</td>\n",
       "      <td>70000598.00</td>\n",
       "      <td>17586</td>\n",
       "      <td>1353.822004</td>\n",
       "      <td>1359.891373</td>\n",
       "      <td>1347.752634</td>\n",
       "    </tr>\n",
       "    <tr>\n",
       "      <th>2012-06-25 14:19:05.963</th>\n",
       "      <td>1308.75</td>\n",
       "      <td>1310.25</td>\n",
       "      <td>1307.50</td>\n",
       "      <td>1307.75</td>\n",
       "      <td>53515</td>\n",
       "      <td>70033514.00</td>\n",
       "      <td>13551</td>\n",
       "      <td>1315.543437</td>\n",
       "      <td>1326.722029</td>\n",
       "      <td>1304.364845</td>\n",
       "    </tr>\n",
       "    <tr>\n",
       "      <th>2012-04-10 14:08:42.762</th>\n",
       "      <td>1374.00</td>\n",
       "      <td>1374.25</td>\n",
       "      <td>1372.25</td>\n",
       "      <td>1373.25</td>\n",
       "      <td>50981</td>\n",
       "      <td>70008912.75</td>\n",
       "      <td>11416</td>\n",
       "      <td>1376.659423</td>\n",
       "      <td>1381.890211</td>\n",
       "      <td>1371.428634</td>\n",
       "    </tr>\n",
       "    <tr>\n",
       "      <th>2011-08-01 19:40:12.561</th>\n",
       "      <td>1279.25</td>\n",
       "      <td>1284.75</td>\n",
       "      <td>1279.00</td>\n",
       "      <td>1283.25</td>\n",
       "      <td>54603</td>\n",
       "      <td>70000056.25</td>\n",
       "      <td>8851</td>\n",
       "      <td>1278.366234</td>\n",
       "      <td>1285.868914</td>\n",
       "      <td>1270.863553</td>\n",
       "    </tr>\n",
       "    <tr>\n",
       "      <th>2012-07-20 15:23:31.360</th>\n",
       "      <td>1363.50</td>\n",
       "      <td>1364.50</td>\n",
       "      <td>1361.50</td>\n",
       "      <td>1362.75</td>\n",
       "      <td>51365</td>\n",
       "      <td>70001193.75</td>\n",
       "      <td>11832</td>\n",
       "      <td>1364.576955</td>\n",
       "      <td>1369.436763</td>\n",
       "      <td>1359.717148</td>\n",
       "    </tr>\n",
       "    <tr>\n",
       "      <th>2012-03-22 14:10:04.224</th>\n",
       "      <td>1388.50</td>\n",
       "      <td>1390.75</td>\n",
       "      <td>1387.50</td>\n",
       "      <td>1389.25</td>\n",
       "      <td>50384</td>\n",
       "      <td>70006898.00</td>\n",
       "      <td>12783</td>\n",
       "      <td>1392.046186</td>\n",
       "      <td>1399.365670</td>\n",
       "      <td>1384.726703</td>\n",
       "    </tr>\n",
       "    <tr>\n",
       "      <th>2011-11-01 11:03:24.580</th>\n",
       "      <td>1226.25</td>\n",
       "      <td>1229.00</td>\n",
       "      <td>1222.50</td>\n",
       "      <td>1224.75</td>\n",
       "      <td>57136</td>\n",
       "      <td>70002797.25</td>\n",
       "      <td>17946</td>\n",
       "      <td>1243.828544</td>\n",
       "      <td>1264.748754</td>\n",
       "      <td>1222.908333</td>\n",
       "    </tr>\n",
       "    <tr>\n",
       "      <th>2012-03-08 18:28:42.024</th>\n",
       "      <td>1364.75</td>\n",
       "      <td>1365.50</td>\n",
       "      <td>1364.00</td>\n",
       "      <td>1364.25</td>\n",
       "      <td>51293</td>\n",
       "      <td>70002242.00</td>\n",
       "      <td>11170</td>\n",
       "      <td>1360.518794</td>\n",
       "      <td>1367.567391</td>\n",
       "      <td>1353.470197</td>\n",
       "    </tr>\n",
       "    <tr>\n",
       "      <th>2012-04-05 10:50:58.126</th>\n",
       "      <td>1385.50</td>\n",
       "      <td>1387.25</td>\n",
       "      <td>1384.00</td>\n",
       "      <td>1387.00</td>\n",
       "      <td>50522</td>\n",
       "      <td>70005606.25</td>\n",
       "      <td>14896</td>\n",
       "      <td>1392.462396</td>\n",
       "      <td>1398.402538</td>\n",
       "      <td>1386.522255</td>\n",
       "    </tr>\n",
       "    <tr>\n",
       "      <th>2011-08-30 20:13:20.405</th>\n",
       "      <td>1209.50</td>\n",
       "      <td>1210.00</td>\n",
       "      <td>1205.25</td>\n",
       "      <td>1206.75</td>\n",
       "      <td>57951</td>\n",
       "      <td>70000818.50</td>\n",
       "      <td>10433</td>\n",
       "      <td>1209.861512</td>\n",
       "      <td>1217.561459</td>\n",
       "      <td>1202.161564</td>\n",
       "    </tr>\n",
       "  </tbody>\n",
       "</table>\n",
       "</div>"
      ],
      "text/plain": [
       "                            open     high      low    close  cum_vol  \\\n",
       "date_time                                                              \n",
       "2012-05-11 10:24:29.981  1351.00  1353.75  1348.75  1350.75    51806   \n",
       "2012-06-25 14:19:05.963  1308.75  1310.25  1307.50  1307.75    53515   \n",
       "2012-04-10 14:08:42.762  1374.00  1374.25  1372.25  1373.25    50981   \n",
       "2011-08-01 19:40:12.561  1279.25  1284.75  1279.00  1283.25    54603   \n",
       "2012-07-20 15:23:31.360  1363.50  1364.50  1361.50  1362.75    51365   \n",
       "2012-03-22 14:10:04.224  1388.50  1390.75  1387.50  1389.25    50384   \n",
       "2011-11-01 11:03:24.580  1226.25  1229.00  1222.50  1224.75    57136   \n",
       "2012-03-08 18:28:42.024  1364.75  1365.50  1364.00  1364.25    51293   \n",
       "2012-04-05 10:50:58.126  1385.50  1387.25  1384.00  1387.00    50522   \n",
       "2011-08-30 20:13:20.405  1209.50  1210.00  1205.25  1206.75    57951   \n",
       "\n",
       "                          cum_dollar  cum_ticks          avg        upper  \\\n",
       "date_time                                                                   \n",
       "2012-05-11 10:24:29.981  70000598.00      17586  1353.822004  1359.891373   \n",
       "2012-06-25 14:19:05.963  70033514.00      13551  1315.543437  1326.722029   \n",
       "2012-04-10 14:08:42.762  70008912.75      11416  1376.659423  1381.890211   \n",
       "2011-08-01 19:40:12.561  70000056.25       8851  1278.366234  1285.868914   \n",
       "2012-07-20 15:23:31.360  70001193.75      11832  1364.576955  1369.436763   \n",
       "2012-03-22 14:10:04.224  70006898.00      12783  1392.046186  1399.365670   \n",
       "2011-11-01 11:03:24.580  70002797.25      17946  1243.828544  1264.748754   \n",
       "2012-03-08 18:28:42.024  70002242.00      11170  1360.518794  1367.567391   \n",
       "2012-04-05 10:50:58.126  70005606.25      14896  1392.462396  1398.402538   \n",
       "2011-08-30 20:13:20.405  70000818.50      10433  1209.861512  1217.561459   \n",
       "\n",
       "                               lower  \n",
       "date_time                             \n",
       "2012-05-11 10:24:29.981  1347.752634  \n",
       "2012-06-25 14:19:05.963  1304.364845  \n",
       "2012-04-10 14:08:42.762  1371.428634  \n",
       "2011-08-01 19:40:12.561  1270.863553  \n",
       "2012-07-20 15:23:31.360  1359.717148  \n",
       "2012-03-22 14:10:04.224  1384.726703  \n",
       "2011-11-01 11:03:24.580  1222.908333  \n",
       "2012-03-08 18:28:42.024  1353.470197  \n",
       "2012-04-05 10:50:58.126  1386.522255  \n",
       "2011-08-30 20:13:20.405  1202.161564  "
      ]
     },
     "execution_count": 8,
     "metadata": {},
     "output_type": "execute_result"
    }
   ],
   "source": [
    "# compute bands\n",
    "window = 20\n",
    "data['avg'], data['upper'], data['lower'] = bbands(data['close'], window, no_of_stdev=1.5)\n",
    "data.sample(10)#20天平均线加减1.5标准差"
   ]
  },
  {
   "cell_type": "code",
   "execution_count": 9,
   "metadata": {},
   "outputs": [
    {
     "name": "stdout",
     "output_type": "stream",
     "text": [
      " 1.0    332\n",
      "-1.0    315\n",
      "Name: side, dtype: int64\n"
     ]
    }
   ],
   "source": [
    "# Compute sides\n",
    "data['side'] = np.nan \n",
    "\n",
    "long_signals = (data['close'] <= data['lower']) \n",
    "short_signals = (data['close'] >= data['upper']) \n",
    "\n",
    "data.loc[long_signals, 'side'] = 1\n",
    "data.loc[short_signals, 'side'] = -1\n",
    "\n",
    "print(data.side.value_counts())\n",
    "\n",
    "# Remove Look ahead biase by lagging the signal\n",
    "data['side'] = data['side'].shift(1)#通过滞后信号消除前瞻性偏差，往后一次，统计击穿次数"
   ]
  },
  {
   "cell_type": "code",
   "execution_count": 11,
   "metadata": {},
   "outputs": [
    {
     "data": {
      "text/plain": [
       "date_time\n",
       "2011-07-31 23:31:58.810    False\n",
       "2011-08-01 02:55:17.443    False\n",
       "2011-08-01 07:25:56.319    False\n",
       "2011-08-01 08:33:10.903    False\n",
       "2011-08-01 10:51:41.842    False\n",
       "                           ...  \n",
       "2012-07-30 12:30:28.642    False\n",
       "2012-07-30 13:29:21.258    False\n",
       "2012-07-30 13:35:05.407    False\n",
       "2012-07-30 13:43:43.711    False\n",
       "2012-07-30 13:54:26.158    False\n",
       "Length: 10000, dtype: bool"
      ]
     },
     "execution_count": 11,
     "metadata": {},
     "output_type": "execute_result"
    }
   ],
   "source": [
    "long_signals"
   ]
  },
  {
   "cell_type": "code",
   "execution_count": 92,
   "metadata": {},
   "outputs": [],
   "source": [
    "# Save the raw data\n",
    "raw_data = data.copy()\n",
    "\n",
    "# Drop the NaN values from our data set\n",
    "data.dropna(axis=0, how='any', inplace=True)#删去空值"
   ]
  },
  {
   "cell_type": "code",
   "execution_count": 93,
   "metadata": {},
   "outputs": [
    {
     "name": "stdout",
     "output_type": "stream",
     "text": [
      " 1.0    330\n",
      "-1.0    315\n",
      "Name: side, dtype: int64\n"
     ]
    }
   ],
   "source": [
    "print(data.side.value_counts())"
   ]
  },
  {
   "cell_type": "markdown",
   "metadata": {},
   "source": [
    "### 事件: CUSUM Filter  预测触发CUSUM事件时将发生什么。使用MAvg策略的信号来确定头寸的方向。"
   ]
  },
  {
   "cell_type": "code",
   "execution_count": 94,
   "metadata": {},
   "outputs": [],
   "source": [
    "# Compute daily volatility日波动率\n",
    "daily_vol = ml.util.get_daily_vol(close=data['close'], lookback=20)\n",
    "\n",
    "# Apply Symmetric CUSUM Filter and get timestamps for events\n",
    "# Note: Only the CUSUM filter needs a point estimate for volatility\n",
    "cusum_events = ml.filters.cusum_filter(data['close'], threshold=daily_vol['2011-09-01':'2018-01-01'].mean() * 0.1)\n",
    "\n",
    "# Compute vertical barrier竖直隔栏\n",
    "vertical_barriers = ml.labeling.add_vertical_barrier(t_events=cusum_events, close=data['close'], num_days=1)"
   ]
  },
  {
   "cell_type": "code",
   "execution_count": 95,
   "metadata": {},
   "outputs": [
    {
     "name": "stderr",
     "output_type": "stream",
     "text": [
      "2020-03-26 15:19:49.222422 100.0% apply_pt_sl_on_t1 done after 0.1 minutes. Remaining 0.0 minutes.\n"
     ]
    }
   ],
   "source": [
    "pt_sl = [0, 2]#隔栏有效状态，不止盈，有期限\n",
    "min_ret = 0.0005\n",
    "triple_barrier_events = ml.labeling.get_events(close=data['close'],\n",
    "                                               t_events=cusum_events,\n",
    "                                               pt_sl=pt_sl,\n",
    "                                               target=daily_vol,\n",
    "                                               min_ret=min_ret,\n",
    "                                               num_threads=2,\n",
    "                                               vertical_barrier_times=vertical_barriers,\n",
    "                                               side_prediction=data['side'])"
   ]
  },
  {
   "cell_type": "code",
   "execution_count": 96,
   "metadata": {},
   "outputs": [
    {
     "data": {
      "text/plain": [
       " 1.0    244\n",
       "-1.0    232\n",
       "Name: side, dtype: int64"
      ]
     },
     "execution_count": 96,
     "metadata": {},
     "output_type": "execute_result"
    }
   ],
   "source": [
    "labels = ml.labeling.get_bins(triple_barrier_events, data['close'])\n",
    "labels.side.value_counts()"
   ]
  },
  {
   "cell_type": "markdown",
   "metadata": {},
   "source": [
    "### 主模型结果"
   ]
  },
  {
   "cell_type": "code",
   "execution_count": 97,
   "metadata": {},
   "outputs": [
    {
     "name": "stdout",
     "output_type": "stream",
     "text": [
      "              precision    recall  f1-score   support\n",
      "\n",
      "           0       0.00      0.00      0.00       278\n",
      "           1       0.42      1.00      0.59       198\n",
      "\n",
      "    accuracy                           0.42       476\n",
      "   macro avg       0.21      0.50      0.29       476\n",
      "weighted avg       0.17      0.42      0.24       476\n",
      "\n",
      "Confusion Matrix\n",
      "[[  0 278]\n",
      " [  0 198]]\n",
      "\n",
      "Accuracy\n",
      "0.41596638655462187\n"
     ]
    }
   ],
   "source": [
    "primary_forecast = pd.DataFrame(labels['bin'])\n",
    "primary_forecast['pred'] = 1\n",
    "primary_forecast.columns = ['actual', 'pred']\n",
    "\n",
    "# Performance Metrics\n",
    "actual = primary_forecast['actual']\n",
    "pred = primary_forecast['pred']\n",
    "print(classification_report(y_true=actual, y_pred=pred))#宏平均计算出每一个类的Precison和Recall后计算F1，最后将F1平均。\n",
    "\n",
    "print(\"Confusion Matrix\")\n",
    "print(confusion_matrix(actual, pred))\n",
    "\n",
    "print('')\n",
    "print(\"Accuracy\")\n",
    "print(accuracy_score(actual, pred))"
   ]
  },
  {
   "cell_type": "markdown",
   "metadata": {},
   "source": [
    "* 类不平衡——更多的被归类为“不交易”\n",
    "* 元标记表明有许多假阳性\n",
    "* sklearn的混淆矩阵是[[TN，FP][FN，TP]]"
   ]
  },
  {
   "cell_type": "markdown",
   "metadata": {},
   "source": [
    "## 拟合元模型\n",
    "\n",
    "训练随机森林来决定是否交易（即分别为1或0），因为前面的模型已经决定了方向（-1或1）\n",
    "创建以下特征：\n",
    "* 波动性\n",
    "* 序列相关性\n",
    "* 相关序列在不同滞后下的收益\n",
    "* SMavg战略的各方"
   ]
  },
  {
   "cell_type": "code",
   "execution_count": 98,
   "metadata": {},
   "outputs": [
    {
     "data": {
      "text/html": [
       "<div>\n",
       "<style scoped>\n",
       "    .dataframe tbody tr th:only-of-type {\n",
       "        vertical-align: middle;\n",
       "    }\n",
       "\n",
       "    .dataframe tbody tr th {\n",
       "        vertical-align: top;\n",
       "    }\n",
       "\n",
       "    .dataframe thead th {\n",
       "        text-align: right;\n",
       "    }\n",
       "</style>\n",
       "<table border=\"1\" class=\"dataframe\">\n",
       "  <thead>\n",
       "    <tr style=\"text-align: right;\">\n",
       "      <th></th>\n",
       "      <th>open</th>\n",
       "      <th>high</th>\n",
       "      <th>low</th>\n",
       "      <th>close</th>\n",
       "      <th>cum_vol</th>\n",
       "      <th>cum_dollar</th>\n",
       "      <th>cum_ticks</th>\n",
       "      <th>avg</th>\n",
       "      <th>upper</th>\n",
       "      <th>lower</th>\n",
       "      <th>rsi</th>\n",
       "      <th>side</th>\n",
       "    </tr>\n",
       "    <tr>\n",
       "      <th>date_time</th>\n",
       "      <th></th>\n",
       "      <th></th>\n",
       "      <th></th>\n",
       "      <th></th>\n",
       "      <th></th>\n",
       "      <th></th>\n",
       "      <th></th>\n",
       "      <th></th>\n",
       "      <th></th>\n",
       "      <th></th>\n",
       "      <th></th>\n",
       "      <th></th>\n",
       "    </tr>\n",
       "  </thead>\n",
       "  <tbody>\n",
       "    <tr>\n",
       "      <th>2011-08-01 13:56:56.220</th>\n",
       "      <td>1293.25</td>\n",
       "      <td>1294.00</td>\n",
       "      <td>1292.00</td>\n",
       "      <td>1292.25</td>\n",
       "      <td>54159</td>\n",
       "      <td>70025279.50</td>\n",
       "      <td>12010</td>\n",
       "      <td>1299.274139</td>\n",
       "      <td>1306.997503</td>\n",
       "      <td>1291.550774</td>\n",
       "      <td>13.0</td>\n",
       "      <td>NaN</td>\n",
       "    </tr>\n",
       "    <tr>\n",
       "      <th>2011-08-01 14:00:21.448</th>\n",
       "      <td>1292.25</td>\n",
       "      <td>1292.75</td>\n",
       "      <td>1286.75</td>\n",
       "      <td>1286.75</td>\n",
       "      <td>54266</td>\n",
       "      <td>70000564.25</td>\n",
       "      <td>10157</td>\n",
       "      <td>1297.739330</td>\n",
       "      <td>1307.398685</td>\n",
       "      <td>1288.079975</td>\n",
       "      <td>9.0</td>\n",
       "      <td>NaN</td>\n",
       "    </tr>\n",
       "    <tr>\n",
       "      <th>2011-08-01 14:01:38.747</th>\n",
       "      <td>1286.75</td>\n",
       "      <td>1287.00</td>\n",
       "      <td>1284.00</td>\n",
       "      <td>1284.50</td>\n",
       "      <td>54475</td>\n",
       "      <td>70034099.00</td>\n",
       "      <td>8778</td>\n",
       "      <td>1296.160007</td>\n",
       "      <td>1307.414979</td>\n",
       "      <td>1284.905035</td>\n",
       "      <td>7.0</td>\n",
       "      <td>1.0</td>\n",
       "    </tr>\n",
       "    <tr>\n",
       "      <th>2011-08-01 14:03:22.782</th>\n",
       "      <td>1284.50</td>\n",
       "      <td>1285.00</td>\n",
       "      <td>1278.75</td>\n",
       "      <td>1279.00</td>\n",
       "      <td>54589</td>\n",
       "      <td>70000494.25</td>\n",
       "      <td>10823</td>\n",
       "      <td>1294.161065</td>\n",
       "      <td>1307.765012</td>\n",
       "      <td>1280.557117</td>\n",
       "      <td>5.0</td>\n",
       "      <td>1.0</td>\n",
       "    </tr>\n",
       "    <tr>\n",
       "      <th>2011-08-01 14:04:31.604</th>\n",
       "      <td>1279.00</td>\n",
       "      <td>1281.50</td>\n",
       "      <td>1276.00</td>\n",
       "      <td>1276.00</td>\n",
       "      <td>55049</td>\n",
       "      <td>70397187.25</td>\n",
       "      <td>10651</td>\n",
       "      <td>1292.089531</td>\n",
       "      <td>1307.714068</td>\n",
       "      <td>1276.464995</td>\n",
       "      <td>5.0</td>\n",
       "      <td>1.0</td>\n",
       "    </tr>\n",
       "  </tbody>\n",
       "</table>\n",
       "</div>"
      ],
      "text/plain": [
       "                            open     high      low    close  cum_vol  \\\n",
       "date_time                                                              \n",
       "2011-08-01 13:56:56.220  1293.25  1294.00  1292.00  1292.25    54159   \n",
       "2011-08-01 14:00:21.448  1292.25  1292.75  1286.75  1286.75    54266   \n",
       "2011-08-01 14:01:38.747  1286.75  1287.00  1284.00  1284.50    54475   \n",
       "2011-08-01 14:03:22.782  1284.50  1285.00  1278.75  1279.00    54589   \n",
       "2011-08-01 14:04:31.604  1279.00  1281.50  1276.00  1276.00    55049   \n",
       "\n",
       "                          cum_dollar  cum_ticks          avg        upper  \\\n",
       "date_time                                                                   \n",
       "2011-08-01 13:56:56.220  70025279.50      12010  1299.274139  1306.997503   \n",
       "2011-08-01 14:00:21.448  70000564.25      10157  1297.739330  1307.398685   \n",
       "2011-08-01 14:01:38.747  70034099.00       8778  1296.160007  1307.414979   \n",
       "2011-08-01 14:03:22.782  70000494.25      10823  1294.161065  1307.765012   \n",
       "2011-08-01 14:04:31.604  70397187.25      10651  1292.089531  1307.714068   \n",
       "\n",
       "                               lower   rsi  side  \n",
       "date_time                                         \n",
       "2011-08-01 13:56:56.220  1291.550774  13.0   NaN  \n",
       "2011-08-01 14:00:21.448  1288.079975   9.0   NaN  \n",
       "2011-08-01 14:01:38.747  1284.905035   7.0   1.0  \n",
       "2011-08-01 14:03:22.782  1280.557117   5.0   1.0  \n",
       "2011-08-01 14:04:31.604  1276.464995   5.0   1.0  "
      ]
     },
     "execution_count": 98,
     "metadata": {},
     "output_type": "execute_result"
    }
   ],
   "source": [
    "raw_data.head()"
   ]
  },
  {
   "cell_type": "markdown",
   "metadata": {},
   "source": [
    "## 特征"
   ]
  },
  {
   "cell_type": "code",
   "execution_count": 99,
   "metadata": {},
   "outputs": [],
   "source": [
    "# Log Returns\n",
    "raw_data['log_ret'] = np.log(raw_data['close']).diff()\n",
    "\n",
    "# Momentum动量\n",
    "raw_data['mom1'] = raw_data['close'].pct_change(periods=1)\n",
    "raw_data['mom2'] = raw_data['close'].pct_change(periods=2)\n",
    "raw_data['mom3'] = raw_data['close'].pct_change(periods=3)\n",
    "raw_data['mom4'] = raw_data['close'].pct_change(periods=4)\n",
    "raw_data['mom5'] = raw_data['close'].pct_change(periods=5)\n",
    "raw_data['mom6'] = raw_data['close'].pct_change(periods=6)\n",
    "\n",
    "# Volatility\n",
    "window_stdev = 20\n",
    "raw_data['volatility'] = raw_data['log_ret'].rolling(window=window_stdev, min_periods=window_stdev, center=False).std()\n",
    "\n",
    "# Serial Correlation (Takes about 4 minutes)序列相关，lag为延迟\n",
    "window_autocorr = 20\n",
    "\n",
    "raw_data['autocorr_1'] = raw_data['log_ret'].rolling(window=window_autocorr, min_periods=window_autocorr, center=False).apply(lambda x: x.autocorr(lag=1), raw=False)\n",
    "raw_data['autocorr_2'] = raw_data['log_ret'].rolling(window=window_autocorr, min_periods=window_autocorr, center=False).apply(lambda x: x.autocorr(lag=2), raw=False)\n",
    "raw_data['autocorr_3'] = raw_data['log_ret'].rolling(window=window_autocorr, min_periods=window_autocorr, center=False).apply(lambda x: x.autocorr(lag=3), raw=False)\n",
    "raw_data['autocorr_4'] = raw_data['log_ret'].rolling(window=window_autocorr, min_periods=window_autocorr, center=False).apply(lambda x: x.autocorr(lag=4), raw=False)\n",
    "raw_data['autocorr_5'] = raw_data['log_ret'].rolling(window=window_autocorr, min_periods=window_autocorr, center=False).apply(lambda x: x.autocorr(lag=5), raw=False)\n",
    "raw_data['autocorr_6'] = raw_data['log_ret'].rolling(window=window_autocorr, min_periods=window_autocorr, center=False).apply(lambda x: x.autocorr(lag=6), raw=False)\n",
    "\n",
    "# Get the various log -t returns\n",
    "raw_data['log_t1'] = raw_data['log_ret'].shift(1)\n",
    "raw_data['log_t2'] = raw_data['log_ret'].shift(2)\n",
    "raw_data['log_t3'] = raw_data['log_ret'].shift(3)\n",
    "raw_data['log_t4'] = raw_data['log_ret'].shift(4)\n",
    "raw_data['log_t5'] = raw_data['log_ret'].shift(5)\n",
    "\n",
    "# Add fast and slow moving averages\n",
    "fast_window = 12\n",
    "slow_window = 26\n",
    "\n",
    "raw_data['fast_mavg'] = raw_data['close'].rolling(window=fast_window, min_periods=fast_window, center=False).mean()\n",
    "raw_data['slow_mavg'] = raw_data['close'].rolling(window=slow_window, min_periods=slow_window, center=False).mean()"
   ]
  },
  {
   "cell_type": "code",
   "execution_count": 100,
   "metadata": {},
   "outputs": [],
   "source": [
    "# Add Trending signals  macd\n",
    "raw_data['sma'] = np.nan\n",
    "\n",
    "long_signals = raw_data['fast_mavg'] >= raw_data['slow_mavg']\n",
    "short_signals = raw_data['fast_mavg'] < raw_data['slow_mavg']\n",
    "raw_data.loc[long_signals, 'sma'] = 1\n",
    "raw_data.loc[short_signals, 'sma'] = -1"
   ]
  },
  {
   "cell_type": "code",
   "execution_count": 101,
   "metadata": {},
   "outputs": [],
   "source": [
    "# Re compute sides\n",
    "raw_data['side'] = np.nan\n",
    "\n",
    "long_signals = raw_data['close'] <= raw_data['lower'] \n",
    "short_signals = raw_data['close'] >= raw_data['upper'] \n",
    "\n",
    "raw_data.loc[long_signals, 'side'] = 1\n",
    "raw_data.loc[short_signals, 'side'] = -1"
   ]
  },
  {
   "cell_type": "code",
   "execution_count": 102,
   "metadata": {},
   "outputs": [],
   "source": [
    "# Remove look ahead bias\n",
    "raw_data = raw_data.shift(1)"
   ]
  },
  {
   "cell_type": "markdown",
   "metadata": {},
   "source": [
    "#### 获取指定事件的数据"
   ]
  },
  {
   "cell_type": "code",
   "execution_count": 103,
   "metadata": {},
   "outputs": [
    {
     "data": {
      "text/html": [
       "<div>\n",
       "<style scoped>\n",
       "    .dataframe tbody tr th:only-of-type {\n",
       "        vertical-align: middle;\n",
       "    }\n",
       "\n",
       "    .dataframe tbody tr th {\n",
       "        vertical-align: top;\n",
       "    }\n",
       "\n",
       "    .dataframe thead th {\n",
       "        text-align: right;\n",
       "    }\n",
       "</style>\n",
       "<table border=\"1\" class=\"dataframe\">\n",
       "  <thead>\n",
       "    <tr style=\"text-align: right;\">\n",
       "      <th></th>\n",
       "      <th>rsi</th>\n",
       "      <th>side</th>\n",
       "      <th>log_ret</th>\n",
       "      <th>mom1</th>\n",
       "      <th>mom2</th>\n",
       "      <th>mom3</th>\n",
       "      <th>mom4</th>\n",
       "      <th>mom5</th>\n",
       "      <th>mom6</th>\n",
       "      <th>volatility</th>\n",
       "      <th>...</th>\n",
       "      <th>autocorr_3</th>\n",
       "      <th>autocorr_4</th>\n",
       "      <th>autocorr_5</th>\n",
       "      <th>autocorr_6</th>\n",
       "      <th>log_t1</th>\n",
       "      <th>log_t2</th>\n",
       "      <th>log_t3</th>\n",
       "      <th>log_t4</th>\n",
       "      <th>log_t5</th>\n",
       "      <th>sma</th>\n",
       "    </tr>\n",
       "  </thead>\n",
       "  <tbody>\n",
       "    <tr>\n",
       "      <th>2011-08-02 17:02:16.995</th>\n",
       "      <td>16.0</td>\n",
       "      <td>1.0</td>\n",
       "      <td>-0.000990</td>\n",
       "      <td>-0.000990</td>\n",
       "      <td>-0.004339</td>\n",
       "      <td>-0.005516</td>\n",
       "      <td>-0.006299</td>\n",
       "      <td>-0.004732</td>\n",
       "      <td>-0.005320</td>\n",
       "      <td>0.001208</td>\n",
       "      <td>...</td>\n",
       "      <td>-0.250441</td>\n",
       "      <td>0.257479</td>\n",
       "      <td>-0.024303</td>\n",
       "      <td>-0.440645</td>\n",
       "      <td>-0.003359</td>\n",
       "      <td>-0.001183</td>\n",
       "      <td>-0.000788</td>\n",
       "      <td>0.001576</td>\n",
       "      <td>-0.000591</td>\n",
       "      <td>-1.0</td>\n",
       "    </tr>\n",
       "    <tr>\n",
       "      <th>2011-08-02 18:06:11.084</th>\n",
       "      <td>19.0</td>\n",
       "      <td>1.0</td>\n",
       "      <td>-0.002381</td>\n",
       "      <td>-0.002379</td>\n",
       "      <td>-0.002971</td>\n",
       "      <td>-0.005533</td>\n",
       "      <td>-0.005925</td>\n",
       "      <td>-0.005336</td>\n",
       "      <td>-0.002971</td>\n",
       "      <td>0.001455</td>\n",
       "      <td>...</td>\n",
       "      <td>-0.426201</td>\n",
       "      <td>-0.055423</td>\n",
       "      <td>0.153338</td>\n",
       "      <td>-0.108872</td>\n",
       "      <td>-0.000594</td>\n",
       "      <td>-0.002572</td>\n",
       "      <td>-0.000395</td>\n",
       "      <td>0.000593</td>\n",
       "      <td>0.002374</td>\n",
       "      <td>-1.0</td>\n",
       "    </tr>\n",
       "    <tr>\n",
       "      <th>2011-08-03 14:27:33.970</th>\n",
       "      <td>26.0</td>\n",
       "      <td>1.0</td>\n",
       "      <td>-0.003217</td>\n",
       "      <td>-0.003212</td>\n",
       "      <td>-0.005608</td>\n",
       "      <td>-0.007199</td>\n",
       "      <td>-0.008190</td>\n",
       "      <td>-0.008982</td>\n",
       "      <td>-0.006205</td>\n",
       "      <td>0.002017</td>\n",
       "      <td>...</td>\n",
       "      <td>-0.158916</td>\n",
       "      <td>-0.190979</td>\n",
       "      <td>-0.075624</td>\n",
       "      <td>0.023092</td>\n",
       "      <td>-0.002406</td>\n",
       "      <td>-0.001601</td>\n",
       "      <td>-0.000999</td>\n",
       "      <td>-0.000799</td>\n",
       "      <td>0.002798</td>\n",
       "      <td>-1.0</td>\n",
       "    </tr>\n",
       "    <tr>\n",
       "      <th>2011-08-03 14:37:04.871</th>\n",
       "      <td>24.0</td>\n",
       "      <td>1.0</td>\n",
       "      <td>-0.002624</td>\n",
       "      <td>-0.002620</td>\n",
       "      <td>-0.004627</td>\n",
       "      <td>-0.003424</td>\n",
       "      <td>-0.006625</td>\n",
       "      <td>-0.009013</td>\n",
       "      <td>-0.010598</td>\n",
       "      <td>0.002055</td>\n",
       "      <td>...</td>\n",
       "      <td>0.019419</td>\n",
       "      <td>-0.113745</td>\n",
       "      <td>-0.010705</td>\n",
       "      <td>0.102100</td>\n",
       "      <td>-0.002014</td>\n",
       "      <td>0.001208</td>\n",
       "      <td>-0.003217</td>\n",
       "      <td>-0.002406</td>\n",
       "      <td>-0.001601</td>\n",
       "      <td>-1.0</td>\n",
       "    </tr>\n",
       "    <tr>\n",
       "      <th>2011-08-03 17:48:20.242</th>\n",
       "      <td>76.0</td>\n",
       "      <td>-1.0</td>\n",
       "      <td>0.004200</td>\n",
       "      <td>0.004208</td>\n",
       "      <td>0.007439</td>\n",
       "      <td>0.010079</td>\n",
       "      <td>0.008655</td>\n",
       "      <td>0.011302</td>\n",
       "      <td>0.012119</td>\n",
       "      <td>0.002137</td>\n",
       "      <td>...</td>\n",
       "      <td>0.153260</td>\n",
       "      <td>0.236590</td>\n",
       "      <td>-0.046550</td>\n",
       "      <td>-0.350620</td>\n",
       "      <td>0.003212</td>\n",
       "      <td>0.002617</td>\n",
       "      <td>-0.001410</td>\n",
       "      <td>0.002620</td>\n",
       "      <td>0.000808</td>\n",
       "      <td>1.0</td>\n",
       "    </tr>\n",
       "  </tbody>\n",
       "</table>\n",
       "<p>5 rows × 22 columns</p>\n",
       "</div>"
      ],
      "text/plain": [
       "                          rsi  side   log_ret      mom1      mom2      mom3  \\\n",
       "2011-08-02 17:02:16.995  16.0   1.0 -0.000990 -0.000990 -0.004339 -0.005516   \n",
       "2011-08-02 18:06:11.084  19.0   1.0 -0.002381 -0.002379 -0.002971 -0.005533   \n",
       "2011-08-03 14:27:33.970  26.0   1.0 -0.003217 -0.003212 -0.005608 -0.007199   \n",
       "2011-08-03 14:37:04.871  24.0   1.0 -0.002624 -0.002620 -0.004627 -0.003424   \n",
       "2011-08-03 17:48:20.242  76.0  -1.0  0.004200  0.004208  0.007439  0.010079   \n",
       "\n",
       "                             mom4      mom5      mom6  volatility  ...  \\\n",
       "2011-08-02 17:02:16.995 -0.006299 -0.004732 -0.005320    0.001208  ...   \n",
       "2011-08-02 18:06:11.084 -0.005925 -0.005336 -0.002971    0.001455  ...   \n",
       "2011-08-03 14:27:33.970 -0.008190 -0.008982 -0.006205    0.002017  ...   \n",
       "2011-08-03 14:37:04.871 -0.006625 -0.009013 -0.010598    0.002055  ...   \n",
       "2011-08-03 17:48:20.242  0.008655  0.011302  0.012119    0.002137  ...   \n",
       "\n",
       "                         autocorr_3  autocorr_4  autocorr_5  autocorr_6  \\\n",
       "2011-08-02 17:02:16.995   -0.250441    0.257479   -0.024303   -0.440645   \n",
       "2011-08-02 18:06:11.084   -0.426201   -0.055423    0.153338   -0.108872   \n",
       "2011-08-03 14:27:33.970   -0.158916   -0.190979   -0.075624    0.023092   \n",
       "2011-08-03 14:37:04.871    0.019419   -0.113745   -0.010705    0.102100   \n",
       "2011-08-03 17:48:20.242    0.153260    0.236590   -0.046550   -0.350620   \n",
       "\n",
       "                           log_t1    log_t2    log_t3    log_t4    log_t5  sma  \n",
       "2011-08-02 17:02:16.995 -0.003359 -0.001183 -0.000788  0.001576 -0.000591 -1.0  \n",
       "2011-08-02 18:06:11.084 -0.000594 -0.002572 -0.000395  0.000593  0.002374 -1.0  \n",
       "2011-08-03 14:27:33.970 -0.002406 -0.001601 -0.000999 -0.000799  0.002798 -1.0  \n",
       "2011-08-03 14:37:04.871 -0.002014  0.001208 -0.003217 -0.002406 -0.001601 -1.0  \n",
       "2011-08-03 17:48:20.242  0.003212  0.002617 -0.001410  0.002620  0.000808  1.0  \n",
       "\n",
       "[5 rows x 22 columns]"
      ]
     },
     "execution_count": 103,
     "metadata": {},
     "output_type": "execute_result"
    }
   ],
   "source": [
    "# Get features at event dates\n",
    "X = raw_data.loc[labels.index, :]\n",
    "\n",
    "# Drop unwanted columns\n",
    "X.drop(['avg', 'upper', 'lower', 'open', 'high', 'low', 'close', 'cum_vol', 'cum_dollar', 'cum_ticks','fast_mavg', 'slow_mavg',], axis=1, inplace=True)\n",
    "\n",
    "y = labels['bin']\n",
    "X.head()"
   ]
  },
  {
   "cell_type": "markdown",
   "metadata": {},
   "source": [
    "#### 拟合模型"
   ]
  },
  {
   "cell_type": "code",
   "execution_count": 104,
   "metadata": {},
   "outputs": [
    {
     "name": "stdout",
     "output_type": "stream",
     "text": [
      "2011-08-02 17:02:16.995000\n",
      "2012-07-26 11:53:52.356000\n"
     ]
    }
   ],
   "source": [
    "print(X.index.min())\n",
    "print(X.index.max())"
   ]
  },
  {
   "cell_type": "markdown",
   "metadata": {},
   "source": [
    "* 平衡类"
   ]
  },
  {
   "cell_type": "code",
   "execution_count": 105,
   "metadata": {},
   "outputs": [],
   "source": [
    "# Split data into training, validation and test sets\n",
    "X_training_validation = X['2011-08-02':'2012-07-01']\n",
    "y_training_validation = y['2011-08-02':'2012-07-01']\n",
    "X_train, X_validate, y_train, y_validate = train_test_split(X_training_validation, y_training_validation, test_size=0.2, shuffle=False)"
   ]
  },
  {
   "cell_type": "code",
   "execution_count": 106,
   "metadata": {},
   "outputs": [
    {
     "data": {
      "text/plain": [
       "0    200\n",
       "1    154\n",
       "Name: bin, dtype: int64"
      ]
     },
     "execution_count": 106,
     "metadata": {},
     "output_type": "execute_result"
    }
   ],
   "source": [
    "train_df = pd.concat([y_train, X_train], axis=1, join='inner')\n",
    "train_df['bin'].value_counts()"
   ]
  },
  {
   "cell_type": "code",
   "execution_count": 107,
   "metadata": {},
   "outputs": [
    {
     "data": {
      "text/plain": [
       "1    200\n",
       "0    200\n",
       "Name: bin, dtype: int64"
      ]
     },
     "execution_count": 107,
     "metadata": {},
     "output_type": "execute_result"
    }
   ],
   "source": [
    "# Upsample the training data to have a 50 - 50 split\n",
    "# https://elitedatascience.com/imbalanced-classes\n",
    "majority = train_df[train_df['bin'] == 0]\n",
    "minority = train_df[train_df['bin'] == 1]\n",
    "\n",
    "new_minority = resample(minority, \n",
    "                   replace=True,     # sample with replacement\n",
    "                   n_samples=majority.shape[0],    # to match majority class\n",
    "                   random_state=42)\n",
    "\n",
    "train_df = pd.concat([majority, new_minority])\n",
    "train_df = shuffle(train_df, random_state=42)\n",
    "\n",
    "train_df['bin'].value_counts()"
   ]
  },
  {
   "cell_type": "code",
   "execution_count": 108,
   "metadata": {},
   "outputs": [],
   "source": [
    "# Create training data\n",
    "y_train = train_df['bin']\n",
    "X_train= train_df.loc[:, train_df.columns != 'bin']"
   ]
  },
  {
   "cell_type": "markdown",
   "metadata": {},
   "source": [
    "* 建模"
   ]
  },
  {
   "cell_type": "code",
   "execution_count": 163,
   "metadata": {},
   "outputs": [],
   "source": [
    "parameters = {'max_depth':[2, 3, 4, 5, 7, 9],\n",
    "              'n_estimators':[1, 10, 25, 50, 100, 256, 512],\n",
    "              'random_state':[42]}\n",
    "    \n",
    "def perform_grid_search(X_data, y_data):\n",
    "    rf = RandomForestClassifier(criterion='entropy')\n",
    "    \n",
    "    clf = GridSearchCV(rf, parameters, cv=5, scoring='roc_auc', n_jobs=3)#网格优化\n",
    "    \n",
    "    clf.fit(X_data, y_data)\n",
    "    \n",
    "    print(clf.cv_results_['mean_test_score'])\n",
    "    \n",
    "    return clf.best_params_['n_estimators'], clf.best_params_['max_depth']"
   ]
  },
  {
   "cell_type": "code",
   "execution_count": 164,
   "metadata": {},
   "outputs": [
    {
     "name": "stdout",
     "output_type": "stream",
     "text": [
      "[0.5125625 0.651375  0.67825   0.6785625 0.685125  0.689875  0.683375\n",
      " 0.544875  0.6873125 0.726875  0.743375  0.76      0.7585    0.753125\n",
      " 0.5743125 0.70875   0.753625  0.77      0.7815    0.791625  0.79225\n",
      " 0.6071875 0.7416875 0.778     0.791     0.8085    0.813625  0.813125\n",
      " 0.6395625 0.805875  0.831375  0.836     0.841625  0.849625  0.855875\n",
      " 0.666875  0.7983125 0.8385    0.8575    0.865     0.861375  0.865125 ]\n",
      "512 9 42\n"
     ]
    }
   ],
   "source": [
    "# extract parameters\n",
    "n_estimator, depth = perform_grid_search(X_train, y_train)\n",
    "c_random_state = 42\n",
    "print(n_estimator, depth, c_random_state)"
   ]
  },
  {
   "cell_type": "code",
   "execution_count": 165,
   "metadata": {},
   "outputs": [
    {
     "data": {
      "text/plain": [
       "RandomForestClassifier(bootstrap=True, class_weight=None, criterion='entropy',\n",
       "                       max_depth=9, max_features='auto', max_leaf_nodes=None,\n",
       "                       min_impurity_decrease=0.0, min_impurity_split=None,\n",
       "                       min_samples_leaf=1, min_samples_split=2,\n",
       "                       min_weight_fraction_leaf=0.0, n_estimators=512,\n",
       "                       n_jobs=None, oob_score=False, random_state=42, verbose=0,\n",
       "                       warm_start=False)"
      ]
     },
     "execution_count": 165,
     "metadata": {},
     "output_type": "execute_result"
    }
   ],
   "source": [
    "# Random Forest Model\n",
    "rf = RandomForestClassifier(max_depth=depth, n_estimators=n_estimator,\n",
    "                            criterion='entropy', random_state=c_random_state)\n",
    "rf.fit(X_train, y_train.values.ravel())"
   ]
  },
  {
   "cell_type": "markdown",
   "metadata": {},
   "source": [
    "#### 1、训练集性能"
   ]
  },
  {
   "cell_type": "code",
   "execution_count": 166,
   "metadata": {},
   "outputs": [
    {
     "name": "stdout",
     "output_type": "stream",
     "text": [
      "              precision    recall  f1-score   support\n",
      "\n",
      "           0       1.00      1.00      1.00       200\n",
      "           1       1.00      1.00      1.00       200\n",
      "\n",
      "    accuracy                           1.00       400\n",
      "   macro avg       1.00      1.00      1.00       400\n",
      "weighted avg       1.00      1.00      1.00       400\n",
      "\n",
      "Confusion Matrix\n",
      "[[200   0]\n",
      " [  0 200]]\n",
      "\n",
      "Accuracy\n",
      "1.0\n"
     ]
    },
    {
     "data": {
      "image/png": "[encoded data removed]",
      "text/plain": [
       "<Figure size 432x288 with 1 Axes>"
      ]
     },
     "metadata": {
      "needs_background": "light"
     },
     "output_type": "display_data"
    }
   ],
   "source": [
    "# Performance Metrics\n",
    "y_pred_rf = rf.predict_proba(X_train)[:, 1]\n",
    "y_pred = rf.predict(X_train)\n",
    "fpr_rf, tpr_rf, _ = roc_curve(y_train, y_pred_rf)\n",
    "print(classification_report(y_train, y_pred))\n",
    "\n",
    "print(\"Confusion Matrix\")\n",
    "print(confusion_matrix(y_train, y_pred))\n",
    "\n",
    "print('')\n",
    "print(\"Accuracy\")\n",
    "print(accuracy_score(y_train, y_pred))\n",
    "\n",
    "plt.figure(1)\n",
    "plt.plot([0, 1], [0, 1], 'k--')\n",
    "plt.plot(fpr_rf, tpr_rf, label='RF')\n",
    "plt.xlabel('False positive rate')\n",
    "plt.ylabel('True positive rate')\n",
    "plt.title('ROC curve')\n",
    "plt.legend(loc='best')\n",
    "plt.show()"
   ]
  },
  {
   "cell_type": "markdown",
   "metadata": {},
   "source": [
    "#### 2、验证集性能"
   ]
  },
  {
   "cell_type": "code",
   "execution_count": 167,
   "metadata": {},
   "outputs": [
    {
     "name": "stdout",
     "output_type": "stream",
     "text": [
      "              precision    recall  f1-score   support\n",
      "\n",
      "           0       0.65      0.65      0.65        60\n",
      "           1       0.28      0.28      0.28        29\n",
      "\n",
      "    accuracy                           0.53        89\n",
      "   macro avg       0.46      0.46      0.46        89\n",
      "weighted avg       0.53      0.53      0.53        89\n",
      "\n",
      "Confusion Matrix\n",
      "[[39 21]\n",
      " [21  8]]\n",
      "\n",
      "Accuracy\n",
      "0.5280898876404494\n"
     ]
    },
    {
     "data": {
      "image/png": "[encoded data removed]",
      "text/plain": [
       "<Figure size 432x288 with 1 Axes>"
      ]
     },
     "metadata": {
      "needs_background": "light"
     },
     "output_type": "display_data"
    }
   ],
   "source": [
    "# Meta-label\n",
    "# Performance Metrics\n",
    "y_pred_rf = rf.predict_proba(X_validate)[:, 1]\n",
    "y_pred = rf.predict(X_validate)\n",
    "fpr_rf, tpr_rf, _ = roc_curve(y_validate, y_pred_rf)\n",
    "print(classification_report(y_validate, y_pred))\n",
    "\n",
    "print(\"Confusion Matrix\")\n",
    "print(confusion_matrix(y_validate, y_pred))\n",
    "\n",
    "print('')\n",
    "print(\"Accuracy\")\n",
    "print(accuracy_score(y_validate, y_pred))\n",
    "\n",
    "plt.figure(1)\n",
    "plt.plot([0, 1], [0, 1], 'k--')\n",
    "plt.plot(fpr_rf, tpr_rf, label='RF')\n",
    "plt.xlabel('False positive rate')\n",
    "plt.ylabel('True positive rate')\n",
    "plt.title('ROC curve')\n",
    "plt.legend(loc='best')\n",
    "plt.show()"
   ]
  },
  {
   "cell_type": "code",
   "execution_count": 168,
   "metadata": {},
   "outputs": [
    {
     "name": "stdout",
     "output_type": "stream",
     "text": [
      "2012-04-19 13:40:11.617000\n",
      "2012-06-29 07:00:00.265000\n"
     ]
    }
   ],
   "source": [
    "print(X_validate.index.min())\n",
    "print(X_validate.index.max())"
   ]
  },
  {
   "cell_type": "code",
   "execution_count": 169,
   "metadata": {},
   "outputs": [
    {
     "name": "stdout",
     "output_type": "stream",
     "text": [
      "              precision    recall  f1-score   support\n",
      "\n",
      "           0       0.00      0.00      0.00        60\n",
      "           1       0.33      1.00      0.49        29\n",
      "\n",
      "    accuracy                           0.33        89\n",
      "   macro avg       0.16      0.50      0.25        89\n",
      "weighted avg       0.11      0.33      0.16        89\n",
      "\n",
      "Confusion Matrix\n",
      "[[ 0 60]\n",
      " [ 0 29]]\n",
      "\n",
      "Accuracy\n",
      "0.3258426966292135\n"
     ]
    }
   ],
   "source": [
    "# Primary model\n",
    "primary_forecast = pd.DataFrame(labels['bin'])\n",
    "primary_forecast['pred'] = 1\n",
    "primary_forecast.columns = ['actual', 'pred']\n",
    "\n",
    "start = primary_forecast.index.get_loc('2012-04-19 13:40:11.617000')\n",
    "end = primary_forecast.index.get_loc('2012-06-29 07:00:00.265000') + 1\n",
    "\n",
    "subset_prim = primary_forecast[start:end]\n",
    "\n",
    "# Performance Metrics\n",
    "actual = subset_prim['actual']\n",
    "pred = subset_prim['pred']\n",
    "print(classification_report(y_true=actual, y_pred=pred))\n",
    "\n",
    "print(\"Confusion Matrix\")\n",
    "print(confusion_matrix(actual, pred))\n",
    "\n",
    "print('')\n",
    "print(\"Accuracy\")\n",
    "print(accuracy_score(actual, pred))"
   ]
  },
  {
   "cell_type": "code",
   "execution_count": 170,
   "metadata": {},
   "outputs": [
    {
     "data": {
      "image/png": "[encoded data removed]",
      "text/plain": [
       "<Figure size 1080x360 with 1 Axes>"
      ]
     },
     "metadata": {
      "needs_background": "light"
     },
     "output_type": "display_data"
    }
   ],
   "source": [
    "# Feature Importance\n",
    "title = 'Feature Importance:'\n",
    "figsize = (15, 5)\n",
    "\n",
    "feat_imp = pd.DataFrame({'Importance':rf.feature_importances_})    \n",
    "feat_imp['feature'] = X.columns\n",
    "feat_imp.sort_values(by='Importance', ascending=False, inplace=True)\n",
    "feat_imp = feat_imp\n",
    "\n",
    "feat_imp.sort_values(by='Importance', inplace=True)\n",
    "feat_imp = feat_imp.set_index('feature', drop=True)\n",
    "feat_imp.plot.barh(title=title, figsize=figsize)\n",
    "plt.xlabel('Feature Importance Score')\n",
    "plt.show()"
   ]
  },
  {
   "cell_type": "markdown",
   "metadata": {},
   "source": [
    "* 回测"
   ]
  },
  {
   "cell_type": "markdown",
   "metadata": {},
   "source": [
    "## 样品内性能"
   ]
  },
  {
   "cell_type": "code",
   "execution_count": 171,
   "metadata": {},
   "outputs": [],
   "source": [
    "# Set-up the function to extract the KPIs from pyfolio\n",
    "perf_func = pf.timeseries.perf_stats"
   ]
  },
  {
   "cell_type": "code",
   "execution_count": 172,
   "metadata": {},
   "outputs": [],
   "source": [
    "def get_daily_returns(intraday_returns):\n",
    "    \"\"\"\n",
    "    This changes returns into daily returns that will work using pyfolio. Its not perfect...\n",
    "    \"\"\"\n",
    "    \n",
    "    cum_rets = ((intraday_returns + 1).cumprod())\n",
    "\n",
    "    # Downsample to daily\n",
    "    daily_rets = cum_rets.resample('B').last()\n",
    "\n",
    "    # Forward fill, Percent Change, Drop NaN\n",
    "    daily_rets = daily_rets.ffill().pct_change().dropna()\n",
    "    \n",
    "    return daily_rets"
   ]
  },
  {
   "cell_type": "code",
   "execution_count": 173,
   "metadata": {},
   "outputs": [
    {
     "data": {
      "text/html": [
       "<table border=\"1\" class=\"dataframe\">\n",
       "  <thead>\n",
       "    <tr style=\"text-align: right;\"><th>Start date</th><td colspan=2>2012-04-20</td></tr>\n",
       "    <tr style=\"text-align: right;\"><th>End date</th><td colspan=2>2012-06-29</td></tr>\n",
       "    <tr style=\"text-align: right;\"><th>Total months</th><td colspan=2>2</td></tr>\n",
       "    <tr style=\"text-align: right;\">\n",
       "      <th></th>\n",
       "      <th>Backtest</th>\n",
       "    </tr>\n",
       "  </thead>\n",
       "  <tbody>\n",
       "    <tr>\n",
       "      <th>Annual return</th>\n",
       "      <td>-72.3%</td>\n",
       "    </tr>\n",
       "    <tr>\n",
       "      <th>Cumulative returns</th>\n",
       "      <td>-22.9%</td>\n",
       "    </tr>\n",
       "    <tr>\n",
       "      <th>Annual volatility</th>\n",
       "      <td>37.1%</td>\n",
       "    </tr>\n",
       "    <tr>\n",
       "      <th>Sharpe ratio</th>\n",
       "      <td>-3.27</td>\n",
       "    </tr>\n",
       "    <tr>\n",
       "      <th>Calmar ratio</th>\n",
       "      <td>-2.41</td>\n",
       "    </tr>\n",
       "    <tr>\n",
       "      <th>Stability</th>\n",
       "      <td>0.85</td>\n",
       "    </tr>\n",
       "    <tr>\n",
       "      <th>Max drawdown</th>\n",
       "      <td>-30.0%</td>\n",
       "    </tr>\n",
       "    <tr>\n",
       "      <th>Omega ratio</th>\n",
       "      <td>0.53</td>\n",
       "    </tr>\n",
       "    <tr>\n",
       "      <th>Sortino ratio</th>\n",
       "      <td>-3.89</td>\n",
       "    </tr>\n",
       "    <tr>\n",
       "      <th>Skew</th>\n",
       "      <td>-0.34</td>\n",
       "    </tr>\n",
       "    <tr>\n",
       "      <th>Kurtosis</th>\n",
       "      <td>1.80</td>\n",
       "    </tr>\n",
       "    <tr>\n",
       "      <th>Tail ratio</th>\n",
       "      <td>0.51</td>\n",
       "    </tr>\n",
       "    <tr>\n",
       "      <th>Daily value at risk</th>\n",
       "      <td>-5.2%</td>\n",
       "    </tr>\n",
       "  </tbody>\n",
       "</table>"
      ],
      "text/plain": [
       "<IPython.core.display.HTML object>"
      ]
     },
     "metadata": {},
     "output_type": "display_data"
    }
   ],
   "source": [
    "test_dates = X_validate.index\n",
    "\n",
    "base_rets = labels.loc[test_dates, 'ret']\n",
    "primary_model_rets = get_daily_returns(base_rets)\n",
    "\n",
    "# Save the statistics in a dataframe\n",
    "perf_stats_all = perf_func(returns=primary_model_rets, \n",
    "                           factor_returns=None, \n",
    "                           positions=None,\n",
    "                           transactions=None,\n",
    "                           turnover_denom=\"AGB\")\n",
    "perf_stats_df = pd.DataFrame(data=perf_stats_all, columns=['Primary Model'])\n",
    "\n",
    "# pf.create_returns_tear_sheet(labels.loc[test_dates, 'ret'], benchmark_rets=None)\n",
    "pf.show_perf_stats(primary_model_rets)\n"
   ]
  },
  {
   "cell_type": "code",
   "execution_count": 174,
   "metadata": {},
   "outputs": [
    {
     "data": {
      "text/html": [
       "<table border=\"1\" class=\"dataframe\">\n",
       "  <thead>\n",
       "    <tr style=\"text-align: right;\"><th>Start date</th><td colspan=2>2012-04-20</td></tr>\n",
       "    <tr style=\"text-align: right;\"><th>End date</th><td colspan=2>2012-06-29</td></tr>\n",
       "    <tr style=\"text-align: right;\"><th>Total months</th><td colspan=2>2</td></tr>\n",
       "    <tr style=\"text-align: right;\">\n",
       "      <th></th>\n",
       "      <th>Backtest</th>\n",
       "    </tr>\n",
       "  </thead>\n",
       "  <tbody>\n",
       "    <tr>\n",
       "      <th>Annual return</th>\n",
       "      <td>-46.2%</td>\n",
       "    </tr>\n",
       "    <tr>\n",
       "      <th>Cumulative returns</th>\n",
       "      <td>-11.8%</td>\n",
       "    </tr>\n",
       "    <tr>\n",
       "      <th>Annual volatility</th>\n",
       "      <td>11.2%</td>\n",
       "    </tr>\n",
       "    <tr>\n",
       "      <th>Sharpe ratio</th>\n",
       "      <td>-5.46</td>\n",
       "    </tr>\n",
       "    <tr>\n",
       "      <th>Calmar ratio</th>\n",
       "      <td>-3.92</td>\n",
       "    </tr>\n",
       "    <tr>\n",
       "      <th>Stability</th>\n",
       "      <td>0.90</td>\n",
       "    </tr>\n",
       "    <tr>\n",
       "      <th>Max drawdown</th>\n",
       "      <td>-11.8%</td>\n",
       "    </tr>\n",
       "    <tr>\n",
       "      <th>Omega ratio</th>\n",
       "      <td>0.20</td>\n",
       "    </tr>\n",
       "    <tr>\n",
       "      <th>Sortino ratio</th>\n",
       "      <td>-5.57</td>\n",
       "    </tr>\n",
       "    <tr>\n",
       "      <th>Skew</th>\n",
       "      <td>-1.26</td>\n",
       "    </tr>\n",
       "    <tr>\n",
       "      <th>Kurtosis</th>\n",
       "      <td>2.69</td>\n",
       "    </tr>\n",
       "    <tr>\n",
       "      <th>Tail ratio</th>\n",
       "      <td>0.14</td>\n",
       "    </tr>\n",
       "    <tr>\n",
       "      <th>Daily value at risk</th>\n",
       "      <td>-1.7%</td>\n",
       "    </tr>\n",
       "  </tbody>\n",
       "</table>"
      ],
      "text/plain": [
       "<IPython.core.display.HTML object>"
      ]
     },
     "metadata": {},
     "output_type": "display_data"
    }
   ],
   "source": [
    "meta_returns = labels.loc[test_dates, 'ret'] * y_pred\n",
    "daily_meta_rets = get_daily_returns(meta_returns)\n",
    "\n",
    "# save the KPIs in a dataframe\n",
    "perf_stats_all = perf_func(returns=daily_meta_rets, \n",
    "                           factor_returns=None, \n",
    "                           positions=None,\n",
    "                           transactions=None,\n",
    "                           turnover_denom=\"AGB\")\n",
    "\n",
    "perf_stats_df['Meta Model'] = perf_stats_all\n",
    "\n",
    "# pf.create_returns_tear_sheet(meta_returns, benchmark_rets=None)\n",
    "pf.show_perf_stats(daily_meta_rets)"
   ]
  },
  {
   "cell_type": "markdown",
   "metadata": {},
   "source": [
    "## 样本外测试"
   ]
  },
  {
   "cell_type": "code",
   "execution_count": 175,
   "metadata": {},
   "outputs": [
    {
     "name": "stdout",
     "output_type": "stream",
     "text": [
      "2011-08-02 17:02:16.995000\n",
      "2012-07-26 11:53:52.356000\n"
     ]
    }
   ],
   "source": [
    "print(X.index.min())\n",
    "print(X.index.max())"
   ]
  },
  {
   "cell_type": "code",
   "execution_count": 176,
   "metadata": {},
   "outputs": [],
   "source": [
    "# extarct data for out-of-sample (OOS)\n",
    "X_oos = X['2012-07-01':]\n",
    "y_oos = y['2012-07-01':]"
   ]
  },
  {
   "cell_type": "code",
   "execution_count": 177,
   "metadata": {},
   "outputs": [
    {
     "name": "stdout",
     "output_type": "stream",
     "text": [
      "              precision    recall  f1-score   support\n",
      "\n",
      "           0       0.59      0.89      0.71        18\n",
      "           1       0.67      0.27      0.38        15\n",
      "\n",
      "    accuracy                           0.61        33\n",
      "   macro avg       0.63      0.58      0.55        33\n",
      "weighted avg       0.63      0.61      0.56        33\n",
      "\n",
      "Confusion Matrix\n",
      "[[16  2]\n",
      " [11  4]]\n",
      "\n",
      "Accuracy\n",
      "0.6060606060606061\n"
     ]
    },
    {
     "data": {
      "image/png": "[encoded data removed]",
      "text/plain": [
       "<Figure size 432x288 with 1 Axes>"
      ]
     },
     "metadata": {
      "needs_background": "light"
     },
     "output_type": "display_data"
    }
   ],
   "source": [
    "# Performance Metrics\n",
    "y_pred_rf = rf.predict_proba(X_oos)[:, 1]\n",
    "y_pred = rf.predict(X_oos)\n",
    "fpr_rf, tpr_rf, _ = roc_curve(y_oos, y_pred_rf)\n",
    "print(classification_report(y_oos, y_pred))\n",
    "\n",
    "print(\"Confusion Matrix\")\n",
    "print(confusion_matrix(y_oos, y_pred))\n",
    "\n",
    "print('')\n",
    "print(\"Accuracy\")\n",
    "print(accuracy_score(y_oos, y_pred))\n",
    "\n",
    "plt.figure(1)\n",
    "plt.plot([0, 1], [0, 1], 'k--')\n",
    "plt.plot(fpr_rf, tpr_rf, label='RF')\n",
    "plt.xlabel('False positive rate')\n",
    "plt.ylabel('True positive rate')\n",
    "plt.title('ROC curve')\n",
    "plt.legend(loc='best')\n",
    "plt.show()"
   ]
  },
  {
   "cell_type": "code",
   "execution_count": 178,
   "metadata": {},
   "outputs": [
    {
     "name": "stdout",
     "output_type": "stream",
     "text": [
      "              precision    recall  f1-score   support\n",
      "\n",
      "           0       0.00      0.00      0.00        89\n",
      "           1       0.36      1.00      0.52        49\n",
      "\n",
      "    accuracy                           0.36       138\n",
      "   macro avg       0.18      0.50      0.26       138\n",
      "weighted avg       0.13      0.36      0.19       138\n",
      "\n",
      "Confusion Matrix\n",
      "[[ 0 89]\n",
      " [ 0 49]]\n",
      "\n",
      "Accuracy\n",
      "0.35507246376811596\n"
     ]
    }
   ],
   "source": [
    "# Primary model\n",
    "primary_forecast = pd.DataFrame(labels['bin'])\n",
    "primary_forecast['pred'] = 1\n",
    "primary_forecast.columns = ['actual', 'pred']\n",
    "\n",
    "subset_prim = primary_forecast['2012-04-01':]\n",
    "\n",
    "# Performance Metrics\n",
    "actual = subset_prim['actual']\n",
    "pred = subset_prim['pred']\n",
    "print(classification_report(y_true=actual, y_pred=pred))\n",
    "\n",
    "print(\"Confusion Matrix\")\n",
    "print(confusion_matrix(actual, pred))\n",
    "\n",
    "print('')\n",
    "print(\"Accuracy\")\n",
    "print(accuracy_score(actual, pred))"
   ]
  },
  {
   "cell_type": "markdown",
   "metadata": {},
   "source": [
    "## 样本外性能"
   ]
  },
  {
   "cell_type": "code",
   "execution_count": 179,
   "metadata": {},
   "outputs": [
    {
     "data": {
      "text/html": [
       "<table border=\"1\" class=\"dataframe\">\n",
       "  <thead>\n",
       "    <tr style=\"text-align: right;\"><th>Start date</th><td colspan=2>2012-07-04</td></tr>\n",
       "    <tr style=\"text-align: right;\"><th>End date</th><td colspan=2>2012-07-26</td></tr>\n",
       "    <tr style=\"text-align: right;\"><th>Total months</th><td colspan=2>0</td></tr>\n",
       "    <tr style=\"text-align: right;\">\n",
       "      <th></th>\n",
       "      <th>Backtest</th>\n",
       "    </tr>\n",
       "  </thead>\n",
       "  <tbody>\n",
       "    <tr>\n",
       "      <th>Annual return</th>\n",
       "      <td>32.3%</td>\n",
       "    </tr>\n",
       "    <tr>\n",
       "      <th>Cumulative returns</th>\n",
       "      <td>1.9%</td>\n",
       "    </tr>\n",
       "    <tr>\n",
       "      <th>Annual volatility</th>\n",
       "      <td>40.4%</td>\n",
       "    </tr>\n",
       "    <tr>\n",
       "      <th>Sharpe ratio</th>\n",
       "      <td>0.88</td>\n",
       "    </tr>\n",
       "    <tr>\n",
       "      <th>Calmar ratio</th>\n",
       "      <td>3.22</td>\n",
       "    </tr>\n",
       "    <tr>\n",
       "      <th>Stability</th>\n",
       "      <td>0.10</td>\n",
       "    </tr>\n",
       "    <tr>\n",
       "      <th>Max drawdown</th>\n",
       "      <td>-10.0%</td>\n",
       "    </tr>\n",
       "    <tr>\n",
       "      <th>Omega ratio</th>\n",
       "      <td>1.17</td>\n",
       "    </tr>\n",
       "    <tr>\n",
       "      <th>Sortino ratio</th>\n",
       "      <td>1.40</td>\n",
       "    </tr>\n",
       "    <tr>\n",
       "      <th>Skew</th>\n",
       "      <td>0.45</td>\n",
       "    </tr>\n",
       "    <tr>\n",
       "      <th>Kurtosis</th>\n",
       "      <td>0.89</td>\n",
       "    </tr>\n",
       "    <tr>\n",
       "      <th>Tail ratio</th>\n",
       "      <td>1.02</td>\n",
       "    </tr>\n",
       "    <tr>\n",
       "      <th>Daily value at risk</th>\n",
       "      <td>-5.0%</td>\n",
       "    </tr>\n",
       "  </tbody>\n",
       "</table>"
      ],
      "text/plain": [
       "<IPython.core.display.HTML object>"
      ]
     },
     "metadata": {},
     "output_type": "display_data"
    }
   ],
   "source": [
    "test_dates = X_oos.index\n",
    "\n",
    "base_rets_oos = labels.loc[test_dates, 'ret']\n",
    "primary_model_rets_oos = get_daily_returns(base_rets_oos)\n",
    "\n",
    "# Save the statistics in a dataframe\n",
    "perf_stats_all = perf_func(returns=primary_model_rets_oos, \n",
    "                           factor_returns=None, \n",
    "                           positions=None,\n",
    "                           transactions=None,\n",
    "                           turnover_denom=\"AGB\")\n",
    "\n",
    "perf_stats_df['Primary Model OOS'] = perf_stats_all\n",
    "\n",
    "\n",
    "# pf.create_returns_tear_sheet(labels.loc[test_dates, 'ret'], benchmark_rets=None)\n",
    "pf.show_perf_stats(primary_model_rets_oos)"
   ]
  },
  {
   "cell_type": "code",
   "execution_count": 180,
   "metadata": {},
   "outputs": [
    {
     "data": {
      "text/html": [
       "<table border=\"1\" class=\"dataframe\">\n",
       "  <thead>\n",
       "    <tr style=\"text-align: right;\"><th>Start date</th><td colspan=2>2012-07-04</td></tr>\n",
       "    <tr style=\"text-align: right;\"><th>End date</th><td colspan=2>2012-07-26</td></tr>\n",
       "    <tr style=\"text-align: right;\"><th>Total months</th><td colspan=2>0</td></tr>\n",
       "    <tr style=\"text-align: right;\">\n",
       "      <th></th>\n",
       "      <th>Backtest</th>\n",
       "    </tr>\n",
       "  </thead>\n",
       "  <tbody>\n",
       "    <tr>\n",
       "      <th>Annual return</th>\n",
       "      <td>76.3%</td>\n",
       "    </tr>\n",
       "    <tr>\n",
       "      <th>Cumulative returns</th>\n",
       "      <td>3.9%</td>\n",
       "    </tr>\n",
       "    <tr>\n",
       "      <th>Annual volatility</th>\n",
       "      <td>15.1%</td>\n",
       "    </tr>\n",
       "    <tr>\n",
       "      <th>Sharpe ratio</th>\n",
       "      <td>3.83</td>\n",
       "    </tr>\n",
       "    <tr>\n",
       "      <th>Calmar ratio</th>\n",
       "      <td>44.63</td>\n",
       "    </tr>\n",
       "    <tr>\n",
       "      <th>Stability</th>\n",
       "      <td>0.74</td>\n",
       "    </tr>\n",
       "    <tr>\n",
       "      <th>Max drawdown</th>\n",
       "      <td>-1.7%</td>\n",
       "    </tr>\n",
       "    <tr>\n",
       "      <th>Omega ratio</th>\n",
       "      <td>2.61</td>\n",
       "    </tr>\n",
       "    <tr>\n",
       "      <th>Sortino ratio</th>\n",
       "      <td>8.11</td>\n",
       "    </tr>\n",
       "    <tr>\n",
       "      <th>Skew</th>\n",
       "      <td>0.74</td>\n",
       "    </tr>\n",
       "    <tr>\n",
       "      <th>Kurtosis</th>\n",
       "      <td>1.27</td>\n",
       "    </tr>\n",
       "    <tr>\n",
       "      <th>Tail ratio</th>\n",
       "      <td>2.23</td>\n",
       "    </tr>\n",
       "    <tr>\n",
       "      <th>Daily value at risk</th>\n",
       "      <td>-1.7%</td>\n",
       "    </tr>\n",
       "  </tbody>\n",
       "</table>"
      ],
      "text/plain": [
       "<IPython.core.display.HTML object>"
      ]
     },
     "metadata": {},
     "output_type": "display_data"
    },
    {
     "data": {
      "text/html": [
       "<table border=\"1\" class=\"dataframe\">\n",
       "  <thead>\n",
       "    <tr style=\"text-align: right;\">\n",
       "      <th>Worst drawdown periods</th>\n",
       "      <th>Net drawdown in %</th>\n",
       "      <th>Peak date</th>\n",
       "      <th>Valley date</th>\n",
       "      <th>Recovery date</th>\n",
       "      <th>Duration</th>\n",
       "    </tr>\n",
       "  </thead>\n",
       "  <tbody>\n",
       "    <tr>\n",
       "      <th>0</th>\n",
       "      <td>1.71</td>\n",
       "      <td>2012-07-24</td>\n",
       "      <td>2012-07-25</td>\n",
       "      <td>NaT</td>\n",
       "      <td>NaN</td>\n",
       "    </tr>\n",
       "    <tr>\n",
       "      <th>1</th>\n",
       "      <td>0.71</td>\n",
       "      <td>2012-07-17</td>\n",
       "      <td>2012-07-18</td>\n",
       "      <td>2012-07-24</td>\n",
       "      <td>6</td>\n",
       "    </tr>\n",
       "    <tr>\n",
       "      <th>2</th>\n",
       "      <td>0.00</td>\n",
       "      <td>2012-07-04</td>\n",
       "      <td>2012-07-04</td>\n",
       "      <td>2012-07-04</td>\n",
       "      <td>1</td>\n",
       "    </tr>\n",
       "    <tr>\n",
       "      <th>3</th>\n",
       "      <td>0.00</td>\n",
       "      <td>2012-07-04</td>\n",
       "      <td>2012-07-04</td>\n",
       "      <td>2012-07-04</td>\n",
       "      <td>1</td>\n",
       "    </tr>\n",
       "    <tr>\n",
       "      <th>4</th>\n",
       "      <td>0.00</td>\n",
       "      <td>2012-07-04</td>\n",
       "      <td>2012-07-04</td>\n",
       "      <td>2012-07-04</td>\n",
       "      <td>1</td>\n",
       "    </tr>\n",
       "  </tbody>\n",
       "</table>"
      ],
      "text/plain": [
       "<IPython.core.display.HTML object>"
      ]
     },
     "metadata": {},
     "output_type": "display_data"
    },
    {
     "data": {
      "image/png": "[encoded data removed]",
      "text/plain": [
       "<Figure size 1008x4752 with 12 Axes>"
      ]
     },
     "metadata": {},
     "output_type": "display_data"
    }
   ],
   "source": [
    "meta_returns = labels.loc[test_dates, 'ret'] * y_pred\n",
    "daily_rets_meta = get_daily_returns(meta_returns)\n",
    "\n",
    "# save the KPIs in a dataframe\n",
    "perf_stats_all = perf_func(returns=daily_rets_meta, \n",
    "                           factor_returns=None, \n",
    "                           positions=None,\n",
    "                           transactions=None,\n",
    "                           turnover_denom=\"AGB\")\n",
    "\n",
    "perf_stats_df['Meta Model OOS'] = perf_stats_all\n",
    "\n",
    "pf.create_returns_tear_sheet(daily_rets_meta, benchmark_rets=None)"
   ]
  },
  {
   "cell_type": "markdown",
   "metadata": {},
   "source": [
    "## 结论\n",
    "布林带均值回归策略：\n",
    "1. 在样本外测试中，元模型在所有关键统计信息中都执行主模型：\n",
    "* 年化回报率：32.3%对76.3%\n",
    "* 年化波动率：40.4%对15.1%\n",
    "* 夏普比率：0.88对3.83\n",
    "2. 在所有情况下，元模型（带有元标记的模型）都比原模型降低了年化波动率、最大下降率和增加了夏普比率"
   ]
  },
  {
   "cell_type": "code",
   "execution_count": null,
   "metadata": {},
   "outputs": [],
   "source": []
  },
  {
   "cell_type": "code",
   "execution_count": null,
   "metadata": {},
   "outputs": [],
   "source": []
  }
 ],
 "metadata": {
  "kernelspec": {
   "display_name": "Python 3 (ipykernel)",
   "language": "python",
   "name": "python3"
  },
  "language_info": {
   "codemirror_mode": {
    "name": "ipython",
    "version": 3
   },
   "file_extension": ".py",
   "mimetype": "text/x-python",
   "name": "python",
   "nbconvert_exporter": "python",
   "pygments_lexer": "ipython3",
   "version": "3.8.13"
  }
 },
 "nbformat": 4,
 "nbformat_minor": 2
}
