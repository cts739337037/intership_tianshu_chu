{
 "cells": [
  {
   "cell_type": "code",
   "execution_count": null,
   "id": "a3f0ca8e",
   "metadata": {},
   "outputs": [],
   "source": [
    "GSPC.set_index(pd.to_datetime(GSPC['Date']), inplace=True)#Set the index of the DataFrame to make it become date type.\n",
    "del GSPC['Date']\n",
    "GSPC=GSPC.T\n",
    "GSPC"
   ]
  },
  {
   "cell_type": "code",
   "execution_count": null,
   "id": "eb48491a",
   "metadata": {},
   "outputs": [],
   "source": []
  }
 ],
 "metadata": {
  "kernelspec": {
   "display_name": "Python 3 (ipykernel)",
   "language": "python",
   "name": "python3"
  },
  "language_info": {
   "codemirror_mode": {
    "name": "ipython",
    "version": 3
   },
   "file_extension": ".py",
   "mimetype": "text/x-python",
   "name": "python",
   "nbconvert_exporter": "python",
   "pygments_lexer": "ipython3",
   "version": "3.8.13"
  }
 },
 "nbformat": 4,
 "nbformat_minor": 5
}
