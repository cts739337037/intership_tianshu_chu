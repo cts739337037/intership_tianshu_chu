{
 "cells": [
  {
   "cell_type": "code",
   "execution_count": null,
   "id": "941196d7-d141-4b12-87e7-acfdbf3797ad",
   "metadata": {},
   "outputs": [],
   "source": [
    "y_volts noise"
   ]
  },
  {
   "cell_type": "code",
   "execution_count": null,
   "id": "6fc695b3-3985-4314-b618-e7a4e1cd6653",
   "metadata": {},
   "outputs": [],
   "source": [
    "x_volts pure"
   ]
  }
 ],
 "metadata": {
  "kernelspec": {
   "display_name": "Python 3 (ipykernel)",
   "language": "python",
   "name": "python3"
  },
  "language_info": {
   "codemirror_mode": {
    "name": "ipython",
    "version": 3
   },
   "file_extension": ".py",
   "mimetype": "text/x-python",
   "name": "python",
   "nbconvert_exporter": "python",
   "pygments_lexer": "ipython3",
   "version": "3.8.2"
  }
 },
 "nbformat": 4,
 "nbformat_minor": 5
}
