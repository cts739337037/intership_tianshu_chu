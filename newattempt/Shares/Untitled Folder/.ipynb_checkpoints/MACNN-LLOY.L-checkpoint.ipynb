{
 "cells": [
  {
   "cell_type": "code",
   "execution_count": 1,
   "id": "37e59e34-2d70-444c-9021-f24a4af01ae7",
   "metadata": {},
   "outputs": [],
   "source": [
    "import pandas as pd\n",
    "import numpy as np\n",
    "import matplotlib.pyplot as plt\n",
    "%matplotlib inline \n",
    "\n",
    "import os\n",
    "os.environ[\"CUDA_VISIBLE_DEVICES\"]=\"1\"  \n",
    "import keras\n",
    "import tensorflow as tf\n",
    "from sklearn.model_selection import train_test_split\n",
    "from sklearn.model_selection import cross_val_score\n",
    "from sklearn.preprocessing import MinMaxScaler\n",
    "from sklearn.svm import SVC\n",
    "from sklearn.metrics import f1_score\n",
    "from sklearn.metrics import mean_squared_error\n",
    "from tensorflow.keras.models import Model, Sequential\n",
    "from tensorflow.keras.layers import Conv1D, Dropout,  Input, Layer,Conv1DTranspose\n",
    "from tensorflow.keras.callbacks import EarlyStopping\n",
    "from tensorflow.keras.optimizers.schedules import LearningRateSchedule\n",
    "from tensorflow.keras.optimizers import Adam\n",
    "from tensorflow.keras.constraints import max_norm\n",
    "\n",
    "from pandas_datareader import data\n",
    "\n",
    "from PyEMD import EMD,EEMD,CEEMDAN,Visualisation\n",
    "\n",
    "import warnings\n",
    "warnings.filterwarnings(\"ignore\")"
   ]
  },
  {
   "cell_type": "code",
   "execution_count": 2,
   "id": "eb7c3f2f-cfeb-4e7a-83ac-eaa2ff1e9a10",
   "metadata": {},
   "outputs": [],
   "source": [
    "shares_name='LLOY.L'"
   ]
  },
  {
   "cell_type": "code",
   "execution_count": 3,
   "id": "e870f673-ffd3-44fd-a144-295729a32f44",
   "metadata": {},
   "outputs": [
    {
     "name": "stdout",
     "output_type": "stream",
     "text": [
      "            Adj Close\n",
      "Date                 \n",
      "2017-01-03  49.659492\n",
      "2017-01-04  49.774754\n",
      "2017-01-05  49.682545\n",
      "2017-01-06  50.643150\n",
      "2017-01-09  50.120583\n",
      "...               ...\n",
      "2018-12-21  42.512680\n",
      "2018-12-24  42.042244\n",
      "2018-12-27  41.291191\n",
      "2018-12-28  42.265087\n",
      "2018-12-31  42.793293\n",
      "\n",
      "[505 rows x 1 columns]\n",
      "Adj Close    0\n",
      "dtype: int64\n"
     ]
    },
    {
     "data": {
      "text/html": [
       "<div>\n",
       "<style scoped>\n",
       "    .dataframe tbody tr th:only-of-type {\n",
       "        vertical-align: middle;\n",
       "    }\n",
       "\n",
       "    .dataframe tbody tr th {\n",
       "        vertical-align: top;\n",
       "    }\n",
       "\n",
       "    .dataframe thead th {\n",
       "        text-align: right;\n",
       "    }\n",
       "</style>\n",
       "<table border=\"1\" class=\"dataframe\">\n",
       "  <thead>\n",
       "    <tr style=\"text-align: right;\">\n",
       "      <th></th>\n",
       "      <th>Adj Close</th>\n",
       "    </tr>\n",
       "    <tr>\n",
       "      <th>Date</th>\n",
       "      <th></th>\n",
       "    </tr>\n",
       "  </thead>\n",
       "  <tbody>\n",
       "    <tr>\n",
       "      <th>2017-01-03</th>\n",
       "      <td>49.659492</td>\n",
       "    </tr>\n",
       "    <tr>\n",
       "      <th>2017-01-04</th>\n",
       "      <td>49.774754</td>\n",
       "    </tr>\n",
       "    <tr>\n",
       "      <th>2017-01-05</th>\n",
       "      <td>49.682552</td>\n",
       "    </tr>\n",
       "    <tr>\n",
       "      <th>2017-01-06</th>\n",
       "      <td>50.643154</td>\n",
       "    </tr>\n",
       "    <tr>\n",
       "      <th>2017-01-09</th>\n",
       "      <td>50.120579</td>\n",
       "    </tr>\n",
       "    <tr>\n",
       "      <th>...</th>\n",
       "      <td>...</td>\n",
       "    </tr>\n",
       "    <tr>\n",
       "      <th>2018-12-21</th>\n",
       "      <td>42.512680</td>\n",
       "    </tr>\n",
       "    <tr>\n",
       "      <th>2018-12-24</th>\n",
       "      <td>42.042244</td>\n",
       "    </tr>\n",
       "    <tr>\n",
       "      <th>2018-12-27</th>\n",
       "      <td>41.291199</td>\n",
       "    </tr>\n",
       "    <tr>\n",
       "      <th>2018-12-28</th>\n",
       "      <td>42.265083</td>\n",
       "    </tr>\n",
       "    <tr>\n",
       "      <th>2018-12-31</th>\n",
       "      <td>42.793293</td>\n",
       "    </tr>\n",
       "  </tbody>\n",
       "</table>\n",
       "<p>505 rows × 1 columns</p>\n",
       "</div>"
      ],
      "text/plain": [
       "            Adj Close\n",
       "Date                 \n",
       "2017-01-03  49.659492\n",
       "2017-01-04  49.774754\n",
       "2017-01-05  49.682552\n",
       "2017-01-06  50.643154\n",
       "2017-01-09  50.120579\n",
       "...               ...\n",
       "2018-12-21  42.512680\n",
       "2018-12-24  42.042244\n",
       "2018-12-27  41.291199\n",
       "2018-12-28  42.265083\n",
       "2018-12-31  42.793293\n",
       "\n",
       "[505 rows x 1 columns]"
      ]
     },
     "execution_count": 3,
     "metadata": {},
     "output_type": "execute_result"
    }
   ],
   "source": [
    "start = '2017-01-01'\n",
    "end = '2019-01-01'\n",
    "GSPC = pd.DataFrame(data.DataReader(shares_name,\"yahoo\",start,end)['Adj Close'])#Choose the data\n",
    "print(GSPC)\n",
    "print(GSPC.isnull().sum().sort_values(ascending = False))\n",
    "\n",
    "GSPC_test = pd.DataFrame(data.DataReader(shares_name,\"yahoo\",start,end)['Adj Close'])#Choose the data\n",
    "GSPC_test"
   ]
  },
  {
   "cell_type": "code",
   "execution_count": 4,
   "id": "031fbaeb-3ab2-43f6-8696-d659f13ea196",
   "metadata": {},
   "outputs": [],
   "source": [
    "start = '2016-01-01'\n",
    "end = '2019-01-01'\n",
    "df=pd.DataFrame(data.DataReader(shares_name,\"yahoo\",start,end)['Adj Close'])\n",
    "df = df[['Adj Close']]"
   ]
  },
  {
   "cell_type": "code",
   "execution_count": 5,
   "id": "2e077c9d-69cc-4f5e-9927-b4f02db73436",
   "metadata": {},
   "outputs": [],
   "source": [
    "def create_noisy(data):\n",
    "    data_noisy = pd.DataFrame()\n",
    "    for i in range(0,100):\n",
    "        data_noisy= pd.concat([data_noisy,pd.Series(data.values[:,0])], axis=1)\n",
    "    return data_noisy.T"
   ]
  },
  {
   "cell_type": "code",
   "execution_count": 6,
   "id": "eb3efac1-74cf-47f0-8386-228c165795ba",
   "metadata": {},
   "outputs": [],
   "source": [
    "def create_pure(data):\n",
    "    data_pure = pd.DataFrame()\n",
    "    for i in range(2,52):\n",
    "        data_pure['SMA{}'.format(i)] = 0\n",
    "        data_pure['SMA{}'.format(i)] = data[['Adj Close']].rolling(window=i).mean()\n",
    "    \n",
    "    data_pure=data_pure.iloc[:,-len(GSPC_noisy.T):]\n",
    "    data=data.iloc[-len(GSPC_noisy.T):]\n",
    "    for i in range(2,52):\n",
    "        data_pure['EMA{}'.format(i)] = 0\n",
    "        data_pure['EMA{}'.format(i)] = data[['Adj Close']].ewm(span=i, adjust=False).mean()\n",
    "    \n",
    "    return data_pure.T"
   ]
  },
  {
   "cell_type": "code",
   "execution_count": 7,
   "id": "5b6603e1-1ec0-4804-9819-e2e828a15c7c",
   "metadata": {},
   "outputs": [],
   "source": [
    "GSPC_noisy=create_noisy(GSPC)\n",
    "\n",
    "GSPC_pure=create_pure(df).iloc[:,-len(GSPC_noisy.T):]"
   ]
  },
  {
   "cell_type": "code",
   "execution_count": 8,
   "id": "16ee7662-4bb1-4132-b090-278482a59dc8",
   "metadata": {},
   "outputs": [
    {
     "name": "stdout",
     "output_type": "stream",
     "text": [
      "(100, 505)\n",
      "(100, 505)\n"
     ]
    }
   ],
   "source": [
    "mm_t_g = MinMaxScaler()\n",
    "noise_mm = mm_t_g.fit_transform(GSPC_noisy.T).T\n",
    "prue_mm=mm_t_g.fit_transform(GSPC_pure.T).T\n",
    "print(prue_mm.shape)\n",
    "print(noise_mm.shape)"
   ]
  },
  {
   "cell_type": "code",
   "execution_count": 9,
   "id": "de845fa6-398e-4ae5-889d-b6b316aaabea",
   "metadata": {
    "tags": []
   },
   "outputs": [],
   "source": [
    "X_train_mm = np.asarray(noise_mm)\n",
    "X_train_mm=X_train_mm.reshape((len(X_train_mm), len(X_train_mm[0]), 1))\n",
    "Y_train_mm = np.asarray(prue_mm)\n",
    "Y_train_mm=Y_train_mm.reshape((len(Y_train_mm), len(Y_train_mm[0]), 1))\n",
    "X_train_mm, X_val_mm, Y_train_mm, Y_val_mm = train_test_split(X_train_mm, Y_train_mm, test_size=0.2,random_state=1)"
   ]
  },
  {
   "cell_type": "code",
   "execution_count": 10,
   "id": "1de3b0bf-1e25-4783-8e7c-a62a912b5e82",
   "metadata": {},
   "outputs": [],
   "source": [
    "keras.backend.clear_session()"
   ]
  },
  {
   "cell_type": "code",
   "execution_count": 11,
   "id": "7c7eebb8-b802-4f15-8913-a932b84c95f7",
   "metadata": {},
   "outputs": [
    {
     "name": "stdout",
     "output_type": "stream",
     "text": [
      "Model: \"sequential\"\n",
      "_________________________________________________________________\n",
      " Layer (type)                Output Shape              Param #   \n",
      "=================================================================\n",
      " conv1d (Conv1D)             (None, None, 128)         512       \n",
      "                                                                 \n",
      " conv1d_1 (Conv1D)           (None, None, 32)          12320     \n",
      "                                                                 \n",
      " conv1d_transpose (Conv1DTra  (None, None, 32)         3104      \n",
      " nspose)                                                         \n",
      "                                                                 \n",
      " conv1d_transpose_1 (Conv1DT  (None, None, 128)        12416     \n",
      " ranspose)                                                       \n",
      "                                                                 \n",
      " conv1d_2 (Conv1D)           (None, None, 1)           385       \n",
      "                                                                 \n",
      "=================================================================\n",
      "Total params: 28,737\n",
      "Trainable params: 28,737\n",
      "Non-trainable params: 0\n",
      "_________________________________________________________________\n"
     ]
    }
   ],
   "source": [
    "def set_model_encoding_mm():\n",
    "    model = Sequential()\n",
    "    model.add(Conv1D(128, kernel_size=3, activation='relu',kernel_constraint=max_norm(2), kernel_initializer='he_uniform',input_shape=(None, 1)))\n",
    "    model.add(Conv1D(32, kernel_size=3,activation='relu',kernel_constraint=max_norm(2), kernel_initializer='he_uniform'))\n",
    "    model.add(Conv1DTranspose(32, kernel_size=3, activation='relu',kernel_constraint=max_norm(2), kernel_initializer='he_uniform'))\n",
    "    model.add(Conv1DTranspose(128, kernel_size=3,activation='relu',kernel_constraint=max_norm(2), kernel_initializer='he_uniform'))\n",
    "    model.add(Conv1D(1,kernel_size=3,activation='sigmoid', padding='same'))\n",
    "    model.compile(optimizer='adam' , loss='binary_crossentropy')\n",
    "    \n",
    "    return model\n",
    "modelen_mm = set_model_encoding_mm()\n",
    "modelen_mm.summary()"
   ]
  },
  {
   "cell_type": "code",
   "execution_count": 12,
   "id": "3de5b841-418e-4cfd-b635-336758334a52",
   "metadata": {
    "tags": []
   },
   "outputs": [],
   "source": [
    "history_mm = modelen_mm.fit(X_train_mm, Y_train_mm, validation_data = (X_val_mm, Y_val_mm), epochs=20, batch_size=10, verbose=0)"
   ]
  },
  {
   "cell_type": "code",
   "execution_count": 13,
   "id": "1dcc957a-0b49-451b-8151-b88180877057",
   "metadata": {},
   "outputs": [
    {
     "data": {
      "image/png": "[encoded data removed]",
      "text/plain": [
       "<Figure size 432x288 with 1 Axes>"
      ]
     },
     "metadata": {
      "needs_background": "light"
     },
     "output_type": "display_data"
    }
   ],
   "source": [
    "# Check how loss & mae went down\n",
    "epoch_loss = history_mm.history['loss']\n",
    "epoch_val_loss = history_mm.history['val_loss']\n",
    "\n",
    "plt.figure()\n",
    "plt.plot(range(0,len(epoch_loss)), epoch_loss, 'bo', linewidth=2, label='Train Loss')\n",
    "plt.plot(range(0,len(epoch_val_loss)), epoch_val_loss, 'b', linewidth=2, label='Val Loss')\n",
    "plt.title('Evolution of loss on train & validation datasets over epochs')\n",
    "plt.legend(loc='best')\n",
    "\n",
    "\n",
    "plt.show()"
   ]
  },
  {
   "cell_type": "code",
   "execution_count": 14,
   "id": "ba93158f-9695-441b-82fe-63ef3b7393c9",
   "metadata": {},
   "outputs": [
    {
     "name": "stdout",
     "output_type": "stream",
     "text": [
      "1/1 [==============================] - 0s 112ms/step\n"
     ]
    },
    {
     "data": {
      "text/plain": [
       "<matplotlib.legend.Legend at 0x2d78a79f790>"
      ]
     },
     "execution_count": 14,
     "metadata": {},
     "output_type": "execute_result"
    },
    {
     "data": {
      "image/png": "[encoded data removed]",
      "text/plain": [
       "<Figure size 432x288 with 1 Axes>"
      ]
     },
     "metadata": {
      "needs_background": "light"
     },
     "output_type": "display_data"
    }
   ],
   "source": [
    "mm_t = MinMaxScaler()\n",
    "noise_mm_T=mm_t.fit_transform(GSPC_test)\n",
    "Y_test_mm_cnn = modelen_mm.predict(noise_mm_T.T)\n",
    "Y_test_mm_cnn=Y_test_mm_cnn.reshape((len(GSPC_test),1))\n",
    "pure_mm_cnn = mm_t.inverse_transform(Y_test_mm_cnn)\n",
    "noise_mm_T=pd.DataFrame(noise_mm_T,columns=['Adj Close'],index=GSPC_test.index)\n",
    "Y_test_mm_cnn=pd.DataFrame(Y_test_mm_cnn,columns=['Adj Close'],index=GSPC_test.index)\n",
    "pure_mm_cnn=pd.DataFrame(pure_mm_cnn,columns=['Adj Close'],index=GSPC_test.index)\n",
    "plt.figure()\n",
    "plt.plot(pure_mm_cnn)\n",
    "plt.plot(GSPC_test,'r')\n",
    "plt.title('Adj close price')\n",
    "plt.legend(['denoised', 'original'], loc='upper left')"
   ]
  },
  {
   "cell_type": "markdown",
   "id": "042fa7da-0395-4e82-824a-ef58fab2e2aa",
   "metadata": {
    "tags": []
   },
   "source": [
    "# regression"
   ]
  },
  {
   "cell_type": "code",
   "execution_count": 15,
   "id": "3e0a34af-23a5-4ef4-a169-a7f37d8d6a03",
   "metadata": {},
   "outputs": [],
   "source": [
    "original=GSPC_test\n",
    "recon=pure_mm_cnn"
   ]
  },
  {
   "cell_type": "code",
   "execution_count": 16,
   "id": "7eee503b-bf42-4fcf-a5ad-c1c95590a9c5",
   "metadata": {},
   "outputs": [],
   "source": [
    "def features(dataset):\n",
    "    ret_dataset=pd.DataFrame(index=dataset.index)\n",
    "    for i in range(2,52,1):\n",
    "        window = i\n",
    "        # Volatility\n",
    "        ret_dataset[str('SMA'+str(i))] = talib.SMA(dataset['Adj Close'],timeperiod=window).shift(1)\n",
    "        ret_dataset[str('EMA'+str(i))] = talib.EMA(dataset['Adj Close'],timeperiod=window).shift(1)\n",
    "        ret_dataset[str('STDDEV'+str(i))] = talib.STDDEV(dataset['Adj Close'],timeperiod=window).shift(1)\n",
    "        ret_dataset[str('Lag'+str(i))] = dataset['Adj Close'].shift(i)\n",
    "    return ret_dataset"
   ]
  },
  {
   "cell_type": "code",
   "execution_count": 17,
   "id": "445ab42c-e37e-4feb-bac7-7e5c10f2e0d0",
   "metadata": {},
   "outputs": [],
   "source": [
    "from sklearn.model_selection import TimeSeriesSplit\n",
    "import xgboost as xgb\n",
    "import talib\n",
    "splits=10"
   ]
  },
  {
   "cell_type": "code",
   "execution_count": 18,
   "id": "aa1b102c-7305-466a-818b-5c863b00edb9",
   "metadata": {},
   "outputs": [
    {
     "name": "stdout",
     "output_type": "stream",
     "text": [
      "3.510510170910005\n",
      "0.8605188201671387\n",
      "1.8215809473033182\n",
      "1.6361071708223147\n",
      "3.0336945729682268\n",
      "0.7963672988872731\n",
      "1.5782422981347048\n",
      "0.2812012129810372\n",
      "10.049313186361914\n",
      "8.309547286510833\n",
      "The last MSE: 8.309547286510833\n",
      "The average MSE: 3.1877082965046766\n"
     ]
    },
    {
     "data": {
      "image/png": "[encoded data removed]",
      "text/plain": [
       "<Figure size 720x1080 with 1 Axes>"
      ]
     },
     "metadata": {
      "needs_background": "light"
     },
     "output_type": "display_data"
    },
    {
     "data": {
      "image/png": "[encoded data removed]",
      "text/plain": [
       "<Figure size 720x1080 with 1 Axes>"
      ]
     },
     "metadata": {
      "needs_background": "light"
     },
     "output_type": "display_data"
    },
    {
     "data": {
      "image/png": "[encoded data removed]",
      "text/plain": [
       "<Figure size 720x1080 with 1 Axes>"
      ]
     },
     "metadata": {
      "needs_background": "light"
     },
     "output_type": "display_data"
    },
    {
     "data": {
      "image/png": "[encoded data removed]",
      "text/plain": [
       "<Figure size 720x1080 with 1 Axes>"
      ]
     },
     "metadata": {
      "needs_background": "light"
     },
     "output_type": "display_data"
    },
    {
     "data": {
      "image/png": "[encoded data removed]",
      "text/plain": [
       "<Figure size 720x1080 with 1 Axes>"
      ]
     },
     "metadata": {
      "needs_background": "light"
     },
     "output_type": "display_data"
    },
    {
     "data": {
      "image/png": "[encoded data removed]",
      "text/plain": [
       "<Figure size 720x1080 with 1 Axes>"
      ]
     },
     "metadata": {
      "needs_background": "light"
     },
     "output_type": "display_data"
    },
    {
     "data": {
      "image/png": "[encoded data removed]",
      "text/plain": [
       "<Figure size 720x1080 with 1 Axes>"
      ]
     },
     "metadata": {
      "needs_background": "light"
     },
     "output_type": "display_data"
    },
    {
     "data": {
      "image/png": "[encoded data removed]",
      "text/plain": [
       "<Figure size 720x1080 with 1 Axes>"
      ]
     },
     "metadata": {
      "needs_background": "light"
     },
     "output_type": "display_data"
    },
    {
     "data": {
      "image/png": "[encoded data removed]",
      "text/plain": [
       "<Figure size 720x1080 with 1 Axes>"
      ]
     },
     "metadata": {
      "needs_background": "light"
     },
     "output_type": "display_data"
    },
    {
     "data": {
      "image/png": "[encoded data removed]",
      "text/plain": [
       "<Figure size 720x1080 with 1 Axes>"
      ]
     },
     "metadata": {
      "needs_background": "light"
     },
     "output_type": "display_data"
    }
   ],
   "source": [
    "recon_fea=features(recon)\n",
    "recon_fea=recon_fea.iloc[51:]\n",
    "original_m=original.iloc[51::]\n",
    "recon_m=recon.iloc[51::]\n",
    "tscv = TimeSeriesSplit(n_splits=splits)\n",
    "msetestav=0\n",
    "\n",
    "for train_index, test_index in tscv.split(recon_fea):\n",
    "    model = xgb.XGBRegressor()\n",
    "    model.fit(recon_fea.iloc[train_index,:],original_m.iloc[train_index,:])\n",
    "    test_predict=model.predict(recon_fea.iloc[test_index,:])\n",
    "    msetest=mean_squared_error(original_m.iloc[test_index,:],test_predict)\n",
    "    i=1+int(len(train_index)/int(len(recon_fea)/splits))\n",
    "    plt.figure(figsize=(10,15))\n",
    "    plt.subplot(1 +splits,1,i)\n",
    "    past=np.asarray(original_m.iloc[train_index,:]).reshape(len(original_m.iloc[train_index,:]))\n",
    "    whole=np.concatenate((past, test_predict))\n",
    "    true=np.asarray(original_m.iloc[test_index,:]).reshape(len(original_m.iloc[test_index,:]))\n",
    "    whole_t=np.concatenate((past, true))\n",
    "    plt.plot(whole,\"r\",label='Predicted')\n",
    "    plt.plot(whole_t,\"b\",label='Original')\n",
    "    plt.ylabel('TimeSeriesSplit'+str(i))\n",
    "    print(msetest)\n",
    "    msetestav+=msetest\n",
    "msetestav=msetestav/splits\n",
    "print('The last MSE:',msetest)\n",
    "print('The average MSE:',msetestav)"
   ]
  },
  {
   "cell_type": "code",
   "execution_count": 19,
   "id": "c3c1a53b-01ba-4b82-859d-7bd5b4a4b6d8",
   "metadata": {},
   "outputs": [],
   "source": [
    "from bayes_opt import BayesianOptimization\n",
    "def rf_do(max_depth, learning_rate, n_estimators, min_child_weight, subsample, colsample_bytree,reg_alpha,reg_lambda,scale_pos_weight,gamma):\n",
    "    val = xgb.XGBRegressor(max_depth = round(max_depth),\n",
    "                           learning_rate = float(learning_rate),\n",
    "                           n_estimators = round(n_estimators),\n",
    "                           min_child_weight = round(min_child_weight),\n",
    "                           #max_delta_step = float(max_delta_step),\n",
    "                           subsample = float(subsample),\n",
    "                           colsample_bytree = float(colsample_bytree),\n",
    "                           reg_alpha = float(reg_alpha),\n",
    "                           reg_lambda = float(reg_lambda),\n",
    "                           scale_pos_weight = float(scale_pos_weight),\n",
    "                           gamma = float(gamma),\n",
    "                           eval_metric=mean_squared_error)\n",
    "    msetest=0\n",
    "    val.fit(recon_fea.iloc[train_index,:],original_m.iloc[train_index,:])\n",
    "    test_predict=val.predict(recon_fea.iloc[test_index,:])\n",
    "    msetest=-1*mean_squared_error(recon_m.iloc[test_index,:],test_predict)\n",
    "    return msetest"
   ]
  },
  {
   "cell_type": "code",
   "execution_count": null,
   "id": "76448a02-275a-462b-a4aa-9c6180e00b6f",
   "metadata": {
    "tags": []
   },
   "outputs": [
    {
     "name": "stdout",
     "output_type": "stream",
     "text": [
      "|   iter    |  target   | colsam... |   gamma   | learni... | max_depth | min_ch... | n_esti... | reg_alpha | reg_la... | scale_... | subsample |\n",
      "-------------------------------------------------------------------------------------------------------------------------------------------------\n",
      "| \u001b[0m 1       \u001b[0m | \u001b[0m-8.618   \u001b[0m | \u001b[0m 0.5524  \u001b[0m | \u001b[0m 0.3869  \u001b[0m | \u001b[0m 0.1495  \u001b[0m | \u001b[0m 2.621   \u001b[0m | \u001b[0m 1.129   \u001b[0m | \u001b[0m 342.5   \u001b[0m | \u001b[0m 0.1547  \u001b[0m | \u001b[0m 0.254   \u001b[0m | \u001b[0m 0.7561  \u001b[0m | \u001b[0m 0.9992  \u001b[0m |\n",
      "| \u001b[95m 2       \u001b[0m | \u001b[95m-7.115   \u001b[0m | \u001b[95m 0.9291  \u001b[0m | \u001b[95m 0.9839  \u001b[0m | \u001b[95m 0.1535  \u001b[0m | \u001b[95m 6.245   \u001b[0m | \u001b[95m 1.071   \u001b[0m | \u001b[95m 709.1   \u001b[0m | \u001b[95m 0.3024  \u001b[0m | \u001b[95m 0.4159  \u001b[0m | \u001b[95m 0.5686  \u001b[0m | \u001b[95m 0.6056  \u001b[0m |\n",
      "| \u001b[0m 3       \u001b[0m | \u001b[0m-7.167   \u001b[0m | \u001b[0m 0.551   \u001b[0m | \u001b[0m 0.2818  \u001b[0m | \u001b[0m 0.1552  \u001b[0m | \u001b[0m 3.208   \u001b[0m | \u001b[0m 1.899   \u001b[0m | \u001b[0m 342.3   \u001b[0m | \u001b[0m 0.1856  \u001b[0m | \u001b[0m 0.8884  \u001b[0m | \u001b[0m 0.3281  \u001b[0m | \u001b[0m 0.8988  \u001b[0m |\n",
      "| \u001b[0m 4       \u001b[0m | \u001b[0m-7.116   \u001b[0m | \u001b[0m 0.9325  \u001b[0m | \u001b[0m 0.0494  \u001b[0m | \u001b[0m 0.2004  \u001b[0m | \u001b[0m 17.16   \u001b[0m | \u001b[0m 1.447   \u001b[0m | \u001b[0m 275.0   \u001b[0m | \u001b[0m 0.3954  \u001b[0m | \u001b[0m 0.7711  \u001b[0m | \u001b[0m 0.5868  \u001b[0m | \u001b[0m 0.9289  \u001b[0m |\n",
      "| \u001b[95m 5       \u001b[0m | \u001b[95m-6.896   \u001b[0m | \u001b[95m 0.5431  \u001b[0m | \u001b[95m 0.9449  \u001b[0m | \u001b[95m 0.2824  \u001b[0m | \u001b[95m 13.36   \u001b[0m | \u001b[95m 0.7996  \u001b[0m | \u001b[95m 791.6   \u001b[0m | \u001b[95m 0.7909  \u001b[0m | \u001b[95m 0.7034  \u001b[0m | \u001b[95m 0.4164  \u001b[0m | \u001b[95m 0.9314  \u001b[0m |\n",
      "| \u001b[0m 6       \u001b[0m | \u001b[0m-6.927   \u001b[0m | \u001b[0m 0.7264  \u001b[0m | \u001b[0m 0.6275  \u001b[0m | \u001b[0m 0.1728  \u001b[0m | \u001b[0m 4.798   \u001b[0m | \u001b[0m 1.995   \u001b[0m | \u001b[0m 550.6   \u001b[0m | \u001b[0m 0.6121  \u001b[0m | \u001b[0m 0.2543  \u001b[0m | \u001b[0m 0.5257  \u001b[0m | \u001b[0m 0.9705  \u001b[0m |\n",
      "| \u001b[95m 7       \u001b[0m | \u001b[95m-6.879   \u001b[0m | \u001b[95m 0.889   \u001b[0m | \u001b[95m 0.0524  \u001b[0m | \u001b[95m 0.2381  \u001b[0m | \u001b[95m 7.064   \u001b[0m | \u001b[95m 0.974   \u001b[0m | \u001b[95m 725.0   \u001b[0m | \u001b[95m 0.3829  \u001b[0m | \u001b[95m 0.7217  \u001b[0m | \u001b[95m 0.7481  \u001b[0m | \u001b[95m 0.9411  \u001b[0m |\n",
      "| \u001b[95m 8       \u001b[0m | \u001b[95m-6.248   \u001b[0m | \u001b[95m 0.5032  \u001b[0m | \u001b[95m 0.2264  \u001b[0m | \u001b[95m 0.2195  \u001b[0m | \u001b[95m 16.8    \u001b[0m | \u001b[95m 0.6065  \u001b[0m | \u001b[95m 413.4   \u001b[0m | \u001b[95m 0.59    \u001b[0m | \u001b[95m 0.3151  \u001b[0m | \u001b[95m 0.8279  \u001b[0m | \u001b[95m 0.9221  \u001b[0m |\n",
      "| \u001b[0m 9       \u001b[0m | \u001b[0m-6.927   \u001b[0m | \u001b[0m 0.9184  \u001b[0m | \u001b[0m 0.5348  \u001b[0m | \u001b[0m 0.2143  \u001b[0m | \u001b[0m 16.35   \u001b[0m | \u001b[0m 1.253   \u001b[0m | \u001b[0m 412.8   \u001b[0m | \u001b[0m 0.6139  \u001b[0m | \u001b[0m 0.2575  \u001b[0m | \u001b[0m 0.2567  \u001b[0m | \u001b[0m 0.9042  \u001b[0m |\n",
      "| \u001b[0m 10      \u001b[0m | \u001b[0m-7.139   \u001b[0m | \u001b[0m 0.9459  \u001b[0m | \u001b[0m 0.4479  \u001b[0m | \u001b[0m 0.1314  \u001b[0m | \u001b[0m 16.03   \u001b[0m | \u001b[0m 0.4459  \u001b[0m | \u001b[0m 413.7   \u001b[0m | \u001b[0m 0.5083  \u001b[0m | \u001b[0m 0.8929  \u001b[0m | \u001b[0m 0.5074  \u001b[0m | \u001b[0m 0.7693  \u001b[0m |\n",
      "| \u001b[95m 11      \u001b[0m | \u001b[95m-6.033   \u001b[0m | \u001b[95m 0.8074  \u001b[0m | \u001b[95m 0.163   \u001b[0m | \u001b[95m 0.1102  \u001b[0m | \u001b[95m 12.63   \u001b[0m | \u001b[95m 1.001   \u001b[0m | \u001b[95m 791.5   \u001b[0m | \u001b[95m 0.7567  \u001b[0m | \u001b[95m 0.7836  \u001b[0m | \u001b[95m 0.3554  \u001b[0m | \u001b[95m 0.5672  \u001b[0m |\n",
      "| \u001b[0m 12      \u001b[0m | \u001b[0m-6.449   \u001b[0m | \u001b[0m 0.8744  \u001b[0m | \u001b[0m 0.3501  \u001b[0m | \u001b[0m 0.02457 \u001b[0m | \u001b[0m 12.13   \u001b[0m | \u001b[0m 1.306   \u001b[0m | \u001b[0m 791.3   \u001b[0m | \u001b[0m 0.7051  \u001b[0m | \u001b[0m 0.7089  \u001b[0m | \u001b[0m 0.9636  \u001b[0m | \u001b[0m 0.5744  \u001b[0m |\n",
      "| \u001b[0m 13      \u001b[0m | \u001b[0m-6.47    \u001b[0m | \u001b[0m 0.6353  \u001b[0m | \u001b[0m 0.6468  \u001b[0m | \u001b[0m 0.102   \u001b[0m | \u001b[0m 12.53   \u001b[0m | \u001b[0m 1.601   \u001b[0m | \u001b[0m 792.6   \u001b[0m | \u001b[0m 0.898   \u001b[0m | \u001b[0m 0.6641  \u001b[0m | \u001b[0m 0.5363  \u001b[0m | \u001b[0m 0.8329  \u001b[0m |\n",
      "| \u001b[0m 14      \u001b[0m | \u001b[0m-6.774   \u001b[0m | \u001b[0m 0.6952  \u001b[0m | \u001b[0m 0.4384  \u001b[0m | \u001b[0m 0.03879 \u001b[0m | \u001b[0m 11.45   \u001b[0m | \u001b[0m 0.4335  \u001b[0m | \u001b[0m 790.8   \u001b[0m | \u001b[0m 0.5314  \u001b[0m | \u001b[0m 0.4997  \u001b[0m | \u001b[0m 0.7143  \u001b[0m | \u001b[0m 0.7217  \u001b[0m |\n",
      "| \u001b[0m 15      \u001b[0m | \u001b[0m-6.287   \u001b[0m | \u001b[0m 0.5143  \u001b[0m | \u001b[0m 0.09327 \u001b[0m | \u001b[0m 0.08106 \u001b[0m | \u001b[0m 12.81   \u001b[0m | \u001b[0m 0.6407  \u001b[0m | \u001b[0m 791.7   \u001b[0m | \u001b[0m 0.4455  \u001b[0m | \u001b[0m 0.5702  \u001b[0m | \u001b[0m 0.4973  \u001b[0m | \u001b[0m 0.7234  \u001b[0m |\n",
      "| \u001b[0m 16      \u001b[0m | \u001b[0m-6.354   \u001b[0m | \u001b[0m 0.8236  \u001b[0m | \u001b[0m 0.2698  \u001b[0m | \u001b[0m 0.176   \u001b[0m | \u001b[0m 13.07   \u001b[0m | \u001b[0m 1.235   \u001b[0m | \u001b[0m 792.6   \u001b[0m | \u001b[0m 0.1118  \u001b[0m | \u001b[0m 0.2145  \u001b[0m | \u001b[0m 0.8706  \u001b[0m | \u001b[0m 0.5165  \u001b[0m |\n",
      "| \u001b[95m 17      \u001b[0m | \u001b[95m-5.879   \u001b[0m | \u001b[95m 0.6002  \u001b[0m | \u001b[95m 0.01452 \u001b[0m | \u001b[95m 0.01392 \u001b[0m | \u001b[95m 11.75   \u001b[0m | \u001b[95m 0.6948  \u001b[0m | \u001b[95m 793.5   \u001b[0m | \u001b[95m 0.8458  \u001b[0m | \u001b[95m 0.3642  \u001b[0m | \u001b[95m 0.4839  \u001b[0m | \u001b[95m 0.6826  \u001b[0m |\n",
      "| \u001b[0m 18      \u001b[0m | \u001b[0m-7.937   \u001b[0m | \u001b[0m 0.9328  \u001b[0m | \u001b[0m 0.2746  \u001b[0m | \u001b[0m 0.2104  \u001b[0m | \u001b[0m 12.73   \u001b[0m | \u001b[0m 0.5768  \u001b[0m | \u001b[0m 794.3   \u001b[0m | \u001b[0m 0.3175  \u001b[0m | \u001b[0m 0.7835  \u001b[0m | \u001b[0m 0.7034  \u001b[0m | \u001b[0m 0.6714  \u001b[0m |\n",
      "| \u001b[0m 19      \u001b[0m | \u001b[0m-7.164   \u001b[0m | \u001b[0m 0.8151  \u001b[0m | \u001b[0m 0.5355  \u001b[0m | \u001b[0m 0.03688 \u001b[0m | \u001b[0m 11.89   \u001b[0m | \u001b[0m 1.975   \u001b[0m | \u001b[0m 792.3   \u001b[0m | \u001b[0m 0.2623  \u001b[0m | \u001b[0m 0.5662  \u001b[0m | \u001b[0m 0.4266  \u001b[0m | \u001b[0m 0.8716  \u001b[0m |\n",
      "| \u001b[0m 20      \u001b[0m | \u001b[0m-6.641   \u001b[0m | \u001b[0m 0.8636  \u001b[0m | \u001b[0m 0.4667  \u001b[0m | \u001b[0m 0.01105 \u001b[0m | \u001b[0m 13.33   \u001b[0m | \u001b[0m 1.497   \u001b[0m | \u001b[0m 792.5   \u001b[0m | \u001b[0m 0.7961  \u001b[0m | \u001b[0m 0.7581  \u001b[0m | \u001b[0m 0.897   \u001b[0m | \u001b[0m 0.5941  \u001b[0m |\n"
     ]
    }
   ],
   "source": [
    "rf_bo = BayesianOptimization(\n",
    "        rf_do,\n",
    "                {'max_depth':(1,20),\n",
    "                'learning_rate': (0.01,0.3),\n",
    "                'n_estimators': (100,1000),\n",
    "                'min_child_weight': (0,2),\n",
    "                #'max_delta_step': (0.01,1),\n",
    "                'subsample':(0.5,1),\n",
    "                'colsample_bytree': (0.5,1),\n",
    "                'reg_alpha': (0.01,1),\n",
    "                'reg_lambda': (0.2,1),\n",
    "                'scale_pos_weight': (0.2,1),\n",
    "                'gamma':(0,1)}\n",
    "    )\n",
    "rf_bo.maximize()#init_points=20, n_iter=10\n",
    "rf_bo_p=rf_bo.max\n",
    "rf_bo_p['params']['max_depth'] = round(rf_bo_p['params']['max_depth'])\n",
    "rf_bo_p['params']['n_estimators'] = round(rf_bo_p['params']['n_estimators'])\n",
    "rf_bo_p['params']['min_child_weight'] = round(rf_bo_p['params']['min_child_weight'])\n",
    "rf_bo_p"
   ]
  },
  {
   "cell_type": "code",
   "execution_count": null,
   "id": "e0b3bae2-18c9-4fd6-a35d-ee8d51a9b856",
   "metadata": {},
   "outputs": [],
   "source": []
  },
  {
   "cell_type": "code",
   "execution_count": null,
   "id": "492d52c6-760b-4637-815d-79647e992238",
   "metadata": {},
   "outputs": [],
   "source": [
    "original_fea=features(original)\n",
    "original_fea=original_fea.iloc[51:]\n",
    "original_m=original.iloc[51::]\n",
    "tscv = TimeSeriesSplit(n_splits=splits)\n",
    "msetestav=0\n",
    "for train_index, test_index in tscv.split(original_fea):\n",
    "    model = xgb.XGBRegressor()\n",
    "    model.fit (original_fea.iloc[train_index,:],original_m.iloc[train_index,:])\n",
    "    test_predict=model.predict(original_fea.iloc[test_index,:])\n",
    "    msetest=mean_squared_error(original_m.iloc[test_index,:],test_predict)\n",
    "    i=1+int(len(train_index)/int(len(recon_fea)/splits))\n",
    "    plt.figure(figsize=(10,15))\n",
    "    plt.subplot(1 +splits,1,i)\n",
    "    past=np.asarray(original_m.iloc[train_index,:]).reshape(len(original_m.iloc[train_index,:]))\n",
    "    whole=np.concatenate((past, test_predict))\n",
    "    true=np.asarray(original_m.iloc[test_index,:]).reshape(len(original_m.iloc[test_index,:]))\n",
    "    whole_t=np.concatenate((past, true))\n",
    "    plt.plot(whole,\"r\",label='Predicted')\n",
    "    plt.plot(whole_t,\"b\",label='Original')\n",
    "    plt.ylabel('TimeSeriesSplit'+str(i))\n",
    "    print(msetest)\n",
    "    msetestav+=msetest\n",
    "msetestav=msetestav/splits\n",
    "print('The last MSE:',msetest)\n",
    "print('The average MSE:',msetestav)"
   ]
  },
  {
   "cell_type": "code",
   "execution_count": null,
   "id": "4a2ad541-c180-41ce-865a-9433a701eecd",
   "metadata": {},
   "outputs": [],
   "source": [
    "def rf_oo(max_depth, learning_rate, n_estimators, min_child_weight, subsample, colsample_bytree,reg_alpha,reg_lambda,scale_pos_weight,gamma):\n",
    "    val = xgb.XGBRegressor(max_depth = round(max_depth),\n",
    "                           learning_rate = float(learning_rate),\n",
    "                           n_estimators = round(n_estimators),\n",
    "                           min_child_weight = round(min_child_weight),\n",
    "                           subsample = float(subsample),\n",
    "                           colsample_bytree = float(colsample_bytree),\n",
    "                           reg_alpha = float(reg_alpha),\n",
    "                           reg_lambda = float(reg_lambda),\n",
    "                           scale_pos_weight = float(scale_pos_weight),\n",
    "                           gamma = float(gamma),\n",
    "                           eval_metric=mean_squared_error)\n",
    "    msetest=0\n",
    "    val.fit(original_fea.iloc[train_index,:],original_m.iloc[train_index,:])\n",
    "    test_predict=val.predict(original_fea.iloc[test_index,:])\n",
    "    msetest=-1*mean_squared_error(original_m.iloc[test_index,:],test_predict)\n",
    "    return msetest"
   ]
  },
  {
   "cell_type": "code",
   "execution_count": null,
   "id": "b7d61f0d-7d79-435c-af08-8e3c7a13e0f8",
   "metadata": {
    "tags": []
   },
   "outputs": [],
   "source": [
    "rf_bo = BayesianOptimization(\n",
    "        rf_oo,\n",
    "                {'max_depth':(1,20),\n",
    "                'learning_rate': (0.01,0.3),\n",
    "                'n_estimators': (100,1000),\n",
    "                'min_child_weight': (0,2),\n",
    "                'subsample':(0.5,1),\n",
    "                'colsample_bytree': (0.5,1),\n",
    "                'reg_alpha': (0.01,1),\n",
    "                'reg_lambda': (0.2,1),\n",
    "                'scale_pos_weight': (0.2,1),\n",
    "                'gamma':(0,1)}\n",
    "    )\n",
    "rf_bo.maximize()#init_points=20, n_iter=10\n",
    "rf_bo_p=rf_bo.max\n",
    "rf_bo_p['params']['max_depth'] = round(rf_bo_p['params']['max_depth'])\n",
    "rf_bo_p['params']['n_estimators'] = round(rf_bo_p['params']['n_estimators'])\n",
    "rf_bo_p['params']['min_child_weight'] = round(rf_bo_p['params']['min_child_weight'])\n",
    "rf_bo_p"
   ]
  },
  {
   "cell_type": "markdown",
   "id": "b05eaca6-95f5-47e7-b10f-4e7e974e5ed1",
   "metadata": {
    "tags": []
   },
   "source": [
    "# EMDCNN"
   ]
  },
  {
   "cell_type": "code",
   "execution_count": null,
   "id": "0aa884c7",
   "metadata": {},
   "outputs": [],
   "source": [
    "# Log Returns\n",
    "GSPC_test_n=GSPC_test.copy()\n",
    "GSPC_test_n['log_ret'] = np.log(GSPC_test.iloc[:,0]).diff()\n",
    "pure_mm_cnn['log_ret'] = np.log(pure_mm_cnn.iloc[:,0]).diff()\n",
    "\n",
    "\n",
    "plt.figure(figsize=(20,4),dpi=200)\n",
    "plt.subplot(1,2,1)\n",
    "plt.plot(GSPC_test_n['log_ret'], 'r-', linewidth=2, label='Original log return')\n",
    "plt.ylim(-0.1,0.1)\n",
    "plt.title('log return of original data')\n",
    "plt.legend(loc='best')\n",
    "\n",
    "plt.subplot(1,2,2)\n",
    "plt.plot(pure_mm_cnn['log_ret'] , 'b-', linewidth=2, label='Denoised log return')\n",
    "plt.ylim(-0.1,0.1)\n",
    "plt.title('log return of denoised data(CNN)')\n",
    "plt.legend(loc='best')\n",
    "\n",
    "\n",
    "plt.show()"
   ]
  },
  {
   "cell_type": "code",
   "execution_count": null,
   "id": "3c25639a-8823-42a6-9340-b8279eff2043",
   "metadata": {},
   "outputs": [],
   "source": [
    "def svmf1_ori(dataset,dataset2,long_predict=10,percentage=0.8):\n",
    "    f11=np.empty(0)\n",
    "    f12=np.empty(0)\n",
    "    max_t=0\n",
    "    if dataset['log_ret'].max()>dataset2['log_ret'].max():\n",
    "        max_t=dataset2['log_ret'].max()\n",
    "    else:\n",
    "        max_t=dataset['log_ret'].max()\n",
    "    for n in np.arange(0.0, (percentage*max_t), (percentage*max_t)/50):#get multiple threshold\n",
    "        threshold = n\n",
    "        # for dataset\n",
    "        daily_label=np.empty(0)#make the data labelled\n",
    "        for i in range(0,len(dataset)):\n",
    "            if dataset.iloc[i,1]<-threshold:\n",
    "                n=-1\n",
    "                daily_label=np.append(daily_label,n)\n",
    "            elif abs(dataset.iloc[i,1])<=threshold:\n",
    "                n=0\n",
    "                daily_label=np.append(daily_label,n)\n",
    "            else:\n",
    "                n=1\n",
    "                daily_label=np.append(daily_label,n)\n",
    "        X=pd.DataFrame()\n",
    "        Y=pd.DataFrame()\n",
    "        for i in range(1,len(dataset)-long_predict):\n",
    "            X=pd.concat([X, pd.DataFrame(dataset.iloc[:,1].values[i:i+long_predict]).T],ignore_index=True)#n values of log return to predict trends\n",
    "            Y=pd.concat([Y, pd.DataFrame(daily_label[i+long_predict:i+long_predict+1]).T],ignore_index=True)#labels of trends\n",
    "        X=np.array(X)\n",
    "        Y=np.array(Y[0])\n",
    "        X_train, X_test, Y_train, Y_test = train_test_split(X, Y, test_size=0.2,random_state=1,shuffle=False)\n",
    "        svc_rbf = SVC(kernel='rbf',decision_function_shape='ovo')\n",
    "        model = svc_rbf.fit(X_train,Y_train)\n",
    "        Y_pred = model.predict(X_test)\n",
    "        f1 = f1_score(Y_test,Y_pred,average='weighted')\n",
    "        f11=np.append(f11,f1)\n",
    "        \n",
    "        # for dataset2\n",
    "    for n in np.arange(0.0, (percentage*max_t), (percentage*max_t)/50):#get multiple threshold\n",
    "        threshold = n\n",
    "        daily_label2=np.empty(0)#make the data labelled\n",
    "        for i in range(0,len(dataset2)):\n",
    "            if dataset.iloc[i,1]<-threshold:\n",
    "                n=-1\n",
    "                daily_label2=np.append(daily_label2,n)\n",
    "            elif abs(dataset.iloc[i,1])<=threshold:\n",
    "                n=0\n",
    "                daily_label2=np.append(daily_label2,n)\n",
    "            else:\n",
    "                n=1\n",
    "                daily_label2=np.append(daily_label2,n)\n",
    "        X=pd.DataFrame()\n",
    "        Y=pd.DataFrame()\n",
    "        for i in range(1,len(dataset2)-long_predict):\n",
    "            X=pd.concat([X, pd.DataFrame(dataset2.iloc[:,1].values[i:i+long_predict]).T],ignore_index=True)#n values of log return to predict trends\n",
    "            Y=pd.concat([Y, pd.DataFrame(daily_label2[i+long_predict:i+long_predict+1]).T],ignore_index=True)#labels of trends\n",
    "        X=np.array(X)\n",
    "        Y=np.array(Y[0])\n",
    "        X_train, X_test, Y_train, Y_test = train_test_split(X, Y, test_size=0.2,random_state=1,shuffle=False)\n",
    "        svc_rbf = SVC(kernel='rbf',decision_function_shape='ovo')\n",
    "        model = svc_rbf.fit(X_train,Y_train)\n",
    "        Y_pred = model.predict(X_test)\n",
    "        f1 = f1_score(Y_test,Y_pred,average='weighted')\n",
    "        f12=np.append(f12,f1)\n",
    "    return f11,f12"
   ]
  },
  {
   "cell_type": "code",
   "execution_count": null,
   "id": "a1ae8d44-37f7-4a20-b34b-d58adaa9ccb5",
   "metadata": {},
   "outputs": [],
   "source": [
    "original_svm_ori,denoised_svm_ori=svmf1_ori(GSPC_test_n,pure_mm_cnn,long_predict=1,percentage=1)"
   ]
  },
  {
   "cell_type": "code",
   "execution_count": null,
   "id": "c2a97c5c-5771-405f-963f-0be24cbaddee",
   "metadata": {},
   "outputs": [],
   "source": [
    "plt.figure(figsize=(10,3),dpi=200)\n",
    "percentage=1\n",
    "max_t=0\n",
    "if GSPC_test_n['log_ret'].max()>pure_mm_cnn['log_ret'].max():\n",
    "    max_t=pure_mm_cnn['log_ret'].max()\n",
    "else:\n",
    "    max_t=GSPC_test_n['log_ret'].max()\n",
    "plt.plot(np.arange(0.0,(percentage*max_t), (percentage*max_t)/50),original_svm_ori,label='orignal_svm', color='red', linewidth=1.0)\n",
    "plt.plot(np.arange(0.0,(percentage*max_t), (percentage*max_t)/50),denoised_svm_ori,label='denoised_svm', color='blue', linewidth=1.0, linestyle='--')\n",
    "\n",
    "plt.xticks(np.arange(0.0,(percentage*max_t), (percentage*max_t)/6))\n",
    "plt.xlabel('threshold')\n",
    "plt.ylabel('f1_value')\n",
    "plt.legend()"
   ]
  },
  {
   "cell_type": "markdown",
   "id": "7e14ad83-019e-4ff1-82f3-18c3369a5d61",
   "metadata": {
    "tags": []
   },
   "source": [
    "# Strategies "
   ]
  },
  {
   "cell_type": "markdown",
   "id": "b7d0d983-3e18-4fdc-b979-70eafd04d119",
   "metadata": {
    "tags": []
   },
   "source": [
    "## Bollinger band"
   ]
  },
  {
   "cell_type": "code",
   "execution_count": null,
   "id": "7d37b5dc",
   "metadata": {},
   "outputs": [],
   "source": [
    "def bbands(close_prices, window, no_of_stdev):#bollinger  bands, using today's closing price\n",
    "\n",
    "    rolling_mean = close_prices.rolling(window,min_periods=1).mean()#.shift(1)\n",
    "    rolling_std = close_prices.rolling(window,min_periods=1).std()#.shift(1)\n",
    "    \n",
    "\n",
    "    upper_band = rolling_mean + (rolling_std * no_of_stdev)\n",
    "    lower_band = rolling_mean - (rolling_std * no_of_stdev)\n",
    "\n",
    "    return rolling_mean, upper_band, lower_band"
   ]
  },
  {
   "cell_type": "code",
   "execution_count": null,
   "id": "2e2b0282",
   "metadata": {},
   "outputs": [],
   "source": [
    "def buy_signal_function(dataset):\n",
    "    buy_signal=pd.DataFrame(columns=['Price'],index=dataset.index)\n",
    "    buy_signal['Price']=dataset['Adj Close']\n",
    "    buy_signal['mean'],buy_signal['upper'],buy_signal['lower']=bbands(dataset['Adj Close'],20,2)\n",
    "    buy_signal['side'] = np.nan \n",
    "    buy_signal['signal'] = np.nan \n",
    "    for i in range(0,len(dataset)):\n",
    "        if (buy_signal.iloc[i,0]<buy_signal.iloc[i,3]):\n",
    "            buy_signal.iloc[i,4]=1\n",
    "            if (buy_signal.iloc[i-1,0]>=buy_signal.iloc[i-1,3]):\n",
    "                buy_signal.iloc[i,5]=1\n",
    "        elif (buy_signal.iloc[i,0]>buy_signal.iloc[i,2]):\n",
    "            buy_signal.iloc[i,4]=-1\n",
    "            if (buy_signal.iloc[i-1,0]<=buy_signal.iloc[i-1,2]):\n",
    "                buy_signal.iloc[i,5]=-1\n",
    "    return buy_signal"
   ]
  },
  {
   "cell_type": "code",
   "execution_count": null,
   "id": "fc2f7ff7-2a91-4a9c-9baf-33735682047f",
   "metadata": {},
   "outputs": [],
   "source": [
    "GSPC_test_signal=buy_signal_function(GSPC_test_n)\n",
    "\n",
    "\n",
    "pure_mm_cnn_signal=buy_signal_function(pure_mm_cnn)\n"
   ]
  },
  {
   "cell_type": "code",
   "execution_count": null,
   "id": "f0b4fcf7",
   "metadata": {},
   "outputs": [],
   "source": [
    "\n",
    "print('GSPC_test_signal:\\n',GSPC_test_signal.signal.value_counts(),'\\n')\n",
    "print('pure_mm_cnn_signal:\\n',pure_mm_cnn_signal.signal.value_counts(),'\\n')\n"
   ]
  },
  {
   "cell_type": "code",
   "execution_count": null,
   "id": "fa44e238-d005-45e4-a88c-53cfb56bba31",
   "metadata": {},
   "outputs": [],
   "source": [
    "print(GSPC_test[GSPC_test_signal.signal == 1.0])\n",
    "print(GSPC_test[pure_mm_cnn_signal.signal == 1.0])"
   ]
  },
  {
   "cell_type": "code",
   "execution_count": null,
   "id": "12a29975-f0a7-4621-b8b7-39d00bc02b01",
   "metadata": {},
   "outputs": [],
   "source": [
    "print(GSPC_test[GSPC_test_signal.signal == -1.0])\n",
    "print(GSPC_test[pure_mm_cnn_signal.signal == -1.0])"
   ]
  },
  {
   "cell_type": "code",
   "execution_count": null,
   "id": "1a953b10",
   "metadata": {},
   "outputs": [],
   "source": [
    "plt.figure(figsize=(15,9),dpi=150)\n",
    "plt.subplot(2,1,1)\n",
    "plt.title('GSPC_test')\n",
    "plt.plot(GSPC_test_signal['Price'], color='r', lw=1,label='Close')\n",
    "plt.plot(GSPC_test_signal[['mean','upper','lower']], lw=1,label=['mean','upper','lower'])\n",
    "plt.plot(GSPC_test_signal.loc[GSPC_test_signal.signal == 1.0].index, \n",
    "         GSPC_test_signal.Price[GSPC_test_signal.signal == 1.0],\n",
    "         '^', markersize=5, color='m',label='long')\n",
    "plt.plot(GSPC_test_signal.loc[GSPC_test_signal.signal == -1.0].index, \n",
    "         GSPC_test_signal.Price[GSPC_test_signal.signal == -1.0],\n",
    "         'v', markersize=5, color='k',label='short')\n",
    "plt.legend()         \n",
    "\n",
    "\n",
    "plt.subplot(2,1,2)\n",
    "plt.title('pure_mm_cnn_signal')\n",
    "plt.plot(pure_mm_cnn_signal['Price'], color='r', lw=1,label='Close')\n",
    "plt.plot(pure_mm_cnn_signal[['mean','upper','lower']], lw=1,label=['mean','upper','lower'])\n",
    "plt.plot(pure_mm_cnn_signal.loc[pure_mm_cnn_signal.signal == 1.0].index, \n",
    "         pure_mm_cnn_signal.Price[pure_mm_cnn_signal.signal == 1.0],\n",
    "         '^', markersize=5, color='m',label='long')\n",
    "plt.plot(pure_mm_cnn_signal.loc[pure_mm_cnn_signal.signal == -1.0].index, \n",
    "         pure_mm_cnn_signal.Price[pure_mm_cnn_signal.signal == -1.0],\n",
    "         'v', markersize=5, color='k',label='short')\n",
    "plt.legend()    \n"
   ]
  },
  {
   "cell_type": "markdown",
   "id": "c1ef8a64-c6d3-40ee-8b1d-840f377bb860",
   "metadata": {
    "tags": []
   },
   "source": [
    "## MACD"
   ]
  },
  {
   "cell_type": "code",
   "execution_count": null,
   "id": "e31c5c2d",
   "metadata": {},
   "outputs": [],
   "source": [
    "def MACD(dataset,short_window = 12,long_window = 26, signal_window=9):\n",
    "    # Initiate short and long windows\n",
    "\n",
    "    # Initialise the `signals` dataframe and add the `signal` column\n",
    "    signals = pd.DataFrame(index=dataset.index)\n",
    "    signals['signal'] = 0.0\n",
    "\n",
    "    # Calculate short term moving averages\n",
    "    signals['short_mavg'] = dataset['Adj Close'].ewm(span=short_window, min_periods=1).mean()\n",
    "\n",
    "    # Calculate long term moving averages\n",
    "    signals['long_mavg'] = dataset['Adj Close'].ewm(span=long_window, min_periods=1).mean()\n",
    "    \n",
    "    # Calculate DIF \n",
    "    signals['DIF'] = signals['short_mavg']-signals['long_mavg']\n",
    "    \n",
    "     # Calculate DIF moving averages\n",
    "    signals['DEA'] = signals['DIF'].ewm(span=signal_window, min_periods=1).mean()\n",
    "\n",
    "    # Generate signal\n",
    "    signals['signal'] = np.where(signals['DIF']> signals['DEA'], 1.0, 0.0)   \n",
    "\n",
    "    # Generate trading orders\n",
    "    signals['positions'] = signals['signal'].diff()\n",
    "    return signals"
   ]
  },
  {
   "cell_type": "code",
   "execution_count": null,
   "id": "5db4db34",
   "metadata": {},
   "outputs": [],
   "source": [
    "GSPC_test_macd=MACD(GSPC_test_n,short_window = 14,long_window = 22)\n",
    "pure_mm_cnn_macd=MACD(pure_mm_cnn,short_window = 14,long_window = 22)\n",
    "#pure_mm_lstm_macd=MACD(pure_mm_lstm,short_window = 14,long_window = 22)\n",
    "\n",
    "plt.figure(figsize=(15,9),dpi=150)\n",
    "plt.subplot(2,1,1)\n",
    "plt.title('GSPC_test')\n",
    "plt.plot(GSPC_test_n['Adj Close'], color='r', lw=1,label='Close')\n",
    "plt.plot(GSPC_test_macd[['short_mavg', 'long_mavg']], lw=2,label=['short_mavg', 'long_mavg'])\n",
    "plt.plot(GSPC_test_macd.loc[GSPC_test_macd.positions == 1.0].index, \n",
    "         GSPC_test_macd.short_mavg[GSPC_test_macd.positions == 1.0],\n",
    "         '^', markersize=5, color='m',label='long')\n",
    "plt.plot(GSPC_test_macd.loc[GSPC_test_macd.positions == -1.0].index, \n",
    "         GSPC_test_macd.short_mavg[GSPC_test_macd.positions == -1.0],\n",
    "         'v', markersize=5, color='k',label='short')\n",
    "plt.legend()         \n",
    "\n",
    "\n",
    "plt.subplot(2,1,2)\n",
    "plt.title('pure_mm_cnn')\n",
    "plt.plot(pure_mm_cnn['Adj Close'], color='r', lw=1,label='Close')\n",
    "plt.plot(pure_mm_cnn_macd[['short_mavg', 'long_mavg']], lw=2,label=['short_mavg', 'long_mavg'])\n",
    "plt.plot(pure_mm_cnn_macd.loc[pure_mm_cnn_macd.positions == 1.0].index, \n",
    "         pure_mm_cnn_macd.short_mavg[pure_mm_cnn_macd.positions == 1.0],\n",
    "         '^', markersize=5, color='m',label='long')\n",
    "plt.plot(pure_mm_cnn_macd.loc[pure_mm_cnn_macd.positions == -1.0].index, \n",
    "         pure_mm_cnn_macd.short_mavg[pure_mm_cnn_macd.positions == -1.0],\n",
    "         'v', markersize=5, color='k',label='short')\n",
    "plt.legend()   \n",
    "\n"
   ]
  },
  {
   "cell_type": "code",
   "execution_count": null,
   "id": "4e0e1be7-12f5-4e38-9e2e-1a9e07983845",
   "metadata": {},
   "outputs": [],
   "source": [
    "print('GSPC_test_macd:\\n',GSPC_test_macd.positions.value_counts(),'\\n')\n",
    "print('pure_mm_cnn_macd:\\n',pure_mm_cnn_macd.positions.value_counts(),'\\n')"
   ]
  },
  {
   "cell_type": "code",
   "execution_count": null,
   "id": "99d4103d",
   "metadata": {},
   "outputs": [],
   "source": [
    "print(GSPC_test[GSPC_test_macd['positions']==1])\n",
    "print(GSPC_test[pure_mm_cnn_macd['positions']==1])"
   ]
  },
  {
   "cell_type": "code",
   "execution_count": null,
   "id": "03f692f6-9ab1-4949-b17a-d1fdf8a8fd91",
   "metadata": {},
   "outputs": [],
   "source": [
    "print(GSPC_test[GSPC_test_macd['positions']==-1])\n",
    "print(GSPC_test[pure_mm_cnn_macd['positions']==-1])"
   ]
  },
  {
   "cell_type": "markdown",
   "id": "e0ac7a62-5a3c-4b12-8df8-4b83a8eee673",
   "metadata": {
    "tags": []
   },
   "source": [
    "## MA"
   ]
  },
  {
   "cell_type": "code",
   "execution_count": null,
   "id": "9736dbcf",
   "metadata": {},
   "outputs": [],
   "source": [
    "def MA(dataset,short_window = 10,long_window = 50):\n",
    "    # Initiate short and long windows\n",
    "\n",
    "    # Initialise the `signals` dataframe and add the `signal` column\n",
    "    signals = pd.DataFrame(index=dataset.index)\n",
    "    signals['signal'] = 0.0\n",
    "\n",
    "    # Calculate short term simple moving averages\n",
    "    signals['short_mavg'] = dataset['Adj Close'].rolling(window=short_window, min_periods=1).mean()\n",
    "\n",
    "    # Calculate long term simple moving averages\n",
    "    signals['long_mavg'] = dataset['Adj Close'].rolling(window=long_window, min_periods=1).mean()\n",
    "\n",
    "    # Generate signal\n",
    "    signals['signal'][short_window:] = np.where(signals['short_mavg'][short_window:] \n",
    "                                                > signals['long_mavg'][short_window:], 1.0, 0.0)   \n",
    "\n",
    "    # Generate trading orders\n",
    "    signals['positions'] = signals['signal'].diff()\n",
    "    return signals"
   ]
  },
  {
   "cell_type": "code",
   "execution_count": null,
   "id": "a4d22103",
   "metadata": {},
   "outputs": [],
   "source": [
    "GSPC_test_ma=MA(GSPC_test,short_window = 10,long_window = 50)\n",
    "pure_mm_cnn_ma=MA(pure_mm_cnn,short_window = 10,long_window = 50)\n",
    "#pure_mm_lstm_ma=MA(pure_mm_lstm,short_window = 10,long_window = 50)\n",
    "\n",
    "plt.figure(figsize=(15,9),dpi=150)\n",
    "plt.subplot(3,1,1)\n",
    "plt.title('GSPC_test')\n",
    "plt.plot(GSPC_test['Adj Close'], color='r', lw=1,label='Close')\n",
    "plt.plot(GSPC_test_ma[['short_mavg', 'long_mavg']], lw=2,label=['short_mavg', 'long_mavg'])\n",
    "plt.plot(GSPC_test_ma.loc[GSPC_test_ma.positions == 1.0].index, \n",
    "         GSPC_test_ma.short_mavg[GSPC_test_ma.positions == 1.0],\n",
    "         '^', markersize=5, color='m',label='long')\n",
    "plt.plot(GSPC_test_ma.loc[GSPC_test_ma.positions == -1.0].index, \n",
    "         GSPC_test_ma.short_mavg[GSPC_test_ma.positions == -1.0],\n",
    "         'v', markersize=5, color='k',label='short')\n",
    "plt.legend()         \n",
    "\n",
    "\n",
    "plt.subplot(3,1,2)\n",
    "plt.title('pure_mm_cnn')\n",
    "plt.plot(pure_mm_cnn['Adj Close'], color='r', lw=1,label='Close')\n",
    "plt.plot(pure_mm_cnn_ma[['short_mavg', 'long_mavg']], lw=2,label=['short_mavg', 'long_mavg'])\n",
    "plt.plot(pure_mm_cnn_ma.loc[pure_mm_cnn_ma.positions == 1.0].index, \n",
    "         pure_mm_cnn_ma.short_mavg[pure_mm_cnn_ma.positions == 1.0],\n",
    "         '^', markersize=5, color='m',label='long')\n",
    "plt.plot(pure_mm_cnn_ma.loc[pure_mm_cnn_ma.positions == -1.0].index, \n",
    "         pure_mm_cnn_ma.short_mavg[pure_mm_cnn_ma.positions == -1.0],\n",
    "         'v', markersize=5, color='k',label='short')\n",
    "plt.legend()   \n",
    "\n"
   ]
  },
  {
   "cell_type": "code",
   "execution_count": null,
   "id": "6c3dd28d-fb87-494f-a030-5284217c1ae7",
   "metadata": {},
   "outputs": [],
   "source": [
    "print('GSPC_test_ma:\\n',GSPC_test_ma.positions.value_counts(),'\\n')\n",
    "print('pure_mm_cnn_ma:\\n',pure_mm_cnn_ma.positions.value_counts(),'\\n')"
   ]
  },
  {
   "cell_type": "code",
   "execution_count": null,
   "id": "ee134478",
   "metadata": {},
   "outputs": [],
   "source": [
    "print(GSPC_test[GSPC_test_ma['positions']==1])\n",
    "print(GSPC_test[pure_mm_cnn_ma['positions']==1])"
   ]
  },
  {
   "cell_type": "code",
   "execution_count": null,
   "id": "32310988-b727-4dd0-aeba-555503d61de3",
   "metadata": {},
   "outputs": [],
   "source": [
    "print(GSPC_test[GSPC_test_ma['positions']==-1])\n",
    "print(GSPC_test[pure_mm_cnn_ma['positions']==-1])"
   ]
  },
  {
   "cell_type": "markdown",
   "id": "e5d9f4ea-b928-48d9-aa4e-c176a6081095",
   "metadata": {
    "tags": []
   },
   "source": [
    "## Strategies backtest"
   ]
  },
  {
   "cell_type": "code",
   "execution_count": null,
   "id": "ddffcb32-c3a6-441c-933d-b35997a257ac",
   "metadata": {},
   "outputs": [],
   "source": [
    "def combinesig(dataset,dataset1,dataset2,dataset3):    \n",
    "    dataset_backtesting=pd.DataFrame()\n",
    "    dataset_backtesting['Adj Close']=dataset['Adj Close']\n",
    "    dataset_backtesting['masig']=dataset1['positions']\n",
    "    dataset_backtesting['macdsig']=dataset2['positions']\n",
    "    dataset_backtesting['bbsig']=dataset3['signal']\n",
    "    return dataset_backtesting"
   ]
  },
  {
   "cell_type": "code",
   "execution_count": null,
   "id": "4e3bffff-aa8e-4d2c-ad81-d88409aba349",
   "metadata": {},
   "outputs": [],
   "source": [
    "GSPC_backtesting=combinesig(GSPC_test,GSPC_test_ma,GSPC_test_macd,GSPC_test_signal)\n",
    "pure_mm_cnn_backtesting=combinesig(GSPC_test,pure_mm_cnn_ma,pure_mm_cnn_macd,pure_mm_cnn_signal)\n"
   ]
  },
  {
   "cell_type": "code",
   "execution_count": null,
   "id": "2671606b-fd20-4b96-b447-8bea5683f274",
   "metadata": {},
   "outputs": [],
   "source": [
    "def backtest(dataset,asset=1e8, signal=''):\n",
    "    share_number = 0\n",
    "    cash = asset\n",
    "    for i in range(len(dataset)):\n",
    "        if dataset[signal][i]==1:\n",
    "            share_number=share_number+cash//(100*dataset['Adj Close'][i])*100\n",
    "            if cash//(100*dataset['Adj Close'][i])*100>0:\n",
    "                cash=cash-cash//(100*dataset['Adj Close'][i])*100*dataset['Adj Close'][i]\n",
    "        elif dataset[signal][i]==-1:\n",
    "            cash=cash+share_number*dataset['Adj Close'][i]\n",
    "            share_number=0\n",
    "    asset_now=cash+share_number*dataset['Adj Close'][i]\n",
    "    return_value=(asset_now-asset)/asset\n",
    "    return return_value"
   ]
  },
  {
   "cell_type": "code",
   "execution_count": null,
   "id": "ddcb5ecf-2ac7-449a-b196-b2f0129622a7",
   "metadata": {},
   "outputs": [],
   "source": [
    "mareturn=backtest(GSPC_backtesting,signal='masig')\n",
    "mareturn_cnn=backtest(pure_mm_cnn_backtesting,signal='masig')\n",
    "print(mareturn)\n",
    "print(mareturn_cnn)\n"
   ]
  },
  {
   "cell_type": "code",
   "execution_count": null,
   "id": "1c1df1bd-6a35-4c1c-aef5-192fadb244c6",
   "metadata": {},
   "outputs": [],
   "source": [
    "macdreturn=backtest(GSPC_backtesting,signal='macdsig')\n",
    "macdreturn_cnn=backtest(pure_mm_cnn_backtesting,signal='macdsig')\n",
    "#mareturn_lstm=backtest(pure_mm_lstm_backtesting,signal='macdsig')\n",
    "print(macdreturn)\n",
    "print(macdreturn_cnn)\n",
    "#print(mareturn_lstm)"
   ]
  },
  {
   "cell_type": "code",
   "execution_count": null,
   "id": "e2ece839-95f9-4907-8443-ef3017e98f65",
   "metadata": {},
   "outputs": [],
   "source": [
    "bbreturn=backtest(GSPC_backtesting,signal='bbsig')\n",
    "bbreturn_cnn=backtest(pure_mm_cnn_backtesting,signal='bbsig')\n",
    "print(bbreturn)\n",
    "print(bbreturn_cnn)\n"
   ]
  },
  {
   "cell_type": "code",
   "execution_count": null,
   "id": "89d88485-dff0-49ef-ba7a-25067e3b260e",
   "metadata": {},
   "outputs": [],
   "source": []
  },
  {
   "cell_type": "code",
   "execution_count": null,
   "id": "df593810-dcbd-434b-b31e-9a88fd50d895",
   "metadata": {},
   "outputs": [],
   "source": []
  }
 ],
 "metadata": {
  "kernelspec": {
   "display_name": "Python 3 (ipykernel)",
   "language": "python",
   "name": "python3"
  },
  "language_info": {
   "codemirror_mode": {
    "name": "ipython",
    "version": 3
   },
   "file_extension": ".py",
   "mimetype": "text/x-python",
   "name": "python",
   "nbconvert_exporter": "python",
   "pygments_lexer": "ipython3",
   "version": "3.8.2"
  }
 },
 "nbformat": 4,
 "nbformat_minor": 5
}
