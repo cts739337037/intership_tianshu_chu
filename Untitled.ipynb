{
 "cells": [
  {
   "cell_type": "markdown",
   "id": "f7cf3822-90be-43cc-86da-eb744d44d814",
   "metadata": {},
   "source": [
    "# HalvingGridSearchCV"
   ]
  },
  {
   "cell_type": "code",
   "execution_count": 119,
   "id": "56e61d17-d71e-4be6-becd-e13c35bdeb0c",
   "metadata": {
    "jupyter": {
     "source_hidden": true
    },
    "tags": []
   },
   "outputs": [
    {
     "name": "stdout",
     "output_type": "stream",
     "text": [
      "n_iterations: 4\n",
      "n_required_iterations: 4\n",
      "n_possible_iterations: 4\n",
      "min_resources_: 15\n",
      "max_resources_: 410\n",
      "aggressive_elimination: False\n",
      "factor: 3\n",
      "----------\n",
      "iter: 0\n",
      "n_candidates: 80\n",
      "n_resources: 15\n",
      "Fitting 5 folds for each of 80 candidates, totalling 400 fits\n",
      "----------\n",
      "iter: 1\n",
      "n_candidates: 27\n",
      "n_resources: 45\n",
      "Fitting 5 folds for each of 27 candidates, totalling 135 fits\n",
      "----------\n",
      "iter: 2\n",
      "n_candidates: 9\n",
      "n_resources: 135\n",
      "Fitting 5 folds for each of 9 candidates, totalling 45 fits\n",
      "----------\n",
      "iter: 3\n",
      "n_candidates: 3\n",
      "n_resources: 405\n",
      "Fitting 5 folds for each of 3 candidates, totalling 15 fits\n",
      "Optimal values for hyperparameters: {'learning_rate': 0.05, 'max_depth': 10, 'n_estimators': 700}\n",
      "Best model score: -2898.6674468501114\n"
     ]
    }
   ],
   "source": [
    "# In the following we pass the data into the grid search model and output the hyperparameter optimal values.\n",
    "reg = xgb.XGBRegressor(eval_metric=mean_squared_error)  # Building the model\n",
    "grid_search = HalvingGridSearchCV(reg, parameters, scoring='neg_mean_squared_error',verbose=1,cv=None) \n",
    "grid_search.fit(recon_fea.iloc[train_index,:],original_m.iloc[train_index,:])  # Input data\n",
    "print(\"Optimal values for hyperparameters:\",grid_search.best_params_)\n",
    "print(\"Best model score:\",grid_search.best_score_)"
   ]
  },
  {
   "cell_type": "code",
   "execution_count": 120,
   "id": "a76e45bf-b91c-4abf-8007-41c62e477d40",
   "metadata": {},
   "outputs": [
    {
     "data": {
      "text/plain": [
       "3812.6943"
      ]
     },
     "execution_count": 120,
     "metadata": {},
     "output_type": "execute_result"
    }
   ],
   "source": [
    "model = xgb.XGBRegressor(\n",
    "                        n_estimators=700,\n",
    "                        max_depth=10,\n",
    "                        learning_rate=0.05,)\n",
    "model.fit (recon_fea.iloc[train_index,:],original_m.iloc[train_index,:])\n",
    "test_predict=model.predict(recon_fea.iloc[test_index,:])\n",
    "msetest=mean_squared_error(recon_m.iloc[test_index,:],test_predict)\n",
    "msetest"
   ]
  },
  {
   "cell_type": "code",
   "execution_count": 79,
   "id": "ac15354d-421e-4866-83ff-6a04d38b13ee",
   "metadata": {},
   "outputs": [
    {
     "name": "stdout",
     "output_type": "stream",
     "text": [
      "n_iterations: 4\n",
      "n_required_iterations: 4\n",
      "n_possible_iterations: 4\n",
      "min_resources_: 15\n",
      "max_resources_: 410\n",
      "aggressive_elimination: False\n",
      "factor: 3\n",
      "----------\n",
      "iter: 0\n",
      "n_candidates: 80\n",
      "n_resources: 15\n",
      "Fitting 5 folds for each of 80 candidates, totalling 400 fits\n",
      "----------\n",
      "iter: 1\n",
      "n_candidates: 27\n",
      "n_resources: 45\n",
      "Fitting 5 folds for each of 27 candidates, totalling 135 fits\n",
      "----------\n",
      "iter: 2\n",
      "n_candidates: 9\n",
      "n_resources: 135\n",
      "Fitting 5 folds for each of 9 candidates, totalling 45 fits\n",
      "----------\n",
      "iter: 3\n",
      "n_candidates: 3\n",
      "n_resources: 405\n",
      "Fitting 5 folds for each of 3 candidates, totalling 15 fits\n",
      "Optimal values for hyperparameters: {'learning_rate': 0.15, 'max_depth': 5, 'n_estimators': 300}\n",
      "Best model score: -2915.9951960251656\n"
     ]
    }
   ],
   "source": [
    "# In the following we pass the data into the grid search model and output the hyperparameter optimal values.\n",
    "reg = xgb.XGBRegressor(eval_metric=mean_squared_error)  # Building the model\n",
    "grid_search = HalvingGridSearchCV(reg, parameters, scoring='neg_mean_squared_error',verbose=1,cv=None) \n",
    "grid_search.fit(original_fea.iloc[train_index,:],original_m.iloc[train_index,:])  # Input data\n",
    "print(\"Optimal values for hyperparameters:\",grid_search.best_params_)\n",
    "print(\"Best model score:\",grid_search.best_score_)"
   ]
  },
  {
   "cell_type": "code",
   "execution_count": 92,
   "id": "ddde9bdd-ceda-4eb1-ab5a-7046a742300b",
   "metadata": {},
   "outputs": [
    {
     "data": {
      "text/plain": [
       "6056.945171569906"
      ]
     },
     "execution_count": 92,
     "metadata": {},
     "output_type": "execute_result"
    }
   ],
   "source": [
    "model = xgb.XGBRegressor(\n",
    "                        n_estimators=300,\n",
    "                        max_depth=5,\n",
    "                        learning_rate=0.15,)\n",
    "model.fit (original_fea.iloc[train_index,:],original_m.iloc[train_index,:])\n",
    "test_predict=model.predict(original_fea.iloc[test_index,:])\n",
    "msetest=mean_squared_error(original_m.iloc[test_index,:],test_predict)\n",
    "msetest"
   ]
  },
  {
   "cell_type": "markdown",
   "id": "31ab44cb-c0d7-4979-a726-47a0a988eac6",
   "metadata": {},
   "source": [
    "# HalvingRandomSearchCV"
   ]
  },
  {
   "cell_type": "code",
   "execution_count": 64,
   "id": "04fefd55-3ebe-48c2-85d0-8431e0f936c1",
   "metadata": {},
   "outputs": [
    {
     "name": "stdout",
     "output_type": "stream",
     "text": [
      "n_iterations: 4\n",
      "n_required_iterations: 4\n",
      "n_possible_iterations: 4\n",
      "min_resources_: 10\n",
      "max_resources_: 410\n",
      "aggressive_elimination: False\n",
      "factor: 3\n",
      "----------\n",
      "iter: 0\n",
      "n_candidates: 41\n",
      "n_resources: 10\n",
      "Fitting 5 folds for each of 41 candidates, totalling 205 fits\n",
      "----------\n",
      "iter: 1\n",
      "n_candidates: 14\n",
      "n_resources: 30\n",
      "Fitting 5 folds for each of 14 candidates, totalling 70 fits\n",
      "----------\n",
      "iter: 2\n",
      "n_candidates: 5\n",
      "n_resources: 90\n",
      "Fitting 5 folds for each of 5 candidates, totalling 25 fits\n",
      "----------\n",
      "iter: 3\n",
      "n_candidates: 2\n",
      "n_resources: 270\n",
      "Fitting 5 folds for each of 2 candidates, totalling 10 fits\n",
      "Optimal values for hyperparameters: {'subsample': 0.95, 'scale_pos_weight': 0.8, 'reg_lambda': 1, 'reg_alpha': 0.5, 'n_estimators': 700, 'min_child_weight': 2, 'max_depth': 5, 'max_delta_step': 0, 'learning_rate': 0.05, 'gamma': 0.01, 'colsample_bytree': 0.8}\n",
      "Best model score: -3293.8798336280715\n"
     ]
    }
   ],
   "source": [
    "regran = xgb.XGBRegressor(eval_metric=mean_squared_error)  \n",
    "Rgrid_search = HalvingRandomSearchCV(regran, parameters, scoring='neg_mean_squared_error', verbose=1,cv=None) \n",
    "Rgrid_search.fit(recon_fea.iloc[train_index,:],original_m.iloc[train_index,:]) \n",
    "print(\"Optimal values for hyperparameters:\",Rgrid_search.best_params_)\n",
    "print(\"Best model score:\",Rgrid_search.best_score_)"
   ]
  },
  {
   "cell_type": "code",
   "execution_count": 108,
   "id": "6b665bfb-6202-4e65-a99a-735cb654edfe",
   "metadata": {},
   "outputs": [
    {
     "data": {
      "text/plain": [
       "3892.7922"
      ]
     },
     "execution_count": 108,
     "metadata": {},
     "output_type": "execute_result"
    }
   ],
   "source": [
    "model = xgb.XGBRegressor(subsample=0.95,\n",
    "                        scale_pos_weight=0.8,\n",
    "                        reg_lambda=1,\n",
    "                        reg_alpha=0.5,\n",
    "                        n_estimators=700,\n",
    "                        min_child_weight=2,\n",
    "                        max_depth=5,\n",
    "                        #max_delta_step=0,\n",
    "                        learning_rate=0.05,\n",
    "                        gamma=0.01,\n",
    "                        colsample_bytree=0.8)\n",
    "model.fit (recon_fea.iloc[train_index,:],original_m.iloc[train_index,:])\n",
    "test_predict=model.predict(recon_fea.iloc[test_index,:])\n",
    "msetest=mean_squared_error(recon_m.iloc[test_index,:],test_predict)\n",
    "msetest"
   ]
  },
  {
   "cell_type": "code",
   "execution_count": 81,
   "id": "17803988-3c98-418c-957c-16d254f15832",
   "metadata": {},
   "outputs": [
    {
     "name": "stdout",
     "output_type": "stream",
     "text": [
      "n_iterations: 4\n",
      "n_required_iterations: 4\n",
      "n_possible_iterations: 4\n",
      "min_resources_: 10\n",
      "max_resources_: 410\n",
      "aggressive_elimination: False\n",
      "factor: 3\n",
      "----------\n",
      "iter: 0\n",
      "n_candidates: 41\n",
      "n_resources: 10\n",
      "Fitting 5 folds for each of 41 candidates, totalling 205 fits\n",
      "----------\n",
      "iter: 1\n",
      "n_candidates: 14\n",
      "n_resources: 30\n",
      "Fitting 5 folds for each of 14 candidates, totalling 70 fits\n",
      "----------\n",
      "iter: 2\n",
      "n_candidates: 5\n",
      "n_resources: 90\n",
      "Fitting 5 folds for each of 5 candidates, totalling 25 fits\n",
      "----------\n",
      "iter: 3\n",
      "n_candidates: 2\n",
      "n_resources: 270\n",
      "Fitting 5 folds for each of 2 candidates, totalling 10 fits\n",
      "Optimal values for hyperparameters: {'subsample': 0.85, 'scale_pos_weight': 0.8, 'reg_lambda': 0.8, 'reg_alpha': 0.75, 'n_estimators': 500, 'min_child_weight': 0, 'max_depth': 3, 'max_delta_step': 0, 'learning_rate': 0.1, 'gamma': 0, 'colsample_bytree': 0.8}\n",
      "Best model score: -2961.964498879512\n"
     ]
    }
   ],
   "source": [
    "regran = xgb.XGBRegressor(eval_metric=mean_squared_error)  \n",
    "Rgrid_search = HalvingRandomSearchCV(regran, parameters, scoring='neg_mean_squared_error', verbose=1,cv=None) \n",
    "Rgrid_search.fit(original_fea.iloc[train_index,:],original_m.iloc[train_index,:]) \n",
    "print(\"Optimal values for hyperparameters:\",Rgrid_search.best_params_)\n",
    "print(\"Best model score:\",Rgrid_search.best_score_)"
   ]
  },
  {
   "cell_type": "code",
   "execution_count": 96,
   "id": "a9b660ec-14d2-43f7-8d4b-882c2cfedd06",
   "metadata": {},
   "outputs": [
    {
     "data": {
      "text/plain": [
       "4712.277113956649"
      ]
     },
     "execution_count": 96,
     "metadata": {},
     "output_type": "execute_result"
    }
   ],
   "source": [
    "model = xgb.XGBRegressor(subsample=0.85,\n",
    "                        scale_pos_weight=0.8,\n",
    "                        reg_lambda=0.8,\n",
    "                        reg_alpha=0.75,\n",
    "                        n_estimators=500,\n",
    "                        min_child_weight=0,\n",
    "                        max_depth=3,\n",
    "                        #max_delta_step=0,\n",
    "                        learning_rate=0.1,\n",
    "                        gamma=0,\n",
    "                        colsample_bytree=0.8)\n",
    "model.fit (original_fea.iloc[train_index,:],original_m.iloc[train_index,:])\n",
    "test_predict=model.predict(original_fea.iloc[test_index,:])\n",
    "msetest=mean_squared_error(original_m.iloc[test_index,:],test_predict)\n",
    "msetest"
   ]
  },
  {
   "cell_type": "markdown",
   "id": "ff6ebe01-ca9d-4420-a305-31ea7cae6b16",
   "metadata": {},
   "source": [
    "# BayesianOptimization"
   ]
  },
  {
   "cell_type": "code",
   "execution_count": 110,
   "id": "9ff17025-0e78-420b-b9bb-6abfc99a60af",
   "metadata": {},
   "outputs": [
    {
     "name": "stdout",
     "output_type": "stream",
     "text": [
      "|   iter    |  target   | colsam... |   gamma   | learni... | max_depth | min_ch... | n_esti... | reg_alpha | reg_la... | scale_... | subsample |\n",
      "-------------------------------------------------------------------------------------------------------------------------------------------------\n",
      "| \u001b[0m 1       \u001b[0m | \u001b[0m-4.446e+0\u001b[0m | \u001b[0m 0.5458  \u001b[0m | \u001b[0m 0.3204  \u001b[0m | \u001b[0m 0.1729  \u001b[0m | \u001b[0m 16.56   \u001b[0m | \u001b[0m 1.184   \u001b[0m | \u001b[0m 280.4   \u001b[0m | \u001b[0m 0.5001  \u001b[0m | \u001b[0m 0.8669  \u001b[0m | \u001b[0m 0.4247  \u001b[0m | \u001b[0m 0.5818  \u001b[0m |\n",
      "| \u001b[95m 2       \u001b[0m | \u001b[95m-2.808e+0\u001b[0m | \u001b[95m 0.625   \u001b[0m | \u001b[95m 0.2087  \u001b[0m | \u001b[95m 0.1133  \u001b[0m | \u001b[95m 7.586   \u001b[0m | \u001b[95m 0.4195  \u001b[0m | \u001b[95m 164.2   \u001b[0m | \u001b[95m 0.1086  \u001b[0m | \u001b[95m 0.3796  \u001b[0m | \u001b[95m 0.2437  \u001b[0m | \u001b[95m 0.8724  \u001b[0m |\n",
      "| \u001b[0m 3       \u001b[0m | \u001b[0m-3.48e+03\u001b[0m | \u001b[0m 0.6278  \u001b[0m | \u001b[0m 0.1281  \u001b[0m | \u001b[0m 0.1712  \u001b[0m | \u001b[0m 10.55   \u001b[0m | \u001b[0m 0.2489  \u001b[0m | \u001b[0m 660.2   \u001b[0m | \u001b[0m 0.2136  \u001b[0m | \u001b[0m 0.3004  \u001b[0m | \u001b[0m 0.5276  \u001b[0m | \u001b[0m 0.6012  \u001b[0m |\n",
      "| \u001b[0m 4       \u001b[0m | \u001b[0m-4.796e+0\u001b[0m | \u001b[0m 0.9445  \u001b[0m | \u001b[0m 0.1363  \u001b[0m | \u001b[0m 0.1098  \u001b[0m | \u001b[0m 4.055   \u001b[0m | \u001b[0m 1.685   \u001b[0m | \u001b[0m 534.7   \u001b[0m | \u001b[0m 0.1978  \u001b[0m | \u001b[0m 0.9292  \u001b[0m | \u001b[0m 0.5223  \u001b[0m | \u001b[0m 0.8356  \u001b[0m |\n",
      "| \u001b[0m 5       \u001b[0m | \u001b[0m-4.616e+0\u001b[0m | \u001b[0m 0.9543  \u001b[0m | \u001b[0m 0.152   \u001b[0m | \u001b[0m 0.1342  \u001b[0m | \u001b[0m 5.773   \u001b[0m | \u001b[0m 1.377   \u001b[0m | \u001b[0m 536.3   \u001b[0m | \u001b[0m 0.3002  \u001b[0m | \u001b[0m 0.9755  \u001b[0m | \u001b[0m 0.4601  \u001b[0m | \u001b[0m 0.9111  \u001b[0m |\n",
      "| \u001b[0m 6       \u001b[0m | \u001b[0m-3.37e+03\u001b[0m | \u001b[0m 0.6077  \u001b[0m | \u001b[0m 0.4288  \u001b[0m | \u001b[0m 0.1398  \u001b[0m | \u001b[0m 5.946   \u001b[0m | \u001b[0m 0.4088  \u001b[0m | \u001b[0m 151.5   \u001b[0m | \u001b[0m 0.377   \u001b[0m | \u001b[0m 0.5174  \u001b[0m | \u001b[0m 0.4828  \u001b[0m | \u001b[0m 0.774   \u001b[0m |\n",
      "| \u001b[0m 7       \u001b[0m | \u001b[0m-2.112e+0\u001b[0m | \u001b[0m 1.0     \u001b[0m | \u001b[0m 1.0     \u001b[0m | \u001b[0m 0.01    \u001b[0m | \u001b[0m 20.0    \u001b[0m | \u001b[0m 0.0     \u001b[0m | \u001b[0m 171.7   \u001b[0m | \u001b[0m 1.0     \u001b[0m | \u001b[0m 0.2     \u001b[0m | \u001b[0m 1.0     \u001b[0m | \u001b[0m 1.0     \u001b[0m |\n",
      "| \u001b[0m 8       \u001b[0m | \u001b[0m-4.164e+0\u001b[0m | \u001b[0m 0.9885  \u001b[0m | \u001b[0m 0.00723 \u001b[0m | \u001b[0m 0.1489  \u001b[0m | \u001b[0m 10.89   \u001b[0m | \u001b[0m 0.6091  \u001b[0m | \u001b[0m 676.4   \u001b[0m | \u001b[0m 0.6143  \u001b[0m | \u001b[0m 0.3259  \u001b[0m | \u001b[0m 0.7593  \u001b[0m | \u001b[0m 0.867   \u001b[0m |\n",
      "| \u001b[0m 9       \u001b[0m | \u001b[0m-4.301e+0\u001b[0m | \u001b[0m 0.7831  \u001b[0m | \u001b[0m 0.2346  \u001b[0m | \u001b[0m 0.1999  \u001b[0m | \u001b[0m 16.5    \u001b[0m | \u001b[0m 0.1757  \u001b[0m | \u001b[0m 523.6   \u001b[0m | \u001b[0m 0.924   \u001b[0m | \u001b[0m 0.9964  \u001b[0m | \u001b[0m 0.2243  \u001b[0m | \u001b[0m 1.0     \u001b[0m |\n",
      "| \u001b[0m 10      \u001b[0m | \u001b[0m-3.592e+0\u001b[0m | \u001b[0m 1.0     \u001b[0m | \u001b[0m 1.0     \u001b[0m | \u001b[0m 0.01    \u001b[0m | \u001b[0m 1.998   \u001b[0m | \u001b[0m 0.0     \u001b[0m | \u001b[0m 515.0   \u001b[0m | \u001b[0m 0.01    \u001b[0m | \u001b[0m 0.2     \u001b[0m | \u001b[0m 1.0     \u001b[0m | \u001b[0m 1.0     \u001b[0m |\n",
      "| \u001b[0m 11      \u001b[0m | \u001b[0m-5.348e+0\u001b[0m | \u001b[0m 0.6898  \u001b[0m | \u001b[0m 0.9149  \u001b[0m | \u001b[0m 0.1455  \u001b[0m | \u001b[0m 17.21   \u001b[0m | \u001b[0m 0.2528  \u001b[0m | \u001b[0m 506.6   \u001b[0m | \u001b[0m 0.8157  \u001b[0m | \u001b[0m 0.7297  \u001b[0m | \u001b[0m 0.7945  \u001b[0m | \u001b[0m 0.9062  \u001b[0m |\n",
      "| \u001b[0m 12      \u001b[0m | \u001b[0m-4.159e+0\u001b[0m | \u001b[0m 0.8824  \u001b[0m | \u001b[0m 0.0     \u001b[0m | \u001b[0m 0.2     \u001b[0m | \u001b[0m 1.813   \u001b[0m | \u001b[0m 2.0     \u001b[0m | \u001b[0m 497.5   \u001b[0m | \u001b[0m 1.0     \u001b[0m | \u001b[0m 1.0     \u001b[0m | \u001b[0m 0.2     \u001b[0m | \u001b[0m 0.5     \u001b[0m |\n",
      "| \u001b[0m 13      \u001b[0m | \u001b[0m-4.531e+0\u001b[0m | \u001b[0m 0.5636  \u001b[0m | \u001b[0m 1.0     \u001b[0m | \u001b[0m 0.01    \u001b[0m | \u001b[0m 16.56   \u001b[0m | \u001b[0m 0.0     \u001b[0m | \u001b[0m 488.1   \u001b[0m | \u001b[0m 0.01    \u001b[0m | \u001b[0m 0.2     \u001b[0m | \u001b[0m 1.0     \u001b[0m | \u001b[0m 1.0     \u001b[0m |\n",
      "| \u001b[0m 14      \u001b[0m | \u001b[0m-5.964e+0\u001b[0m | \u001b[0m 0.7568  \u001b[0m | \u001b[0m 0.5344  \u001b[0m | \u001b[0m 0.1322  \u001b[0m | \u001b[0m 1.025   \u001b[0m | \u001b[0m 1.745   \u001b[0m | \u001b[0m 479.5   \u001b[0m | \u001b[0m 0.7691  \u001b[0m | \u001b[0m 0.4747  \u001b[0m | \u001b[0m 0.6173  \u001b[0m | \u001b[0m 0.9682  \u001b[0m |\n",
      "| \u001b[0m 15      \u001b[0m | \u001b[0m-4.806e+0\u001b[0m | \u001b[0m 1.0     \u001b[0m | \u001b[0m 0.0     \u001b[0m | \u001b[0m 0.2     \u001b[0m | \u001b[0m 16.82   \u001b[0m | \u001b[0m 2.0     \u001b[0m | \u001b[0m 470.2   \u001b[0m | \u001b[0m 1.0     \u001b[0m | \u001b[0m 1.0     \u001b[0m | \u001b[0m 0.2     \u001b[0m | \u001b[0m 0.5     \u001b[0m |\n",
      "| \u001b[0m 16      \u001b[0m | \u001b[0m-3.944e+0\u001b[0m | \u001b[0m 0.5     \u001b[0m | \u001b[0m 1.0     \u001b[0m | \u001b[0m 0.01    \u001b[0m | \u001b[0m 1.8     \u001b[0m | \u001b[0m 0.0     \u001b[0m | \u001b[0m 461.0   \u001b[0m | \u001b[0m 0.01    \u001b[0m | \u001b[0m 0.2     \u001b[0m | \u001b[0m 1.0     \u001b[0m | \u001b[0m 1.0     \u001b[0m |\n",
      "| \u001b[0m 17      \u001b[0m | \u001b[0m-4.021e+0\u001b[0m | \u001b[0m 1.0     \u001b[0m | \u001b[0m 0.0     \u001b[0m | \u001b[0m 0.2     \u001b[0m | \u001b[0m 16.59   \u001b[0m | \u001b[0m 2.0     \u001b[0m | \u001b[0m 452.1   \u001b[0m | \u001b[0m 1.0     \u001b[0m | \u001b[0m 1.0     \u001b[0m | \u001b[0m 0.2     \u001b[0m | \u001b[0m 1.0     \u001b[0m |\n",
      "| \u001b[0m 18      \u001b[0m | \u001b[0m-5.679e+0\u001b[0m | \u001b[0m 0.5085  \u001b[0m | \u001b[0m 0.7179  \u001b[0m | \u001b[0m 0.124   \u001b[0m | \u001b[0m 1.211   \u001b[0m | \u001b[0m 1.411   \u001b[0m | \u001b[0m 443.4   \u001b[0m | \u001b[0m 0.176   \u001b[0m | \u001b[0m 0.7884  \u001b[0m | \u001b[0m 0.7784  \u001b[0m | \u001b[0m 0.5096  \u001b[0m |\n",
      "| \u001b[0m 19      \u001b[0m | \u001b[0m-5.623e+0\u001b[0m | \u001b[0m 0.6817  \u001b[0m | \u001b[0m 0.7009  \u001b[0m | \u001b[0m 0.1351  \u001b[0m | \u001b[0m 15.97   \u001b[0m | \u001b[0m 0.2742  \u001b[0m | \u001b[0m 434.7   \u001b[0m | \u001b[0m 0.9185  \u001b[0m | \u001b[0m 0.9613  \u001b[0m | \u001b[0m 0.518   \u001b[0m | \u001b[0m 0.9362  \u001b[0m |\n",
      "| \u001b[0m 20      \u001b[0m | \u001b[0m-6.559e+0\u001b[0m | \u001b[0m 0.8221  \u001b[0m | \u001b[0m 0.6985  \u001b[0m | \u001b[0m 0.1319  \u001b[0m | \u001b[0m 1.398   \u001b[0m | \u001b[0m 0.6028  \u001b[0m | \u001b[0m 424.8   \u001b[0m | \u001b[0m 0.5107  \u001b[0m | \u001b[0m 0.5035  \u001b[0m | \u001b[0m 0.9076  \u001b[0m | \u001b[0m 0.7443  \u001b[0m |\n",
      "| \u001b[0m 21      \u001b[0m | \u001b[0m-6.138e+0\u001b[0m | \u001b[0m 0.5     \u001b[0m | \u001b[0m 0.0     \u001b[0m | \u001b[0m 0.01    \u001b[0m | \u001b[0m 17.9    \u001b[0m | \u001b[0m 2.0     \u001b[0m | \u001b[0m 416.5   \u001b[0m | \u001b[0m 0.01    \u001b[0m | \u001b[0m 1.0     \u001b[0m | \u001b[0m 0.2     \u001b[0m | \u001b[0m 0.5     \u001b[0m |\n",
      "| \u001b[0m 22      \u001b[0m | \u001b[0m-5.952e+0\u001b[0m | \u001b[0m 1.0     \u001b[0m | \u001b[0m 1.0     \u001b[0m | \u001b[0m 0.2     \u001b[0m | \u001b[0m 3.169   \u001b[0m | \u001b[0m 0.0     \u001b[0m | \u001b[0m 406.2   \u001b[0m | \u001b[0m 1.0     \u001b[0m | \u001b[0m 0.7146  \u001b[0m | \u001b[0m 1.0     \u001b[0m | \u001b[0m 1.0     \u001b[0m |\n",
      "| \u001b[0m 23      \u001b[0m | \u001b[0m-3.84e+03\u001b[0m | \u001b[0m 0.9435  \u001b[0m | \u001b[0m 0.1477  \u001b[0m | \u001b[0m 0.1611  \u001b[0m | \u001b[0m 19.85   \u001b[0m | \u001b[0m 1.495   \u001b[0m | \u001b[0m 398.7   \u001b[0m | \u001b[0m 0.1545  \u001b[0m | \u001b[0m 0.5561  \u001b[0m | \u001b[0m 0.7873  \u001b[0m | \u001b[0m 0.9756  \u001b[0m |\n",
      "| \u001b[0m 24      \u001b[0m | \u001b[0m-6.964e+0\u001b[0m | \u001b[0m 0.5     \u001b[0m | \u001b[0m 0.0     \u001b[0m | \u001b[0m 0.01    \u001b[0m | \u001b[0m 6.464   \u001b[0m | \u001b[0m 2.0     \u001b[0m | \u001b[0m 388.7   \u001b[0m | \u001b[0m 0.01    \u001b[0m | \u001b[0m 1.0     \u001b[0m | \u001b[0m 0.2     \u001b[0m | \u001b[0m 0.5     \u001b[0m |\n",
      "| \u001b[0m 25      \u001b[0m | \u001b[0m-4.618e+0\u001b[0m | \u001b[0m 1.0     \u001b[0m | \u001b[0m 1.0     \u001b[0m | \u001b[0m 0.05129 \u001b[0m | \u001b[0m 1.0     \u001b[0m | \u001b[0m 2.0     \u001b[0m | \u001b[0m 646.8   \u001b[0m | \u001b[0m 1.0     \u001b[0m | \u001b[0m 0.3498  \u001b[0m | \u001b[0m 0.5451  \u001b[0m | \u001b[0m 1.0     \u001b[0m |\n",
      "| \u001b[0m 26      \u001b[0m | \u001b[0m-3.123e+0\u001b[0m | \u001b[0m 0.8442  \u001b[0m | \u001b[0m 0.4894  \u001b[0m | \u001b[0m 0.1636  \u001b[0m | \u001b[0m 18.28   \u001b[0m | \u001b[0m 1.653   \u001b[0m | \u001b[0m 646.4   \u001b[0m | \u001b[0m 0.7443  \u001b[0m | \u001b[0m 0.3454  \u001b[0m | \u001b[0m 0.4107  \u001b[0m | \u001b[0m 0.8577  \u001b[0m |\n",
      "| \u001b[0m 27      \u001b[0m | \u001b[0m-4.812e+0\u001b[0m | \u001b[0m 0.9677  \u001b[0m | \u001b[0m 0.3214  \u001b[0m | \u001b[0m 0.178   \u001b[0m | \u001b[0m 10.9    \u001b[0m | \u001b[0m 1.529   \u001b[0m | \u001b[0m 632.5   \u001b[0m | \u001b[0m 0.5548  \u001b[0m | \u001b[0m 0.4811  \u001b[0m | \u001b[0m 0.6013  \u001b[0m | \u001b[0m 0.5848  \u001b[0m |\n",
      "| \u001b[0m 28      \u001b[0m | \u001b[0m-5.291e+0\u001b[0m | \u001b[0m 0.7101  \u001b[0m | \u001b[0m 0.2719  \u001b[0m | \u001b[0m 0.0594  \u001b[0m | \u001b[0m 12.79   \u001b[0m | \u001b[0m 0.8189  \u001b[0m | \u001b[0m 297.0   \u001b[0m | \u001b[0m 0.4622  \u001b[0m | \u001b[0m 0.8436  \u001b[0m | \u001b[0m 0.39    \u001b[0m | \u001b[0m 0.504   \u001b[0m |\n",
      "| \u001b[0m 29      \u001b[0m | \u001b[0m-2.162e+0\u001b[0m | \u001b[0m 1.0     \u001b[0m | \u001b[0m 0.0     \u001b[0m | \u001b[0m 0.01    \u001b[0m | \u001b[0m 1.0     \u001b[0m | \u001b[0m 0.0     \u001b[0m | \u001b[0m 284.7   \u001b[0m | \u001b[0m 0.01    \u001b[0m | \u001b[0m 0.2     \u001b[0m | \u001b[0m 0.2     \u001b[0m | \u001b[0m 1.0     \u001b[0m |\n",
      "| \u001b[0m 30      \u001b[0m | \u001b[0m-3.085e+0\u001b[0m | \u001b[0m 1.0     \u001b[0m | \u001b[0m 1.0     \u001b[0m | \u001b[0m 0.2     \u001b[0m | \u001b[0m 20.0    \u001b[0m | \u001b[0m 0.0     \u001b[0m | \u001b[0m 380.6   \u001b[0m | \u001b[0m 1.0     \u001b[0m | \u001b[0m 0.2     \u001b[0m | \u001b[0m 1.0     \u001b[0m | \u001b[0m 1.0     \u001b[0m |\n",
      "=================================================================================================================================================\n"
     ]
    },
    {
     "data": {
      "text/plain": [
       "{'target': -2808.346923828125,\n",
       " 'params': {'colsample_bytree': 0.6250240657125132,\n",
       "  'gamma': 0.2087050775499325,\n",
       "  'learning_rate': 0.11327462293428892,\n",
       "  'max_depth': 8,\n",
       "  'min_child_weight': 0,\n",
       "  'n_estimators': 164,\n",
       "  'reg_alpha': 0.10864882193448801,\n",
       "  'reg_lambda': 0.3796216821663187,\n",
       "  'scale_pos_weight': 0.2437258033784372,\n",
       "  'subsample': 0.8723612983099438}}"
      ]
     },
     "execution_count": 110,
     "metadata": {},
     "output_type": "execute_result"
    }
   ],
   "source": [
    "rf_bo = BayesianOptimization(\n",
    "        rf_do,\n",
    "                {'max_depth':(1,20),\n",
    "                'learning_rate': (0.01,0.2),\n",
    "                'n_estimators': (100,1000),\n",
    "                'min_child_weight': (0,2),\n",
    "                #'max_delta_step': (0.01,1),\n",
    "                'subsample':(0.5,1),\n",
    "                'colsample_bytree': (0.5,1),\n",
    "                'reg_alpha': (0.01,1),\n",
    "                'reg_lambda': (0.2,1),\n",
    "                'scale_pos_weight': (0.2,1),\n",
    "                'gamma':(0,1)}\n",
    "    )\n",
    "rf_bo.maximize()#init_points=20, n_iter=10\n",
    "rf_bo_p=rf_bo.max\n",
    "rf_bo_p['params']['max_depth'] = round(rf_bo_p['params']['max_depth'])\n",
    "rf_bo_p['params']['n_estimators'] = round(rf_bo_p['params']['n_estimators'])\n",
    "rf_bo_p['params']['min_child_weight'] = round(rf_bo_p['params']['min_child_weight'])\n",
    "rf_bo_p"
   ]
  },
  {
   "cell_type": "code",
   "execution_count": 112,
   "id": "dbb5ece4-9d58-4ad9-920a-14d22777e8f6",
   "metadata": {},
   "outputs": [
    {
     "data": {
      "text/plain": [
       "2808.347"
      ]
     },
     "execution_count": 112,
     "metadata": {},
     "output_type": "execute_result"
    }
   ],
   "source": [
    "model = xgb.XGBRegressor(subsample=0.8723612983099438,\n",
    "                        scale_pos_weight=0.2437258033784372,\n",
    "                        reg_lambda=0.3796216821663187,\n",
    "                        reg_alpha=0.10864882193448801,\n",
    "                        n_estimators=164,\n",
    "                        min_child_weight=0,\n",
    "                        max_depth=8,\n",
    "                        #max_delta_step=0,\n",
    "                        learning_rate=0.11327462293428892,\n",
    "                        gamma=0.2087050775499325,\n",
    "                        colsample_bytree=0.6250240657125132)\n",
    "model.fit (recon_fea.iloc[train_index,:],original_m.iloc[train_index,:])\n",
    "test_predict=model.predict(recon_fea.iloc[test_index,:])\n",
    "msetest=mean_squared_error(recon_m.iloc[test_index,:],test_predict)\n",
    "msetest"
   ]
  },
  {
   "cell_type": "code",
   "execution_count": 103,
   "id": "00d91c22-797b-47c4-842c-e2e0d70c0115",
   "metadata": {},
   "outputs": [
    {
     "name": "stdout",
     "output_type": "stream",
     "text": [
      "|   iter    |  target   | colsam... |   gamma   | learni... | max_depth | min_ch... | n_esti... | reg_alpha | reg_la... | scale_... | subsample |\n",
      "-------------------------------------------------------------------------------------------------------------------------------------------------\n",
      "| \u001b[0m 1       \u001b[0m | \u001b[0m-4.036e+0\u001b[0m | \u001b[0m 0.9134  \u001b[0m | \u001b[0m 0.641   \u001b[0m | \u001b[0m 0.1682  \u001b[0m | \u001b[0m 4.754   \u001b[0m | \u001b[0m 1.384   \u001b[0m | \u001b[0m 369.2   \u001b[0m | \u001b[0m 0.5821  \u001b[0m | \u001b[0m 0.973   \u001b[0m | \u001b[0m 0.5039  \u001b[0m | \u001b[0m 0.7087  \u001b[0m |\n",
      "| \u001b[95m 2       \u001b[0m | \u001b[95m-3.483e+0\u001b[0m | \u001b[95m 0.9094  \u001b[0m | \u001b[95m 0.6796  \u001b[0m | \u001b[95m 0.1615  \u001b[0m | \u001b[95m 11.26   \u001b[0m | \u001b[95m 0.9227  \u001b[0m | \u001b[95m 876.6   \u001b[0m | \u001b[95m 0.9423  \u001b[0m | \u001b[95m 0.2579  \u001b[0m | \u001b[95m 0.7886  \u001b[0m | \u001b[95m 0.991   \u001b[0m |\n",
      "| \u001b[0m 3       \u001b[0m | \u001b[0m-3.991e+0\u001b[0m | \u001b[0m 0.9449  \u001b[0m | \u001b[0m 0.519   \u001b[0m | \u001b[0m 0.09816 \u001b[0m | \u001b[0m 2.851   \u001b[0m | \u001b[0m 1.099   \u001b[0m | \u001b[0m 161.4   \u001b[0m | \u001b[0m 0.5965  \u001b[0m | \u001b[0m 0.564   \u001b[0m | \u001b[0m 0.302   \u001b[0m | \u001b[0m 0.9692  \u001b[0m |\n",
      "| \u001b[0m 4       \u001b[0m | \u001b[0m-4.017e+0\u001b[0m | \u001b[0m 0.6073  \u001b[0m | \u001b[0m 0.9454  \u001b[0m | \u001b[0m 0.01314 \u001b[0m | \u001b[0m 14.91   \u001b[0m | \u001b[0m 0.2307  \u001b[0m | \u001b[0m 871.5   \u001b[0m | \u001b[0m 0.7606  \u001b[0m | \u001b[0m 0.9954  \u001b[0m | \u001b[0m 0.3697  \u001b[0m | \u001b[0m 0.8334  \u001b[0m |\n",
      "| \u001b[0m 5       \u001b[0m | \u001b[0m-3.667e+0\u001b[0m | \u001b[0m 0.5405  \u001b[0m | \u001b[0m 0.9561  \u001b[0m | \u001b[0m 0.09145 \u001b[0m | \u001b[0m 15.27   \u001b[0m | \u001b[0m 0.6211  \u001b[0m | \u001b[0m 463.4   \u001b[0m | \u001b[0m 0.8489  \u001b[0m | \u001b[0m 0.2419  \u001b[0m | \u001b[0m 0.5605  \u001b[0m | \u001b[0m 0.6351  \u001b[0m |\n",
      "| \u001b[0m 6       \u001b[0m | \u001b[0m-3.957e+0\u001b[0m | \u001b[0m 0.795   \u001b[0m | \u001b[0m 0.1393  \u001b[0m | \u001b[0m 0.01737 \u001b[0m | \u001b[0m 15.3    \u001b[0m | \u001b[0m 0.965   \u001b[0m | \u001b[0m 546.7   \u001b[0m | \u001b[0m 0.2938  \u001b[0m | \u001b[0m 0.7493  \u001b[0m | \u001b[0m 0.3635  \u001b[0m | \u001b[0m 0.6738  \u001b[0m |\n",
      "| \u001b[0m 7       \u001b[0m | \u001b[0m-4.064e+0\u001b[0m | \u001b[0m 0.6006  \u001b[0m | \u001b[0m 0.2138  \u001b[0m | \u001b[0m 0.01641 \u001b[0m | \u001b[0m 1.141   \u001b[0m | \u001b[0m 1.878   \u001b[0m | \u001b[0m 928.3   \u001b[0m | \u001b[0m 0.5575  \u001b[0m | \u001b[0m 0.6763  \u001b[0m | \u001b[0m 0.3296  \u001b[0m | \u001b[0m 0.9362  \u001b[0m |\n",
      "| \u001b[0m 8       \u001b[0m | \u001b[0m-4.516e+0\u001b[0m | \u001b[0m 0.9832  \u001b[0m | \u001b[0m 0.9069  \u001b[0m | \u001b[0m 0.1658  \u001b[0m | \u001b[0m 14.4    \u001b[0m | \u001b[0m 0.05294 \u001b[0m | \u001b[0m 955.6   \u001b[0m | \u001b[0m 0.03331 \u001b[0m | \u001b[0m 0.8413  \u001b[0m | \u001b[0m 0.8839  \u001b[0m | \u001b[0m 0.9635  \u001b[0m |\n",
      "| \u001b[0m 9       \u001b[0m | \u001b[0m-5.208e+0\u001b[0m | \u001b[0m 0.9226  \u001b[0m | \u001b[0m 0.4507  \u001b[0m | \u001b[0m 0.1741  \u001b[0m | \u001b[0m 6.723   \u001b[0m | \u001b[0m 0.02784 \u001b[0m | \u001b[0m 922.1   \u001b[0m | \u001b[0m 0.3818  \u001b[0m | \u001b[0m 0.9152  \u001b[0m | \u001b[0m 0.7576  \u001b[0m | \u001b[0m 0.666   \u001b[0m |\n",
      "| \u001b[0m 10      \u001b[0m | \u001b[0m-4.29e+03\u001b[0m | \u001b[0m 0.7885  \u001b[0m | \u001b[0m 0.4053  \u001b[0m | \u001b[0m 0.06365 \u001b[0m | \u001b[0m 11.92   \u001b[0m | \u001b[0m 0.6555  \u001b[0m | \u001b[0m 877.3   \u001b[0m | \u001b[0m 0.6317  \u001b[0m | \u001b[0m 0.335   \u001b[0m | \u001b[0m 0.405   \u001b[0m | \u001b[0m 0.8208  \u001b[0m |\n",
      "| \u001b[0m 11      \u001b[0m | \u001b[0m-5.279e+0\u001b[0m | \u001b[0m 0.7274  \u001b[0m | \u001b[0m 0.4659  \u001b[0m | \u001b[0m 0.03439 \u001b[0m | \u001b[0m 1.552   \u001b[0m | \u001b[0m 1.642   \u001b[0m | \u001b[0m 679.3   \u001b[0m | \u001b[0m 0.4052  \u001b[0m | \u001b[0m 0.2444  \u001b[0m | \u001b[0m 0.9859  \u001b[0m | \u001b[0m 0.6884  \u001b[0m |\n",
      "| \u001b[0m 12      \u001b[0m | \u001b[0m-3.866e+0\u001b[0m | \u001b[0m 0.874   \u001b[0m | \u001b[0m 0.222   \u001b[0m | \u001b[0m 0.1176  \u001b[0m | \u001b[0m 16.24   \u001b[0m | \u001b[0m 0.1404  \u001b[0m | \u001b[0m 835.0   \u001b[0m | \u001b[0m 0.4329  \u001b[0m | \u001b[0m 0.5868  \u001b[0m | \u001b[0m 0.6756  \u001b[0m | \u001b[0m 0.8708  \u001b[0m |\n",
      "| \u001b[0m 13      \u001b[0m | \u001b[0m-5.88e+03\u001b[0m | \u001b[0m 0.7649  \u001b[0m | \u001b[0m 0.1163  \u001b[0m | \u001b[0m 0.1531  \u001b[0m | \u001b[0m 5.54    \u001b[0m | \u001b[0m 0.863   \u001b[0m | \u001b[0m 468.2   \u001b[0m | \u001b[0m 0.2364  \u001b[0m | \u001b[0m 0.2834  \u001b[0m | \u001b[0m 0.5531  \u001b[0m | \u001b[0m 0.5363  \u001b[0m |\n",
      "| \u001b[0m 14      \u001b[0m | \u001b[0m-4.123e+0\u001b[0m | \u001b[0m 0.7405  \u001b[0m | \u001b[0m 0.3262  \u001b[0m | \u001b[0m 0.04069 \u001b[0m | \u001b[0m 11.63   \u001b[0m | \u001b[0m 1.451   \u001b[0m | \u001b[0m 876.3   \u001b[0m | \u001b[0m 0.2809  \u001b[0m | \u001b[0m 0.3612  \u001b[0m | \u001b[0m 0.9216  \u001b[0m | \u001b[0m 0.9863  \u001b[0m |\n",
      "| \u001b[0m 15      \u001b[0m | \u001b[0m-3.936e+0\u001b[0m | \u001b[0m 0.6276  \u001b[0m | \u001b[0m 0.4296  \u001b[0m | \u001b[0m 0.1727  \u001b[0m | \u001b[0m 14.67   \u001b[0m | \u001b[0m 0.3137  \u001b[0m | \u001b[0m 463.3   \u001b[0m | \u001b[0m 0.147   \u001b[0m | \u001b[0m 0.3694  \u001b[0m | \u001b[0m 0.8399  \u001b[0m | \u001b[0m 0.5721  \u001b[0m |\n",
      "| \u001b[0m 16      \u001b[0m | \u001b[0m-5.061e+0\u001b[0m | \u001b[0m 0.5864  \u001b[0m | \u001b[0m 0.6966  \u001b[0m | \u001b[0m 0.1594  \u001b[0m | \u001b[0m 15.44   \u001b[0m | \u001b[0m 0.9735  \u001b[0m | \u001b[0m 464.8   \u001b[0m | \u001b[0m 0.8854  \u001b[0m | \u001b[0m 0.9119  \u001b[0m | \u001b[0m 0.2308  \u001b[0m | \u001b[0m 0.5519  \u001b[0m |\n",
      "| \u001b[0m 17      \u001b[0m | \u001b[0m-4.445e+0\u001b[0m | \u001b[0m 0.6554  \u001b[0m | \u001b[0m 0.7664  \u001b[0m | \u001b[0m 0.1115  \u001b[0m | \u001b[0m 15.49   \u001b[0m | \u001b[0m 0.008605\u001b[0m | \u001b[0m 463.5   \u001b[0m | \u001b[0m 0.1132  \u001b[0m | \u001b[0m 0.2535  \u001b[0m | \u001b[0m 0.5466  \u001b[0m | \u001b[0m 0.81    \u001b[0m |\n",
      "| \u001b[0m 18      \u001b[0m | \u001b[0m-3.722e+0\u001b[0m | \u001b[0m 0.8186  \u001b[0m | \u001b[0m 0.5748  \u001b[0m | \u001b[0m 0.05182 \u001b[0m | \u001b[0m 15.18   \u001b[0m | \u001b[0m 1.278   \u001b[0m | \u001b[0m 463.1   \u001b[0m | \u001b[0m 0.8899  \u001b[0m | \u001b[0m 0.7663  \u001b[0m | \u001b[0m 0.619   \u001b[0m | \u001b[0m 0.821   \u001b[0m |\n",
      "| \u001b[0m 19      \u001b[0m | \u001b[0m-6.842e+0\u001b[0m | \u001b[0m 0.923   \u001b[0m | \u001b[0m 0.7161  \u001b[0m | \u001b[0m 0.17    \u001b[0m | \u001b[0m 9.741   \u001b[0m | \u001b[0m 0.7636  \u001b[0m | \u001b[0m 875.9   \u001b[0m | \u001b[0m 0.9198  \u001b[0m | \u001b[0m 0.4023  \u001b[0m | \u001b[0m 0.574   \u001b[0m | \u001b[0m 0.5151  \u001b[0m |\n",
      "| \u001b[0m 20      \u001b[0m | \u001b[0m-5.057e+0\u001b[0m | \u001b[0m 0.9498  \u001b[0m | \u001b[0m 0.9566  \u001b[0m | \u001b[0m 0.1958  \u001b[0m | \u001b[0m 14.77   \u001b[0m | \u001b[0m 1.08    \u001b[0m | \u001b[0m 463.2   \u001b[0m | \u001b[0m 0.59    \u001b[0m | \u001b[0m 0.4256  \u001b[0m | \u001b[0m 0.7671  \u001b[0m | \u001b[0m 0.8845  \u001b[0m |\n",
      "| \u001b[0m 21      \u001b[0m | \u001b[0m-4.709e+0\u001b[0m | \u001b[0m 0.6525  \u001b[0m | \u001b[0m 0.3689  \u001b[0m | \u001b[0m 0.1322  \u001b[0m | \u001b[0m 13.99   \u001b[0m | \u001b[0m 1.487   \u001b[0m | \u001b[0m 548.8   \u001b[0m | \u001b[0m 0.6396  \u001b[0m | \u001b[0m 0.4489  \u001b[0m | \u001b[0m 0.6812  \u001b[0m | \u001b[0m 0.5195  \u001b[0m |\n",
      "| \u001b[0m 22      \u001b[0m | \u001b[0m-4.219e+0\u001b[0m | \u001b[0m 0.8569  \u001b[0m | \u001b[0m 0.6963  \u001b[0m | \u001b[0m 0.1412  \u001b[0m | \u001b[0m 18.86   \u001b[0m | \u001b[0m 1.188   \u001b[0m | \u001b[0m 343.1   \u001b[0m | \u001b[0m 0.8837  \u001b[0m | \u001b[0m 0.7235  \u001b[0m | \u001b[0m 0.4853  \u001b[0m | \u001b[0m 0.9977  \u001b[0m |\n",
      "| \u001b[0m 23      \u001b[0m | \u001b[0m-5.248e+0\u001b[0m | \u001b[0m 0.9668  \u001b[0m | \u001b[0m 0.7301  \u001b[0m | \u001b[0m 0.0989  \u001b[0m | \u001b[0m 12.16   \u001b[0m | \u001b[0m 0.866   \u001b[0m | \u001b[0m 679.3   \u001b[0m | \u001b[0m 0.608   \u001b[0m | \u001b[0m 0.6212  \u001b[0m | \u001b[0m 0.9652  \u001b[0m | \u001b[0m 0.515   \u001b[0m |\n",
      "| \u001b[95m 24      \u001b[0m | \u001b[95m-3.173e+0\u001b[0m | \u001b[95m 0.6552  \u001b[0m | \u001b[95m 0.6945  \u001b[0m | \u001b[95m 0.1662  \u001b[0m | \u001b[95m 6.013   \u001b[0m | \u001b[95m 1.027   \u001b[0m | \u001b[95m 285.1   \u001b[0m | \u001b[95m 0.4886  \u001b[0m | \u001b[95m 0.915   \u001b[0m | \u001b[95m 0.2989  \u001b[0m | \u001b[95m 0.6149  \u001b[0m |\n",
      "| \u001b[0m 25      \u001b[0m | \u001b[0m-4.069e+0\u001b[0m | \u001b[0m 0.8189  \u001b[0m | \u001b[0m 0.9868  \u001b[0m | \u001b[0m 0.01017 \u001b[0m | \u001b[0m 16.79   \u001b[0m | \u001b[0m 0.09066 \u001b[0m | \u001b[0m 815.2   \u001b[0m | \u001b[0m 0.6193  \u001b[0m | \u001b[0m 0.5789  \u001b[0m | \u001b[0m 0.716   \u001b[0m | \u001b[0m 0.6883  \u001b[0m |\n",
      "| \u001b[0m 26      \u001b[0m | \u001b[0m-5.181e+0\u001b[0m | \u001b[0m 0.6728  \u001b[0m | \u001b[0m 0.7218  \u001b[0m | \u001b[0m 0.1496  \u001b[0m | \u001b[0m 3.404   \u001b[0m | \u001b[0m 0.08425 \u001b[0m | \u001b[0m 557.7   \u001b[0m | \u001b[0m 0.5219  \u001b[0m | \u001b[0m 0.6555  \u001b[0m | \u001b[0m 0.7679  \u001b[0m | \u001b[0m 0.7448  \u001b[0m |\n",
      "| \u001b[0m 27      \u001b[0m | \u001b[0m-3.969e+0\u001b[0m | \u001b[0m 0.5435  \u001b[0m | \u001b[0m 0.5666  \u001b[0m | \u001b[0m 0.04071 \u001b[0m | \u001b[0m 4.557   \u001b[0m | \u001b[0m 0.3164  \u001b[0m | \u001b[0m 544.0   \u001b[0m | \u001b[0m 0.8196  \u001b[0m | \u001b[0m 0.3316  \u001b[0m | \u001b[0m 0.7901  \u001b[0m | \u001b[0m 0.9201  \u001b[0m |\n",
      "| \u001b[0m 28      \u001b[0m | \u001b[0m-3.728e+0\u001b[0m | \u001b[0m 0.9312  \u001b[0m | \u001b[0m 0.05236 \u001b[0m | \u001b[0m 0.1863  \u001b[0m | \u001b[0m 9.235   \u001b[0m | \u001b[0m 1.163   \u001b[0m | \u001b[0m 419.0   \u001b[0m | \u001b[0m 0.7531  \u001b[0m | \u001b[0m 0.3881  \u001b[0m | \u001b[0m 0.557   \u001b[0m | \u001b[0m 0.8744  \u001b[0m |\n",
      "| \u001b[0m 29      \u001b[0m | \u001b[0m-3.534e+0\u001b[0m | \u001b[0m 0.9407  \u001b[0m | \u001b[0m 0.738   \u001b[0m | \u001b[0m 0.02834 \u001b[0m | \u001b[0m 10.55   \u001b[0m | \u001b[0m 0.3467  \u001b[0m | \u001b[0m 560.5   \u001b[0m | \u001b[0m 0.958   \u001b[0m | \u001b[0m 0.2515  \u001b[0m | \u001b[0m 0.4038  \u001b[0m | \u001b[0m 0.9607  \u001b[0m |\n",
      "| \u001b[0m 30      \u001b[0m | \u001b[0m-6.408e+0\u001b[0m | \u001b[0m 0.6635  \u001b[0m | \u001b[0m 0.9557  \u001b[0m | \u001b[0m 0.1161  \u001b[0m | \u001b[0m 1.202   \u001b[0m | \u001b[0m 0.4833  \u001b[0m | \u001b[0m 235.8   \u001b[0m | \u001b[0m 0.1828  \u001b[0m | \u001b[0m 0.6189  \u001b[0m | \u001b[0m 0.3421  \u001b[0m | \u001b[0m 0.7789  \u001b[0m |\n",
      "=================================================================================================================================================\n"
     ]
    },
    {
     "data": {
      "text/plain": [
       "{'target': -3172.633911044132,\n",
       " 'params': {'colsample_bytree': 0.6551725771075417,\n",
       "  'gamma': 0.6944931007146619,\n",
       "  'learning_rate': 0.1662356968946176,\n",
       "  'max_depth': 6,\n",
       "  'min_child_weight': 1,\n",
       "  'n_estimators': 285,\n",
       "  'reg_alpha': 0.4886371317692776,\n",
       "  'reg_lambda': 0.9149620265630654,\n",
       "  'scale_pos_weight': 0.2988930118437814,\n",
       "  'subsample': 0.6149351015941134}}"
      ]
     },
     "execution_count": 103,
     "metadata": {},
     "output_type": "execute_result"
    }
   ],
   "source": [
    "rf_bo = BayesianOptimization(\n",
    "        rf_oo,\n",
    "                {'max_depth':(1,20),\n",
    "                'learning_rate': (0.01,0.2),\n",
    "                'n_estimators': (100,1000),\n",
    "                'min_child_weight': (0,2),\n",
    "                #'max_delta_step': (0.01,1),\n",
    "                'subsample':(0.5,1),\n",
    "                'colsample_bytree': (0.5,1),\n",
    "                'reg_alpha': (0.01,1),\n",
    "                'reg_lambda': (0.2,1),\n",
    "                'scale_pos_weight': (0.2,1),\n",
    "                'gamma':(0,1)}\n",
    "    )\n",
    "rf_bo.maximize()#init_points=20, n_iter=10\n",
    "rf_bo_p=rf_bo.max\n",
    "rf_bo_p['params']['max_depth'] = round(rf_bo_p['params']['max_depth'])\n",
    "rf_bo_p['params']['n_estimators'] = round(rf_bo_p['params']['n_estimators'])\n",
    "rf_bo_p['params']['min_child_weight'] = round(rf_bo_p['params']['min_child_weight'])\n",
    "rf_bo_p"
   ]
  },
  {
   "cell_type": "code",
   "execution_count": 100,
   "id": "bf61501d-180a-4a0f-9832-4e0731d1d3cd",
   "metadata": {},
   "outputs": [
    {
     "data": {
      "text/plain": [
       "3231.2334074755995"
      ]
     },
     "execution_count": 100,
     "metadata": {},
     "output_type": "execute_result"
    }
   ],
   "source": [
    "model = xgb.XGBRegressor(subsample=1.0,\n",
    "                        scale_pos_weight=0.9393020594208785,\n",
    "                        reg_lambda=0.3742573917024224,\n",
    "                        reg_alpha=0.01,\n",
    "                        n_estimators=893,\n",
    "                        min_child_weight=7,\n",
    "                        max_depth=6,\n",
    "                        max_delta_step=0,\n",
    "                        learning_rate=0.2,\n",
    "                        gamma=0.271363461100033,\n",
    "                        colsample_bytree=0.5178611184076967)\n",
    "model.fit (original_fea.iloc[train_index,:],original_m.iloc[train_index,:])\n",
    "test_predict=model.predict(original_fea.iloc[test_index,:])\n",
    "msetest=mean_squared_error(original_m.iloc[test_index,:],test_predict)\n",
    "msetest"
   ]
  }
 ],
 "metadata": {
  "kernelspec": {
   "display_name": "Python 3 (ipykernel)",
   "language": "python",
   "name": "python3"
  },
  "language_info": {
   "codemirror_mode": {
    "name": "ipython",
    "version": 3
   },
   "file_extension": ".py",
   "mimetype": "text/x-python",
   "name": "python",
   "nbconvert_exporter": "python",
   "pygments_lexer": "ipython3",
   "version": "3.8.2"
  }
 },
 "nbformat": 4,
 "nbformat_minor": 5
}
